{
 "cells": [
  {
   "cell_type": "markdown",
   "metadata": {},
   "source": [
    "Based on this article: https://cambridgespark.com/content/tutorials/implementing-your-own-recommender-systems-in-Python/index.html"
   ]
  },
  {
   "cell_type": "code",
   "execution_count": 1,
   "metadata": {},
   "outputs": [
    {
     "name": "stderr",
     "output_type": "stream",
     "text": [
      "/Users/chenyingcharlene/anaconda3/lib/python3.6/site-packages/sklearn/cross_validation.py:41: DeprecationWarning: This module was deprecated in version 0.18 in favor of the model_selection module into which all the refactored classes and functions are moved. Also note that the interface of the new CV iterators are different from that of this module. This module will be removed in 0.20.\n",
      "  \"This module will be removed in 0.20.\", DeprecationWarning)\n"
     ]
    }
   ],
   "source": [
    "import pandas as pd\n",
    "import matplotlib.pyplot as plt\n",
    "import numpy as np\n",
    "from sklearn import cross_validation as cv\n",
    "from sklearn.metrics.pairwise import pairwise_distances\n",
    "from sklearn.metrics import mean_squared_error\n",
    "from math import sqrt"
   ]
  },
  {
   "cell_type": "code",
   "execution_count": 2,
   "metadata": {},
   "outputs": [],
   "source": [
    "reviews_df = pd.read_json(\"../../dataset/review_10k.json\", lines=True)"
   ]
  },
  {
   "cell_type": "code",
   "execution_count": 3,
   "metadata": {},
   "outputs": [],
   "source": [
    "# This cell creates a unique integer per business_id and a unique integer per user_id. \n",
    "# It then maps the business_id and user_id into business_id_int and user_id_int in the reviews_df.\n",
    "# This is so that when we work with user-business matrices, we are dealing with integers as indexes rather than strings.\n",
    "\n",
    "# Create an integer-based user-id\n",
    "uid_map = {}\n",
    "c = 0\n",
    "for uid in reviews_df.user_id.unique():\n",
    "    uid_map[uid] = c\n",
    "    c += 1\n",
    "\n",
    "# Create an integer-based business-id\n",
    "bid_map = {}\n",
    "c = 0\n",
    "for bid in reviews_df.business_id.unique():\n",
    "    bid_map[bid] = c\n",
    "    c += 1\n",
    "    \n",
    "reviews_df['user_id_int'] = reviews_df.user_id.apply(lambda x: uid_map[x])\n",
    "reviews_df['business_id_int'] = reviews_df.business_id.apply(lambda x: bid_map[x])"
   ]
  },
  {
   "cell_type": "code",
   "execution_count": 4,
   "metadata": {},
   "outputs": [
    {
     "data": {
      "text/html": [
       "<div>\n",
       "<style scoped>\n",
       "    .dataframe tbody tr th:only-of-type {\n",
       "        vertical-align: middle;\n",
       "    }\n",
       "\n",
       "    .dataframe tbody tr th {\n",
       "        vertical-align: top;\n",
       "    }\n",
       "\n",
       "    .dataframe thead th {\n",
       "        text-align: right;\n",
       "    }\n",
       "</style>\n",
       "<table border=\"1\" class=\"dataframe\">\n",
       "  <thead>\n",
       "    <tr style=\"text-align: right;\">\n",
       "      <th></th>\n",
       "      <th>business_id</th>\n",
       "      <th>cool</th>\n",
       "      <th>date</th>\n",
       "      <th>funny</th>\n",
       "      <th>review_id</th>\n",
       "      <th>stars</th>\n",
       "      <th>text</th>\n",
       "      <th>useful</th>\n",
       "      <th>user_id</th>\n",
       "      <th>user_id_int</th>\n",
       "      <th>business_id_int</th>\n",
       "    </tr>\n",
       "  </thead>\n",
       "  <tbody>\n",
       "    <tr>\n",
       "      <th>0</th>\n",
       "      <td>0W4lkclzZThpx3V65bVgig</td>\n",
       "      <td>0</td>\n",
       "      <td>2016-05-28</td>\n",
       "      <td>0</td>\n",
       "      <td>v0i_UHJMo_hPBq9bxWvW4w</td>\n",
       "      <td>5</td>\n",
       "      <td>Love the staff, love the meat, love the place....</td>\n",
       "      <td>0</td>\n",
       "      <td>bv2nCi5Qv5vroFiqKGopiw</td>\n",
       "      <td>0</td>\n",
       "      <td>0</td>\n",
       "    </tr>\n",
       "    <tr>\n",
       "      <th>1</th>\n",
       "      <td>AEx2SYEUJmTxVVB18LlCwA</td>\n",
       "      <td>0</td>\n",
       "      <td>2016-05-28</td>\n",
       "      <td>0</td>\n",
       "      <td>vkVSCC7xljjrAI4UGfnKEQ</td>\n",
       "      <td>5</td>\n",
       "      <td>Super simple place but amazing nonetheless. It...</td>\n",
       "      <td>0</td>\n",
       "      <td>bv2nCi5Qv5vroFiqKGopiw</td>\n",
       "      <td>0</td>\n",
       "      <td>1</td>\n",
       "    </tr>\n",
       "    <tr>\n",
       "      <th>2</th>\n",
       "      <td>VR6GpWIda3SfvPC-lg9H3w</td>\n",
       "      <td>0</td>\n",
       "      <td>2016-05-28</td>\n",
       "      <td>0</td>\n",
       "      <td>n6QzIUObkYshz4dz2QRJTw</td>\n",
       "      <td>5</td>\n",
       "      <td>Small unassuming place that changes their menu...</td>\n",
       "      <td>0</td>\n",
       "      <td>bv2nCi5Qv5vroFiqKGopiw</td>\n",
       "      <td>0</td>\n",
       "      <td>2</td>\n",
       "    </tr>\n",
       "    <tr>\n",
       "      <th>3</th>\n",
       "      <td>CKC0-MOWMqoeWf6s-szl8g</td>\n",
       "      <td>0</td>\n",
       "      <td>2016-05-28</td>\n",
       "      <td>0</td>\n",
       "      <td>MV3CcKScW05u5LVfF6ok0g</td>\n",
       "      <td>5</td>\n",
       "      <td>Lester's is located in a beautiful neighborhoo...</td>\n",
       "      <td>0</td>\n",
       "      <td>bv2nCi5Qv5vroFiqKGopiw</td>\n",
       "      <td>0</td>\n",
       "      <td>3</td>\n",
       "    </tr>\n",
       "    <tr>\n",
       "      <th>4</th>\n",
       "      <td>ACFtxLv8pGrrxMm6EgjreA</td>\n",
       "      <td>0</td>\n",
       "      <td>2016-05-28</td>\n",
       "      <td>0</td>\n",
       "      <td>IXvOzsEMYtiJI0CARmj77Q</td>\n",
       "      <td>4</td>\n",
       "      <td>Love coming here. Yes the place always needs t...</td>\n",
       "      <td>0</td>\n",
       "      <td>bv2nCi5Qv5vroFiqKGopiw</td>\n",
       "      <td>0</td>\n",
       "      <td>4</td>\n",
       "    </tr>\n",
       "    <tr>\n",
       "      <th>5</th>\n",
       "      <td>s2I_Ni76bjJNK9yG60iD-Q</td>\n",
       "      <td>0</td>\n",
       "      <td>2016-05-28</td>\n",
       "      <td>0</td>\n",
       "      <td>L_9BTb55X0GDtThi6GlZ6w</td>\n",
       "      <td>4</td>\n",
       "      <td>Had their chocolate almond croissant and it wa...</td>\n",
       "      <td>0</td>\n",
       "      <td>bv2nCi5Qv5vroFiqKGopiw</td>\n",
       "      <td>0</td>\n",
       "      <td>5</td>\n",
       "    </tr>\n",
       "    <tr>\n",
       "      <th>6</th>\n",
       "      <td>8QWPlVQ6D-OExqXoaD2Z1g</td>\n",
       "      <td>0</td>\n",
       "      <td>2014-09-24</td>\n",
       "      <td>0</td>\n",
       "      <td>HRPm3vEZ_F-33TYVT7Pebw</td>\n",
       "      <td>5</td>\n",
       "      <td>Cycle Pub Las Vegas was a blast! Got a groupon...</td>\n",
       "      <td>1</td>\n",
       "      <td>_4iMDXbXZ1p1ONG297YEAQ</td>\n",
       "      <td>1</td>\n",
       "      <td>6</td>\n",
       "    </tr>\n",
       "    <tr>\n",
       "      <th>7</th>\n",
       "      <td>9_CGhHMz8698M9-PkVf0CQ</td>\n",
       "      <td>2</td>\n",
       "      <td>2012-05-11</td>\n",
       "      <td>0</td>\n",
       "      <td>ymAUG8DZfQcFTBSOiaNN4w</td>\n",
       "      <td>4</td>\n",
       "      <td>Who would have guess that you would be able to...</td>\n",
       "      <td>0</td>\n",
       "      <td>u0LXt3Uea_GidxRW1xcsfg</td>\n",
       "      <td>2</td>\n",
       "      <td>7</td>\n",
       "    </tr>\n",
       "    <tr>\n",
       "      <th>8</th>\n",
       "      <td>gkCorLgPyQLsptTHalL61g</td>\n",
       "      <td>0</td>\n",
       "      <td>2015-10-27</td>\n",
       "      <td>0</td>\n",
       "      <td>8UIishPUD92hXtScSga_gw</td>\n",
       "      <td>4</td>\n",
       "      <td>Always drove past this coffee house and wonder...</td>\n",
       "      <td>1</td>\n",
       "      <td>u0LXt3Uea_GidxRW1xcsfg</td>\n",
       "      <td>2</td>\n",
       "      <td>8</td>\n",
       "    </tr>\n",
       "    <tr>\n",
       "      <th>9</th>\n",
       "      <td>5r6-G9C4YLbC7Ziz57l3rQ</td>\n",
       "      <td>0</td>\n",
       "      <td>2013-02-09</td>\n",
       "      <td>0</td>\n",
       "      <td>w41ZS9shepfO3uEyhXEWuQ</td>\n",
       "      <td>3</td>\n",
       "      <td>Not bad!! Love that there is a gluten-free, ve...</td>\n",
       "      <td>1</td>\n",
       "      <td>u0LXt3Uea_GidxRW1xcsfg</td>\n",
       "      <td>2</td>\n",
       "      <td>9</td>\n",
       "    </tr>\n",
       "  </tbody>\n",
       "</table>\n",
       "</div>"
      ],
      "text/plain": [
       "              business_id  cool       date  funny               review_id  \\\n",
       "0  0W4lkclzZThpx3V65bVgig     0 2016-05-28      0  v0i_UHJMo_hPBq9bxWvW4w   \n",
       "1  AEx2SYEUJmTxVVB18LlCwA     0 2016-05-28      0  vkVSCC7xljjrAI4UGfnKEQ   \n",
       "2  VR6GpWIda3SfvPC-lg9H3w     0 2016-05-28      0  n6QzIUObkYshz4dz2QRJTw   \n",
       "3  CKC0-MOWMqoeWf6s-szl8g     0 2016-05-28      0  MV3CcKScW05u5LVfF6ok0g   \n",
       "4  ACFtxLv8pGrrxMm6EgjreA     0 2016-05-28      0  IXvOzsEMYtiJI0CARmj77Q   \n",
       "5  s2I_Ni76bjJNK9yG60iD-Q     0 2016-05-28      0  L_9BTb55X0GDtThi6GlZ6w   \n",
       "6  8QWPlVQ6D-OExqXoaD2Z1g     0 2014-09-24      0  HRPm3vEZ_F-33TYVT7Pebw   \n",
       "7  9_CGhHMz8698M9-PkVf0CQ     2 2012-05-11      0  ymAUG8DZfQcFTBSOiaNN4w   \n",
       "8  gkCorLgPyQLsptTHalL61g     0 2015-10-27      0  8UIishPUD92hXtScSga_gw   \n",
       "9  5r6-G9C4YLbC7Ziz57l3rQ     0 2013-02-09      0  w41ZS9shepfO3uEyhXEWuQ   \n",
       "\n",
       "   stars                                               text  useful  \\\n",
       "0      5  Love the staff, love the meat, love the place....       0   \n",
       "1      5  Super simple place but amazing nonetheless. It...       0   \n",
       "2      5  Small unassuming place that changes their menu...       0   \n",
       "3      5  Lester's is located in a beautiful neighborhoo...       0   \n",
       "4      4  Love coming here. Yes the place always needs t...       0   \n",
       "5      4  Had their chocolate almond croissant and it wa...       0   \n",
       "6      5  Cycle Pub Las Vegas was a blast! Got a groupon...       1   \n",
       "7      4  Who would have guess that you would be able to...       0   \n",
       "8      4  Always drove past this coffee house and wonder...       1   \n",
       "9      3  Not bad!! Love that there is a gluten-free, ve...       1   \n",
       "\n",
       "                  user_id  user_id_int  business_id_int  \n",
       "0  bv2nCi5Qv5vroFiqKGopiw            0                0  \n",
       "1  bv2nCi5Qv5vroFiqKGopiw            0                1  \n",
       "2  bv2nCi5Qv5vroFiqKGopiw            0                2  \n",
       "3  bv2nCi5Qv5vroFiqKGopiw            0                3  \n",
       "4  bv2nCi5Qv5vroFiqKGopiw            0                4  \n",
       "5  bv2nCi5Qv5vroFiqKGopiw            0                5  \n",
       "6  _4iMDXbXZ1p1ONG297YEAQ            1                6  \n",
       "7  u0LXt3Uea_GidxRW1xcsfg            2                7  \n",
       "8  u0LXt3Uea_GidxRW1xcsfg            2                8  \n",
       "9  u0LXt3Uea_GidxRW1xcsfg            2                9  "
      ]
     },
     "execution_count": 4,
     "metadata": {},
     "output_type": "execute_result"
    }
   ],
   "source": [
    "reviews_df.head(10)"
   ]
  },
  {
   "cell_type": "code",
   "execution_count": 6,
   "metadata": {},
   "outputs": [
    {
     "name": "stdout",
     "output_type": "stream",
     "text": [
      "Number of users = 1059 | Number of businesses = 8261\n"
     ]
    }
   ],
   "source": [
    "df = reviews_df[['user_id_int', 'business_id_int', 'stars']]\n",
    "n_users = df.user_id_int.unique().shape[0]\n",
    "n_businesses = df.business_id_int.unique().shape[0]\n",
    "print ('Number of users = ' + str(n_users) + ' | Number of businesses = ' + str(n_businesses))"
   ]
  },
  {
   "cell_type": "code",
   "execution_count": 7,
   "metadata": {},
   "outputs": [],
   "source": [
    "# Split train and test data\n",
    "train_data, test_data = cv.train_test_split(df, test_size=0.25)"
   ]
  },
  {
   "cell_type": "code",
   "execution_count": 8,
   "metadata": {},
   "outputs": [],
   "source": [
    "#Create two user-item matrices, one for training and another for testing\n",
    "train_data_matrix = np.zeros((n_users, n_businesses))\n",
    "for line in train_data.itertuples():\n",
    "    train_data_matrix[line[1], line[2]] = line[3]\n",
    "\n",
    "test_data_matrix = np.zeros((n_users, n_businesses))\n",
    "for line in test_data.itertuples():\n",
    "    test_data_matrix[line[1], line[2]] = line[3]"
   ]
  },
  {
   "cell_type": "code",
   "execution_count": 17,
   "metadata": {},
   "outputs": [
    {
     "data": {
      "text/plain": [
       "array([[0., 0., 0.],\n",
       "       [0., 0., 0.]])"
      ]
     },
     "execution_count": 17,
     "metadata": {},
     "output_type": "execute_result"
    }
   ],
   "source": [
    "np.zeros((2, 3))"
   ]
  },
  {
   "cell_type": "code",
   "execution_count": 15,
   "metadata": {},
   "outputs": [
    {
     "data": {
      "text/plain": [
       "array([[5., 5., 5., ..., 0., 0., 0.],\n",
       "       [0., 0., 0., ..., 0., 0., 0.],\n",
       "       [4., 0., 0., ..., 0., 0., 0.],\n",
       "       [0., 0., 0., ..., 0., 0., 0.]])"
      ]
     },
     "execution_count": 15,
     "metadata": {},
     "output_type": "execute_result"
    }
   ],
   "source": [
    "train_data_matrix[:4]"
   ]
  },
  {
   "cell_type": "code",
   "execution_count": 9,
   "metadata": {},
   "outputs": [],
   "source": [
    "user_similarity = pairwise_distances(train_data_matrix, metric='cosine')\n",
    "item_similarity = pairwise_distances(train_data_matrix.T, metric='cosine')"
   ]
  },
  {
   "cell_type": "code",
   "execution_count": 35,
   "metadata": {},
   "outputs": [],
   "source": [
    "def predict(ratings, similarity, type='user'):\n",
    "    if type == 'user':\n",
    "        mean_user_rating = ratings.mean(axis=1)\n",
    "        #You use np.newaxis so that mean_user_rating has same format as ratings\n",
    "        ratings_diff = (ratings - mean_user_rating[:, np.newaxis])\n",
    "        pred = mean_user_rating[:, np.newaxis] + similarity.dot(ratings_diff) / np.array([np.abs(similarity).sum(axis=1)]).T\n",
    "    elif type == 'item':\n",
    "        pred = ratings.dot(similarity) / np.array([np.abs(similarity).sum(axis=1)])\n",
    "    return pred"
   ]
  },
  {
   "cell_type": "code",
   "execution_count": 36,
   "metadata": {},
   "outputs": [],
   "source": [
    "item_prediction = predict(train_data_matrix, item_similarity, type='item')\n",
    "user_prediction = predict(train_data_matrix, user_similarity, type='user')"
   ]
  },
  {
   "cell_type": "code",
   "execution_count": 37,
   "metadata": {},
   "outputs": [],
   "source": [
    "def rmse(prediction, ground_truth):\n",
    "    prediction = prediction[ground_truth.nonzero()].flatten()\n",
    "    ground_truth = ground_truth[ground_truth.nonzero()].flatten()\n",
    "    return sqrt(mean_squared_error(prediction, ground_truth))"
   ]
  },
  {
   "cell_type": "code",
   "execution_count": 38,
   "metadata": {},
   "outputs": [
    {
     "name": "stdout",
     "output_type": "stream",
     "text": [
      "User-based CF RMSE: 3.9221491627474765\n",
      "Item-based CF RMSE: 3.920440569052363\n"
     ]
    }
   ],
   "source": [
    "print ('User-based CF RMSE: ' + str(rmse(user_prediction, test_data_matrix)))\n",
    "print ('Item-based CF RMSE: ' + str(rmse(item_prediction, test_data_matrix)))"
   ]
  },
  {
   "cell_type": "code",
   "execution_count": null,
   "metadata": {},
   "outputs": [],
   "source": []
  },
  {
   "cell_type": "code",
   "execution_count": null,
   "metadata": {},
   "outputs": [],
   "source": []
  },
  {
   "cell_type": "code",
   "execution_count": null,
   "metadata": {},
   "outputs": [],
   "source": []
  },
  {
   "cell_type": "code",
   "execution_count": null,
   "metadata": {},
   "outputs": [],
   "source": []
  },
  {
   "cell_type": "code",
   "execution_count": null,
   "metadata": {},
   "outputs": [],
   "source": []
  },
  {
   "cell_type": "markdown",
   "metadata": {},
   "source": [
    "Issue:\n",
    "1) prediction matrix not in the range of 0-5\n",
    "2) binary outcome to align with the other model? (accuracy and f1 score.)\n",
    "3) Do we use RSME as one metrics? LDA doesn't have that one\n",
    "\n",
    "Achieve:\n",
    "1) error analysis dataframe for worst examples \n",
    "2) confusion matrix\n"
   ]
  },
  {
   "cell_type": "code",
   "execution_count": 139,
   "metadata": {
    "scrolled": true
   },
   "outputs": [
    {
     "name": "stdout",
     "output_type": "stream",
     "text": [
      "Range of user_prediction: 0.123\n",
      "Range of user_prediction_round: 0.0\n",
      "Range of test_data_matrix: 5.0\n"
     ]
    }
   ],
   "source": [
    "# it seems that the user_prediction matrix is not in the range of 1-5 (0 if n value). - Charlene\n",
    "print ('Range of user_prediction:', round(np.ptp(user_prediction),3))\n",
    "print ('Range of user_prediction_round:', np.ptp(user_prediction_round))\n",
    "print ('Range of test_data_matrix:', np.ptp(test_data_matrix))"
   ]
  },
  {
   "cell_type": "code",
   "execution_count": 39,
   "metadata": {},
   "outputs": [
    {
     "name": "stdout",
     "output_type": "stream",
     "text": [
      "User-based Rounded CF RMSE: 3.947100201413691\n",
      "Item-based Rounded CF RMSE: 3.947100201413691\n"
     ]
    }
   ],
   "source": [
    "# I think prediction of star rating is intiger as well - Charlene\n",
    "def predict_round(ratings, similarity, type='user'):\n",
    "    if type == 'user':\n",
    "        mean_user_rating = ratings.mean(axis=1)\n",
    "        #You use np.newaxis so that mean_user_rating has same format as ratings\n",
    "        ratings_diff = (ratings - mean_user_rating[:, np.newaxis])\n",
    "        pred = mean_user_rating[:, np.newaxis] + similarity.dot(ratings_diff) / np.array([np.abs(similarity).sum(axis=1)]).T\n",
    "    elif type == 'item':\n",
    "        pred = ratings.dot(similarity) / np.array([np.abs(similarity).sum(axis=1)])\n",
    "    return np.around(pred)\n",
    "\n",
    "item_prediction_round = predict_round(train_data_matrix, item_similarity, type='item')\n",
    "user_prediction_round = predict_round(train_data_matrix, user_similarity, type='user')\n",
    "\n",
    "print ('User-based Rounded CF RMSE: ' + str(rmse(user_prediction_round, test_data_matrix)))\n",
    "print ('Item-based Rounded CF RMSE: ' + str(rmse(item_prediction_round, test_data_matrix)))"
   ]
  },
  {
   "cell_type": "code",
   "execution_count": 208,
   "metadata": {},
   "outputs": [
    {
     "ename": "SyntaxError",
     "evalue": "invalid syntax (<ipython-input-208-7074ab0be9d9>, line 14)",
     "output_type": "error",
     "traceback": [
      "\u001b[0;36m  File \u001b[0;32m\"<ipython-input-208-7074ab0be9d9>\"\u001b[0;36m, line \u001b[0;32m14\u001b[0m\n\u001b[0;31m    else user_prediction_reco[i] = 0\u001b[0m\n\u001b[0m                            ^\u001b[0m\n\u001b[0;31mSyntaxError\u001b[0m\u001b[0;31m:\u001b[0m invalid syntax\n"
     ]
    }
   ],
   "source": [
    "# generate binary recommendation for accuracy and f1 score.\n",
    "\n",
    "from sklearn.metrics import f1_score\n",
    "\n",
    "test_data_matrix_list = list(test_data_matrix[test_data_matrix.nonzero()].flatten())\n",
    "\n",
    "user_prediction_round_list = list(user_prediction_round[test_data_matrix.nonzero()].flatten())\n",
    "item_prediction_round_list = list(item_prediction_round[test_data_matrix.nonzero()].flatten())\n",
    "\n",
    "user_prediction_reco = list()\n",
    "\n",
    "\n",
    "for i in len(user_prediction_round_list):\n",
    "    if user_prediction_round_list[i] >=4:\n",
    "        user_prediction_reco[i] = 1\n",
    "    else user_prediction_reco[i] = 0\n",
    "    if item_prediction_round_list[i] >=4:\n",
    "        item_prediction_reco[i] = 1\n",
    "    else item_prediction_reco[i] = 0\n",
    "    if test_data_matrix_list[i] >=4:\n",
    "        test_reco[i] = 1\n",
    "    else test_reco[i] = 0\n",
    "\n",
    "print ('User-based Rounded F1 score: ' + f1_score(test_reco, user_prediction_reco))\n",
    "print ('Item-based Rounded F1 score: ' + f1_score(test_reco, item_prediction_reco))"
   ]
  },
  {
   "cell_type": "markdown",
   "metadata": {},
   "source": [
    "# Error Aalysis"
   ]
  },
  {
   "cell_type": "code",
   "execution_count": 49,
   "metadata": {},
   "outputs": [
    {
     "data": {
      "text/plain": [
       "array([[ 0.,  0., -0., ...,  0.,  0., -0.],\n",
       "       [ 0.,  0.,  0., ..., -0.,  0., -0.],\n",
       "       [ 0.,  0.,  0., ...,  0.,  0.,  0.],\n",
       "       ...,\n",
       "       [ 0.,  0.,  0., ..., -0.,  0., -0.],\n",
       "       [ 0.,  0.,  0., ..., -0.,  0., -0.],\n",
       "       [ 0.,  0.,  0., ..., -0., -0., -3.]])"
      ]
     },
     "execution_count": 49,
     "metadata": {},
     "output_type": "execute_result"
    }
   ],
   "source": [
    "diff_rating_matrix = np.subtract(user_prediction_round, test_data_matrix)\n",
    "diff_rating_matrix"
   ]
  },
  {
   "cell_type": "code",
   "execution_count": 50,
   "metadata": {},
   "outputs": [
    {
     "data": {
      "text/plain": [
       "-9341.0"
      ]
     },
     "execution_count": 50,
     "metadata": {},
     "output_type": "execute_result"
    }
   ],
   "source": [
    "# Does this make sense? Sum of rating error is so neative?\n",
    "np.sum(diff_rating_matrix)"
   ]
  },
  {
   "cell_type": "code",
   "execution_count": 47,
   "metadata": {},
   "outputs": [
    {
     "data": {
      "text/plain": [
       "41396"
      ]
     },
     "execution_count": 47,
     "metadata": {},
     "output_type": "execute_result"
    }
   ],
   "source": [
    "np.argmax(np.absolute(diff_rating_matrix))"
   ]
  },
  {
   "cell_type": "code",
   "execution_count": 48,
   "metadata": {},
   "outputs": [
    {
     "data": {
      "text/plain": [
       "(0, 0)"
      ]
     },
     "execution_count": 48,
     "metadata": {},
     "output_type": "execute_result"
    }
   ],
   "source": [
    "np.unravel_index(diff_rating_matrix.argmax(), diff_rating_matrix.shape)"
   ]
  },
  {
   "cell_type": "code",
   "execution_count": 82,
   "metadata": {},
   "outputs": [],
   "source": [
    "# Extra the biggest error, which is the rating difference >=5 or 4?\n",
    "# since our prediction of rating can be 0, does that make sense?\n",
    "indices = np.where(np.absolute(diff_rating_matrix) >= 5)\n",
    "\n",
    "user_id_int_x = indices[0]\n",
    "business_id_int_y = indices[1]\n",
    "pred_value = user_prediction_round[list(user_id_int_x),list(business_id_int_y)]\n",
    "starts_value = test_data_matrix[list(user_id_int_x),list(business_id_int_y)]"
   ]
  },
  {
   "cell_type": "code",
   "execution_count": 140,
   "metadata": {
    "scrolled": true
   },
   "outputs": [
    {
     "name": "stderr",
     "output_type": "stream",
     "text": [
      "/Users/chenyingcharlene/anaconda3/lib/python3.6/site-packages/ipykernel_launcher.py:9: SettingWithCopyWarning: \n",
      "A value is trying to be set on a copy of a slice from a DataFrame\n",
      "\n",
      "See the caveats in the documentation: http://pandas.pydata.org/pandas-docs/stable/indexing.html#indexing-view-versus-copy\n",
      "  if __name__ == '__main__':\n",
      "/Users/chenyingcharlene/anaconda3/lib/python3.6/site-packages/ipykernel_launcher.py:11: SettingWithCopyWarning: \n",
      "A value is trying to be set on a copy of a slice from a DataFrame\n",
      "\n",
      "See the caveats in the documentation: http://pandas.pydata.org/pandas-docs/stable/indexing.html#indexing-view-versus-copy\n",
      "  # This is added back by InteractiveShellApp.init_path()\n"
     ]
    }
   ],
   "source": [
    "error_analysis_df = pd.DataFrame(columns=['business_id','user_id','date','text','pred','stars'])\n",
    "error_analysis_df['user_id'] = list(user_id_int_x)\n",
    "error_analysis_df['business_id'] = list(business_id_int_y)\n",
    "error_analysis_df['pred'] = list(pred_value)\n",
    "error_analysis_df['stars'] = list(starts_value)\n",
    "\n",
    "c = 0\n",
    "for i,j in zip(list(business_id_int_y),list(user_id_int_x)):\n",
    "    error_analysis_df['text'][c] = reviews_df_index.loc[i,j]['text']\n",
    "    #error_analysis_df['stars-o'][c] = reviews_df_index.loc[i,j]['stars']\n",
    "    error_analysis_df['date'][c] = reviews_df_index.loc[i,j]['date']\n",
    "    c = c+1\n",
    "    "
   ]
  },
  {
   "cell_type": "code",
   "execution_count": 141,
   "metadata": {
    "scrolled": true
   },
   "outputs": [
    {
     "data": {
      "text/html": [
       "<div>\n",
       "<style scoped>\n",
       "    .dataframe tbody tr th:only-of-type {\n",
       "        vertical-align: middle;\n",
       "    }\n",
       "\n",
       "    .dataframe tbody tr th {\n",
       "        vertical-align: top;\n",
       "    }\n",
       "\n",
       "    .dataframe thead th {\n",
       "        text-align: right;\n",
       "    }\n",
       "</style>\n",
       "<table border=\"1\" class=\"dataframe\">\n",
       "  <thead>\n",
       "    <tr style=\"text-align: right;\">\n",
       "      <th></th>\n",
       "      <th>business_id</th>\n",
       "      <th>user_id</th>\n",
       "      <th>date</th>\n",
       "      <th>text</th>\n",
       "      <th>pred</th>\n",
       "      <th>stars</th>\n",
       "    </tr>\n",
       "  </thead>\n",
       "  <tbody>\n",
       "    <tr>\n",
       "      <th>0</th>\n",
       "      <td>91</td>\n",
       "      <td>5</td>\n",
       "      <td>2009-09-01 00:00:00</td>\n",
       "      <td>We had these guys cater our wedding.  We ended up having 6 different flavors of cake.  All were delicious, although the carrot cake was especially exceptional.  The staff was friendly and prepared. \\n\\nAll around a great experience.</td>\n",
       "      <td>-0.0</td>\n",
       "      <td>5.0</td>\n",
       "    </tr>\n",
       "    <tr>\n",
       "      <th>1</th>\n",
       "      <td>120</td>\n",
       "      <td>8</td>\n",
       "      <td>2013-01-11 00:00:00</td>\n",
       "      <td>I was so surprised to see the negative reviews of this place, after having just had such a good experience there! \\nI went with a bunch of friends from work. Some of the friends has heard that this place KNOWS their wine and ordered a bottle of chianti, which was great (and I'm not a huge wine drinker). \\nThe ladies I was with ordered two caesar salads to share amongst the four of them and the waitress brought them out the salads already split on individual plates, garnished with a garlic bread crouton. I don't think the salads were anything special, but I find that caesar salads in general aren't, so peoples' complaints about them below seem largely unfounded. \\nI ordered the baked goat cheese appetizer...OMG it was SO good. Goat cheese and grilled veggies on top of a portobello mushroom cap, with some sort of sauce and with salad and shredded carrots and balsamic reduction....to DIE for. \\nFor my main I ordered the Penne Gorgonzola, which was also fabulous! The members of my partied ordered the veal parmesan (but grilled veggies instead of the pasta), the salmon with a lobster brandy cream sauce, a NY striploin and fettucine and everyone loved their food. One woman I was with IS a chef, so I feel like that was saying something. \\nNow, since I didn't taste their dishes, I can only expand on my own. The sauce was to DIE for. Creamy, complex and delicious. The pairing of veggies with prosciutto and cheese was excellent. I would order that dish again in a heartbeat! \\nSince we were having a good time and the food had met our expectations, we went for it and ordered dessert (even though we were all stuffed). We all ordered the white chocolate creme brûlée, except one friend who ordered the tiramisu and were once again not disappointed. Our creme brûlées were crackly on the outside and creamy on the inside. Perfect! The tiramisu was apparently great, served very untraditionally in a large plate, with an indentation like a bowl in the middle. \\nI was also pleased to find out that they serve caffeine-free cappuccinos, so we all ordered those as well and it was served with a little almond biscotti and was great!\\n\\nAltogether my meal came to $50 (tip included), which I think is more than I would spend on a normal dinner out, but not crazy. Also note though that I did not pay for the wine and did not order any other drinks. That would obviously have increased the price. \\n\\nThe restaurant atmosphere is nothing special, but I'm disenchanted with the trendy spaces and pretentiously presented food that isn't half as good, so this wasn't a concern for me. The restaurant was clean and comfy, but the furniture was a little on the older side (like the dining chairs you would see in your fussy grandmother's home) and fake paintings on the walls.   \\n\\nThe service was excellent. Our waitress saw to our every need, answered all our questions and came over to chat and make sure we were happy and comfortable regularly. \\n\\nSo, was it perfect? Well as I said, the salad was probably just average and the atmosphere also just average, but those did not pose major problems. I would ultimately give this place 4-1/2, but since I can't and this leaned more to the good than anything remotely bad, it gets a 5! I would go back in a heartbeat!</td>\n",
       "      <td>0.0</td>\n",
       "      <td>5.0</td>\n",
       "    </tr>\n",
       "    <tr>\n",
       "      <th>2</th>\n",
       "      <td>122</td>\n",
       "      <td>8</td>\n",
       "      <td>2012-08-23 00:00:00</td>\n",
       "      <td>We got recommendations for this place from my parents and so, for our anniversary, we booked here. We were told though that it was first come, first served, in terms of having the ideal seats by the windows that overlook the fountains of the Bellagio and The Strip.\\nWe went for lunch though, so it wasn't too busy. We were seated by the window and were promptly served some sort of puffed rolls, with cheese and herbs infused. They were delicious!\\n\\nWe ordered the onion soup to start and I ordered parmesan chicken and my husband ordered a lamb burger. Our food came and was delicious. The soup was probably my favorite part. We were feeling very full by the end and so declined dessert, but were still given some jellies and chocolate truffle and then were served a small chocolate mousse, on a decorated plate that said Happy Anniversary, which was a total surprise (they had asked when I booked if it was a special occasion, but had said nothing while we were there).\\nOverall the service was great, the food delicious and the view wonderful. It was a great experience!</td>\n",
       "      <td>0.0</td>\n",
       "      <td>5.0</td>\n",
       "    </tr>\n",
       "    <tr>\n",
       "      <th>3</th>\n",
       "      <td>144</td>\n",
       "      <td>8</td>\n",
       "      <td>2012-10-08 00:00:00</td>\n",
       "      <td>I have been craving schnitzel for a LONG time, so on the night of my birthday, my husband and I decided to come here. Cafe Polonez was in a great little area, with lots of nice, little shops surrounding it and High Park, of course. \\n\\nThe restaurant is clean and trendy looking and we took a seat, against the wall, in the back. We ordered the platter for two. Since we had never been, it felt like a good idea to try it ALL out. GREAT idea! We were delivered a platter of food that included two schnitzels, two cabbage rolls, 6 perogies and some other sides. Everything was great, but the schnitzel and cabbage rolls in particular were excellent! I ordered two gravies to go with the schnitzel, expecting two, little Swiss Chalet-sized gravies, but instead we got two, huge bowls of gravy. Needless to say, one bowl would have been more than enough for 2 people. They were only $1 apiece, so not the end of the world. \\n\\nPlenty of food for two people and a great sampler platter to see what they have and what you like.\\n\\nService was fast and good and everything was excellent. Totally recommend it and I'll be back. Just thinking about it is making me salivate!</td>\n",
       "      <td>0.0</td>\n",
       "      <td>5.0</td>\n",
       "    </tr>\n",
       "    <tr>\n",
       "      <th>4</th>\n",
       "      <td>1399</td>\n",
       "      <td>8</td>\n",
       "      <td>2011-09-17 00:00:00</td>\n",
       "      <td>Since my original review I have gone back another few times AND been to Italy. When I went to Italy I was expecting all of the food to be as good as, if not better than what I had at Alegno. Well, if we were lucky, it was as good. Which means I'm guessing this as good as it gets! The food truly is exceptional! \\n\\nWe went again last weekend and ordered the special, which was amazing as always. We were very hungry, but they gave us two baskets of bread, no problem. One of the nicest things was that I ordered amaretto and ginerale. They brought them out separately and I had to add them together, but they kept bringing me refills of my ginerale. By the end my drink obviously had no more alcohol, but I thought it was so nice that they felt they should refill my drink all the same. \\n\\nIt's a small place and entirely family run, so the service is sometimes slow and they will sometimes run out of specials, because I guess they make only so many/night, but that just proves the family-run business atmosphere and the homemade food. It doesn't get better!</td>\n",
       "      <td>0.0</td>\n",
       "      <td>5.0</td>\n",
       "    </tr>\n",
       "    <tr>\n",
       "      <th>5</th>\n",
       "      <td>176</td>\n",
       "      <td>11</td>\n",
       "      <td>2015-01-18 00:00:00</td>\n",
       "      <td>Excellent \\nJe recommande les yeux fermés\\nUne belle expérience à découvrir et partager\\nBonne bouffe et et accueil WOW!</td>\n",
       "      <td>-0.0</td>\n",
       "      <td>5.0</td>\n",
       "    </tr>\n",
       "    <tr>\n",
       "      <th>6</th>\n",
       "      <td>188</td>\n",
       "      <td>12</td>\n",
       "      <td>2013-02-03 00:00:00</td>\n",
       "      <td>It's been a few years since I've hiked this trail but I remember having a blast on it. \\nIt was well defined and easy to follow all the way to the top.\\n\\nI seem to recall the hike was about 6 miles round trip with about 2000 ft of elevation gain.\\n\\nHere's a link with good directions to get to the trail head http://www.meetup.com/VegasHikers/events/8905143/\\n\\nThis is not an easy hike and you'll want to make sure you're in decent shape. You'll enjoy this hike more in the cooler months as there is not shade anywhere on the trail. Doing this in the middle of summer could be a killer.</td>\n",
       "      <td>0.0</td>\n",
       "      <td>5.0</td>\n",
       "    </tr>\n",
       "    <tr>\n",
       "      <th>7</th>\n",
       "      <td>209</td>\n",
       "      <td>12</td>\n",
       "      <td>2014-04-26 00:00:00</td>\n",
       "      <td>I've been coming here for decades. Literally since the mid 70s. \\n\\nThe staff has always been friendly and courteous. The doctors are always informative and willing to answer any questions or concerns I might have.\\n\\nI now live in Anaheim but was in town for my vacation. I made it a point to stop in and have my eyes examined while I was in Vegas.\\n\\nI'll be continuing to visit these folks for years to come.</td>\n",
       "      <td>0.0</td>\n",
       "      <td>5.0</td>\n",
       "    </tr>\n",
       "    <tr>\n",
       "      <th>8</th>\n",
       "      <td>235</td>\n",
       "      <td>12</td>\n",
       "      <td>2013-02-06 00:00:00</td>\n",
       "      <td>This is one of the best bars in town. Not many of the yuppie types here. Thank god.\\n\\nGreat food, friendly staff and customers.\\n\\nKaraoke nights with James are a blast!</td>\n",
       "      <td>0.0</td>\n",
       "      <td>5.0</td>\n",
       "    </tr>\n",
       "    <tr>\n",
       "      <th>9</th>\n",
       "      <td>259</td>\n",
       "      <td>12</td>\n",
       "      <td>2014-07-31 00:00:00</td>\n",
       "      <td>I've hiked this trail many times over the years, every time it's a beautiful experience.\\n\\nIt's short enough and has enough elevation gain that it's a good work out for higher and longer hikes.\\n\\nBe sure to take a camera the views at the top are phenomenal!</td>\n",
       "      <td>0.0</td>\n",
       "      <td>5.0</td>\n",
       "    </tr>\n",
       "    <tr>\n",
       "      <th>10</th>\n",
       "      <td>274</td>\n",
       "      <td>12</td>\n",
       "      <td>2017-04-25 00:00:00</td>\n",
       "      <td>Andra recently did our taxes. We found her to be very nice. She was helpful and explained things in a way that was easy to understand.\\n\\nWe'd definitely use her again.</td>\n",
       "      <td>0.0</td>\n",
       "      <td>5.0</td>\n",
       "    </tr>\n",
       "    <tr>\n",
       "      <th>11</th>\n",
       "      <td>277</td>\n",
       "      <td>12</td>\n",
       "      <td>2014-08-13 00:00:00</td>\n",
       "      <td>This is probably my favorite place in all of the Redrock Canyon area.\\n\\nThe first part of the hike is typical desert. Brush, cactus, rocks and dirt.\\n\\nOnce you get into the canyon itself it's very lush and green.\\n\\nBe sure to check out the creek. It flows year round. I've been there in July and August and there was still water even at that hot time of year.\\n\\nIf you were only going to do one hike in the Redrock area this would be the one I'd recommend.</td>\n",
       "      <td>0.0</td>\n",
       "      <td>5.0</td>\n",
       "    </tr>\n",
       "    <tr>\n",
       "      <th>12</th>\n",
       "      <td>375</td>\n",
       "      <td>17</td>\n",
       "      <td>2016-11-26 00:00:00</td>\n",
       "      <td>A girlfriend and I found our way here, and it happened to be happy hour.  We couldn't believe the prices, especially for Tivoli Village!  The wine was so good, and the food was delicious, as well.  I think the guy who made our food was also our server, which I appreciated, since I really enjoyed what I ate, and got to tell the chef in person how Much I enjoyed it.  He is not only a great cook, but an attentive and engaging server.  I can't wait to come back here again!</td>\n",
       "      <td>0.0</td>\n",
       "      <td>5.0</td>\n",
       "    </tr>\n",
       "    <tr>\n",
       "      <th>13</th>\n",
       "      <td>403</td>\n",
       "      <td>17</td>\n",
       "      <td>2017-01-06 00:00:00</td>\n",
       "      <td>Definitely one of my favorite shows so far in Vegas!  If you haven't seen this show in a while, then come back and check it out - apparently it changes pretty frequently, so it can be a fresh experience if you see it from time to time.  I was expecting to have a good time, but if you let yourself get caught up in it, you'll be like me and have an absolute blast!  There's plenty of audience participation stuff, which only adds to the fun of the experience.  Can't wait to come back and see them again!</td>\n",
       "      <td>0.0</td>\n",
       "      <td>5.0</td>\n",
       "    </tr>\n",
       "    <tr>\n",
       "      <th>14</th>\n",
       "      <td>414</td>\n",
       "      <td>17</td>\n",
       "      <td>2016-08-19 00:00:00</td>\n",
       "      <td>Love watching these beautiful fountains whenever I'm walking the Strip.  I'm a local, and have gotten to experience them many times.  I really like that they're every 15 minutes; if it's anytime during the day and night (before midnight), you won't have to wait long to see a show.  As of right now, I haven't experienced the same song twice.  This and their indoor garden make the Bellagio my favorite casino in all of Las Vegas.</td>\n",
       "      <td>0.0</td>\n",
       "      <td>5.0</td>\n",
       "    </tr>\n",
       "    <tr>\n",
       "      <th>15</th>\n",
       "      <td>428</td>\n",
       "      <td>17</td>\n",
       "      <td>2016-08-05 00:00:00</td>\n",
       "      <td>Came here late night with a friend, and ordered the vegetarian fajitas - yum!  Great service, as well.  We had a couple different wait staff take care of us other than our main waitress, too - all very attentive.  I never got to the bottom of my water glass.  I really liked the decor here, too.  Great place, can't wait to come back!  I've been to their other location in Henderson; it's a win-win!</td>\n",
       "      <td>0.0</td>\n",
       "      <td>5.0</td>\n",
       "    </tr>\n",
       "    <tr>\n",
       "      <th>16</th>\n",
       "      <td>1040</td>\n",
       "      <td>17</td>\n",
       "      <td>2016-10-22 00:00:00</td>\n",
       "      <td>Clean hotel room, and very attentive workers.  When I wanted to do a little local sight-seeing at the Musical Instrument Museum down the road, the lady at the front desk made several phone calls to arrange for me to get there and back in time for my airport shuttle ride.  Very much appreciated - and the Sleep Inn transport was early to take me, so I got a few extra minutes!  If not for the free shuttle (within five miles), I would not have gotten to see this awesome museum - and as a musician, it meant a lot to me.  Thank you very much, Sleep Inn!</td>\n",
       "      <td>0.0</td>\n",
       "      <td>5.0</td>\n",
       "    </tr>\n",
       "    <tr>\n",
       "      <th>17</th>\n",
       "      <td>1059</td>\n",
       "      <td>17</td>\n",
       "      <td>2016-08-19 00:00:00</td>\n",
       "      <td>A friend took me here as a birthday gift, and I really loved my time here, watching the dolphins and getting to see the tigers and lions!  Being so close to these beautiful creatures was an amazing experience.  I love all the cute tricks the dolphins do!  There are \"shows\" every fifteen minutes, where the trainers who work with the dolphins bring them out and show people their different tricks, as well as tell you about the dolphins, themselves.  The gift shops for both the Dolphin Habitat and the Secret Garden are full of trinkets you can buy to remember the trip (in case videos and pictures aren't enough - lots of photo ops here!).  It's expensive to get in for non-locals, so just keep that in mind before planning a visit, especially if you're bringing a large group or a big family.</td>\n",
       "      <td>0.0</td>\n",
       "      <td>5.0</td>\n",
       "    </tr>\n",
       "    <tr>\n",
       "      <th>18</th>\n",
       "      <td>1064</td>\n",
       "      <td>17</td>\n",
       "      <td>2016-11-09 00:00:00</td>\n",
       "      <td>I am so glad I found this shop.  I put off taking my '93 Miata in for a very-overdue oil change after moving here in February because I was new in town and didn't know who I could trust.  Thankfully, some people at my workplace recommended this shop, and I'm a very satisfied customer.  I was very worried about a problem with my A/C during the hot months, and was bracing myself for an A/C compressor replacement (easily a $1,000 repair), and here it was a little leaky seal - that was it!  The pricing was so low I nearly fell out of my chair when they told me!  Really appreciate this shop, and will continue to take my baby car to them for all my mechanical needs.</td>\n",
       "      <td>0.0</td>\n",
       "      <td>5.0</td>\n",
       "    </tr>\n",
       "    <tr>\n",
       "      <th>19</th>\n",
       "      <td>437</td>\n",
       "      <td>18</td>\n",
       "      <td>2017-10-15 00:00:00</td>\n",
       "      <td>HP wanted $300 to replace a 500GB hard drive.  I was referred to Santos and he delivered.  He is very friendly and professional.  Price was more that fair for the expert knowledge he posses...cost me $165.  May his business continue to prosper.</td>\n",
       "      <td>-0.0</td>\n",
       "      <td>5.0</td>\n",
       "    </tr>\n",
       "  </tbody>\n",
       "</table>\n",
       "</div>"
      ],
      "text/plain": [
       "    business_id  user_id                 date  \\\n",
       "0   91           5        2009-09-01 00:00:00   \n",
       "1   120          8        2013-01-11 00:00:00   \n",
       "2   122          8        2012-08-23 00:00:00   \n",
       "3   144          8        2012-10-08 00:00:00   \n",
       "4   1399         8        2011-09-17 00:00:00   \n",
       "5   176          11       2015-01-18 00:00:00   \n",
       "6   188          12       2013-02-03 00:00:00   \n",
       "7   209          12       2014-04-26 00:00:00   \n",
       "8   235          12       2013-02-06 00:00:00   \n",
       "9   259          12       2014-07-31 00:00:00   \n",
       "10  274          12       2017-04-25 00:00:00   \n",
       "11  277          12       2014-08-13 00:00:00   \n",
       "12  375          17       2016-11-26 00:00:00   \n",
       "13  403          17       2017-01-06 00:00:00   \n",
       "14  414          17       2016-08-19 00:00:00   \n",
       "15  428          17       2016-08-05 00:00:00   \n",
       "16  1040         17       2016-10-22 00:00:00   \n",
       "17  1059         17       2016-08-19 00:00:00   \n",
       "18  1064         17       2016-11-09 00:00:00   \n",
       "19  437          18       2017-10-15 00:00:00   \n",
       "\n",
       "                                                                                                                                                                                                                                                                                                                                                                                                                                                                                                                                                                                                                                                                                                                                                                                                                                                                                                                                                                                                                                                                                                                                                                                                                                                                                                                                                                                                                                                                                                                                                                                                                                                                                                                                                                                                                                                                                                                                                                                                                                                                                                                                                                                                                                                                                                                                                                                                                                                                                                                                                                                                                                                                                                                                                                                                                                                                                                                                                                                                                                                                                                                                                                                                                                                                                                                                                                                                       text  \\\n",
       "0   We had these guys cater our wedding.  We ended up having 6 different flavors of cake.  All were delicious, although the carrot cake was especially exceptional.  The staff was friendly and prepared. \\n\\nAll around a great experience.                                                                                                                                                                                                                                                                                                                                                                                                                                                                                                                                                                                                                                                                                                                                                                                                                                                                                                                                                                                                                                                                                                                                                                                                                                                                                                                                                                                                                                                                                                                                                                                                                                                                                                                                                                                                                                                                                                                                                                                                                                                                                                                                                                                                                                                                                                                                                                                                                                                                                                                                                                                                                                                                                                                                                                                                                                                                                                                                                                                                                                                                                                                                                                  \n",
       "1   I was so surprised to see the negative reviews of this place, after having just had such a good experience there! \\nI went with a bunch of friends from work. Some of the friends has heard that this place KNOWS their wine and ordered a bottle of chianti, which was great (and I'm not a huge wine drinker). \\nThe ladies I was with ordered two caesar salads to share amongst the four of them and the waitress brought them out the salads already split on individual plates, garnished with a garlic bread crouton. I don't think the salads were anything special, but I find that caesar salads in general aren't, so peoples' complaints about them below seem largely unfounded. \\nI ordered the baked goat cheese appetizer...OMG it was SO good. Goat cheese and grilled veggies on top of a portobello mushroom cap, with some sort of sauce and with salad and shredded carrots and balsamic reduction....to DIE for. \\nFor my main I ordered the Penne Gorgonzola, which was also fabulous! The members of my partied ordered the veal parmesan (but grilled veggies instead of the pasta), the salmon with a lobster brandy cream sauce, a NY striploin and fettucine and everyone loved their food. One woman I was with IS a chef, so I feel like that was saying something. \\nNow, since I didn't taste their dishes, I can only expand on my own. The sauce was to DIE for. Creamy, complex and delicious. The pairing of veggies with prosciutto and cheese was excellent. I would order that dish again in a heartbeat! \\nSince we were having a good time and the food had met our expectations, we went for it and ordered dessert (even though we were all stuffed). We all ordered the white chocolate creme brûlée, except one friend who ordered the tiramisu and were once again not disappointed. Our creme brûlées were crackly on the outside and creamy on the inside. Perfect! The tiramisu was apparently great, served very untraditionally in a large plate, with an indentation like a bowl in the middle. \\nI was also pleased to find out that they serve caffeine-free cappuccinos, so we all ordered those as well and it was served with a little almond biscotti and was great!\\n\\nAltogether my meal came to $50 (tip included), which I think is more than I would spend on a normal dinner out, but not crazy. Also note though that I did not pay for the wine and did not order any other drinks. That would obviously have increased the price. \\n\\nThe restaurant atmosphere is nothing special, but I'm disenchanted with the trendy spaces and pretentiously presented food that isn't half as good, so this wasn't a concern for me. The restaurant was clean and comfy, but the furniture was a little on the older side (like the dining chairs you would see in your fussy grandmother's home) and fake paintings on the walls.   \\n\\nThe service was excellent. Our waitress saw to our every need, answered all our questions and came over to chat and make sure we were happy and comfortable regularly. \\n\\nSo, was it perfect? Well as I said, the salad was probably just average and the atmosphere also just average, but those did not pose major problems. I would ultimately give this place 4-1/2, but since I can't and this leaned more to the good than anything remotely bad, it gets a 5! I would go back in a heartbeat!   \n",
       "2   We got recommendations for this place from my parents and so, for our anniversary, we booked here. We were told though that it was first come, first served, in terms of having the ideal seats by the windows that overlook the fountains of the Bellagio and The Strip.\\nWe went for lunch though, so it wasn't too busy. We were seated by the window and were promptly served some sort of puffed rolls, with cheese and herbs infused. They were delicious!\\n\\nWe ordered the onion soup to start and I ordered parmesan chicken and my husband ordered a lamb burger. Our food came and was delicious. The soup was probably my favorite part. We were feeling very full by the end and so declined dessert, but were still given some jellies and chocolate truffle and then were served a small chocolate mousse, on a decorated plate that said Happy Anniversary, which was a total surprise (they had asked when I booked if it was a special occasion, but had said nothing while we were there).\\nOverall the service was great, the food delicious and the view wonderful. It was a great experience!                                                                                                                                                                                                                                                                                                                                                                                                                                                                                                                                                                                                                                                                                                                                                                                                                                                                                                                                                                                                                                                                                                                                                                                                                                                                                                                                                                                                                                                                                                                                                                                                                                                                                                                                                                                                                                                                                                                                                                                                                                                                                                                                                                                                                                                                                       \n",
       "3   I have been craving schnitzel for a LONG time, so on the night of my birthday, my husband and I decided to come here. Cafe Polonez was in a great little area, with lots of nice, little shops surrounding it and High Park, of course. \\n\\nThe restaurant is clean and trendy looking and we took a seat, against the wall, in the back. We ordered the platter for two. Since we had never been, it felt like a good idea to try it ALL out. GREAT idea! We were delivered a platter of food that included two schnitzels, two cabbage rolls, 6 perogies and some other sides. Everything was great, but the schnitzel and cabbage rolls in particular were excellent! I ordered two gravies to go with the schnitzel, expecting two, little Swiss Chalet-sized gravies, but instead we got two, huge bowls of gravy. Needless to say, one bowl would have been more than enough for 2 people. They were only $1 apiece, so not the end of the world. \\n\\nPlenty of food for two people and a great sampler platter to see what they have and what you like.\\n\\nService was fast and good and everything was excellent. Totally recommend it and I'll be back. Just thinking about it is making me salivate!                                                                                                                                                                                                                                                                                                                                                                                                                                                                                                                                                                                                                                                                                                                                                                                                                                                                                                                                                                                                                                                                                                                                                                                                                                                                                                                                                                                                                                                                                                                                                                                                                                                                                                                                                                                                                                                                                                                                                                                                                                                                                                                                                                                            \n",
       "4   Since my original review I have gone back another few times AND been to Italy. When I went to Italy I was expecting all of the food to be as good as, if not better than what I had at Alegno. Well, if we were lucky, it was as good. Which means I'm guessing this as good as it gets! The food truly is exceptional! \\n\\nWe went again last weekend and ordered the special, which was amazing as always. We were very hungry, but they gave us two baskets of bread, no problem. One of the nicest things was that I ordered amaretto and ginerale. They brought them out separately and I had to add them together, but they kept bringing me refills of my ginerale. By the end my drink obviously had no more alcohol, but I thought it was so nice that they felt they should refill my drink all the same. \\n\\nIt's a small place and entirely family run, so the service is sometimes slow and they will sometimes run out of specials, because I guess they make only so many/night, but that just proves the family-run business atmosphere and the homemade food. It doesn't get better!                                                                                                                                                                                                                                                                                                                                                                                                                                                                                                                                                                                                                                                                                                                                                                                                                                                                                                                                                                                                                                                                                                                                                                                                                                                                                                                                                                                                                                                                                                                                                                                                                                                                                                                                                                                                                                                                                                                                                                                                                                                                                                                                                                                                                                                                                                     \n",
       "5   Excellent \\nJe recommande les yeux fermés\\nUne belle expérience à découvrir et partager\\nBonne bouffe et et accueil WOW!                                                                                                                                                                                                                                                                                                                                                                                                                                                                                                                                                                                                                                                                                                                                                                                                                                                                                                                                                                                                                                                                                                                                                                                                                                                                                                                                                                                                                                                                                                                                                                                                                                                                                                                                                                                                                                                                                                                                                                                                                                                                                                                                                                                                                                                                                                                                                                                                                                                                                                                                                                                                                                                                                                                                                                                                                                                                                                                                                                                                                                                                                                                                                                                                                                                                                  \n",
       "6   It's been a few years since I've hiked this trail but I remember having a blast on it. \\nIt was well defined and easy to follow all the way to the top.\\n\\nI seem to recall the hike was about 6 miles round trip with about 2000 ft of elevation gain.\\n\\nHere's a link with good directions to get to the trail head http://www.meetup.com/VegasHikers/events/8905143/\\n\\nThis is not an easy hike and you'll want to make sure you're in decent shape. You'll enjoy this hike more in the cooler months as there is not shade anywhere on the trail. Doing this in the middle of summer could be a killer.                                                                                                                                                                                                                                                                                                                                                                                                                                                                                                                                                                                                                                                                                                                                                                                                                                                                                                                                                                                                                                                                                                                                                                                                                                                                                                                                                                                                                                                                                                                                                                                                                                                                                                                                                                                                                                                                                                                                                                                                                                                                                                                                                                                                                                                                                                                                                                                                                                                                                                                                                                                                                                                                                                                                                                                             \n",
       "7   I've been coming here for decades. Literally since the mid 70s. \\n\\nThe staff has always been friendly and courteous. The doctors are always informative and willing to answer any questions or concerns I might have.\\n\\nI now live in Anaheim but was in town for my vacation. I made it a point to stop in and have my eyes examined while I was in Vegas.\\n\\nI'll be continuing to visit these folks for years to come.                                                                                                                                                                                                                                                                                                                                                                                                                                                                                                                                                                                                                                                                                                                                                                                                                                                                                                                                                                                                                                                                                                                                                                                                                                                                                                                                                                                                                                                                                                                                                                                                                                                                                                                                                                                                                                                                                                                                                                                                                                                                                                                                                                                                                                                                                                                                                                                                                                                                                                                                                                                                                                                                                                                                                                                                                                                                                                                                                                               \n",
       "8   This is one of the best bars in town. Not many of the yuppie types here. Thank god.\\n\\nGreat food, friendly staff and customers.\\n\\nKaraoke nights with James are a blast!                                                                                                                                                                                                                                                                                                                                                                                                                                                                                                                                                                                                                                                                                                                                                                                                                                                                                                                                                                                                                                                                                                                                                                                                                                                                                                                                                                                                                                                                                                                                                                                                                                                                                                                                                                                                                                                                                                                                                                                                                                                                                                                                                                                                                                                                                                                                                                                                                                                                                                                                                                                                                                                                                                                                                                                                                                                                                                                                                                                                                                                                                                                                                                                                                                \n",
       "9   I've hiked this trail many times over the years, every time it's a beautiful experience.\\n\\nIt's short enough and has enough elevation gain that it's a good work out for higher and longer hikes.\\n\\nBe sure to take a camera the views at the top are phenomenal!                                                                                                                                                                                                                                                                                                                                                                                                                                                                                                                                                                                                                                                                                                                                                                                                                                                                                                                                                                                                                                                                                                                                                                                                                                                                                                                                                                                                                                                                                                                                                                                                                                                                                                                                                                                                                                                                                                                                                                                                                                                                                                                                                                                                                                                                                                                                                                                                                                                                                                                                                                                                                                                                                                                                                                                                                                                                                                                                                                                                                                                                                                                                       \n",
       "10  Andra recently did our taxes. We found her to be very nice. She was helpful and explained things in a way that was easy to understand.\\n\\nWe'd definitely use her again.                                                                                                                                                                                                                                                                                                                                                                                                                                                                                                                                                                                                                                                                                                                                                                                                                                                                                                                                                                                                                                                                                                                                                                                                                                                                                                                                                                                                                                                                                                                                                                                                                                                                                                                                                                                                                                                                                                                                                                                                                                                                                                                                                                                                                                                                                                                                                                                                                                                                                                                                                                                                                                                                                                                                                                                                                                                                                                                                                                                                                                                                                                                                                                                                                                  \n",
       "11  This is probably my favorite place in all of the Redrock Canyon area.\\n\\nThe first part of the hike is typical desert. Brush, cactus, rocks and dirt.\\n\\nOnce you get into the canyon itself it's very lush and green.\\n\\nBe sure to check out the creek. It flows year round. I've been there in July and August and there was still water even at that hot time of year.\\n\\nIf you were only going to do one hike in the Redrock area this would be the one I'd recommend.                                                                                                                                                                                                                                                                                                                                                                                                                                                                                                                                                                                                                                                                                                                                                                                                                                                                                                                                                                                                                                                                                                                                                                                                                                                                                                                                                                                                                                                                                                                                                                                                                                                                                                                                                                                                                                                                                                                                                                                                                                                                                                                                                                                                                                                                                                                                                                                                                                                                                                                                                                                                                                                                                                                                                                                                                                                                                                                              \n",
       "12  A girlfriend and I found our way here, and it happened to be happy hour.  We couldn't believe the prices, especially for Tivoli Village!  The wine was so good, and the food was delicious, as well.  I think the guy who made our food was also our server, which I appreciated, since I really enjoyed what I ate, and got to tell the chef in person how Much I enjoyed it.  He is not only a great cook, but an attentive and engaging server.  I can't wait to come back here again!                                                                                                                                                                                                                                                                                                                                                                                                                                                                                                                                                                                                                                                                                                                                                                                                                                                                                                                                                                                                                                                                                                                                                                                                                                                                                                                                                                                                                                                                                                                                                                                                                                                                                                                                                                                                                                                                                                                                                                                                                                                                                                                                                                                                                                                                                                                                                                                                                                                                                                                                                                                                                                                                                                                                                                                                                                                                                                                 \n",
       "13  Definitely one of my favorite shows so far in Vegas!  If you haven't seen this show in a while, then come back and check it out - apparently it changes pretty frequently, so it can be a fresh experience if you see it from time to time.  I was expecting to have a good time, but if you let yourself get caught up in it, you'll be like me and have an absolute blast!  There's plenty of audience participation stuff, which only adds to the fun of the experience.  Can't wait to come back and see them again!                                                                                                                                                                                                                                                                                                                                                                                                                                                                                                                                                                                                                                                                                                                                                                                                                                                                                                                                                                                                                                                                                                                                                                                                                                                                                                                                                                                                                                                                                                                                                                                                                                                                                                                                                                                                                                                                                                                                                                                                                                                                                                                                                                                                                                                                                                                                                                                                                                                                                                                                                                                                                                                                                                                                                                                                                                                                                  \n",
       "14  Love watching these beautiful fountains whenever I'm walking the Strip.  I'm a local, and have gotten to experience them many times.  I really like that they're every 15 minutes; if it's anytime during the day and night (before midnight), you won't have to wait long to see a show.  As of right now, I haven't experienced the same song twice.  This and their indoor garden make the Bellagio my favorite casino in all of Las Vegas.                                                                                                                                                                                                                                                                                                                                                                                                                                                                                                                                                                                                                                                                                                                                                                                                                                                                                                                                                                                                                                                                                                                                                                                                                                                                                                                                                                                                                                                                                                                                                                                                                                                                                                                                                                                                                                                                                                                                                                                                                                                                                                                                                                                                                                                                                                                                                                                                                                                                                                                                                                                                                                                                                                                                                                                                                                                                                                                                                            \n",
       "15  Came here late night with a friend, and ordered the vegetarian fajitas - yum!  Great service, as well.  We had a couple different wait staff take care of us other than our main waitress, too - all very attentive.  I never got to the bottom of my water glass.  I really liked the decor here, too.  Great place, can't wait to come back!  I've been to their other location in Henderson; it's a win-win!                                                                                                                                                                                                                                                                                                                                                                                                                                                                                                                                                                                                                                                                                                                                                                                                                                                                                                                                                                                                                                                                                                                                                                                                                                                                                                                                                                                                                                                                                                                                                                                                                                                                                                                                                                                                                                                                                                                                                                                                                                                                                                                                                                                                                                                                                                                                                                                                                                                                                                                                                                                                                                                                                                                                                                                                                                                                                                                                                                                           \n",
       "16  Clean hotel room, and very attentive workers.  When I wanted to do a little local sight-seeing at the Musical Instrument Museum down the road, the lady at the front desk made several phone calls to arrange for me to get there and back in time for my airport shuttle ride.  Very much appreciated - and the Sleep Inn transport was early to take me, so I got a few extra minutes!  If not for the free shuttle (within five miles), I would not have gotten to see this awesome museum - and as a musician, it meant a lot to me.  Thank you very much, Sleep Inn!                                                                                                                                                                                                                                                                                                                                                                                                                                                                                                                                                                                                                                                                                                                                                                                                                                                                                                                                                                                                                                                                                                                                                                                                                                                                                                                                                                                                                                                                                                                                                                                                                                                                                                                                                                                                                                                                                                                                                                                                                                                                                                                                                                                                                                                                                                                                                                                                                                                                                                                                                                                                                                                                                                                                                                                                                                 \n",
       "17  A friend took me here as a birthday gift, and I really loved my time here, watching the dolphins and getting to see the tigers and lions!  Being so close to these beautiful creatures was an amazing experience.  I love all the cute tricks the dolphins do!  There are \"shows\" every fifteen minutes, where the trainers who work with the dolphins bring them out and show people their different tricks, as well as tell you about the dolphins, themselves.  The gift shops for both the Dolphin Habitat and the Secret Garden are full of trinkets you can buy to remember the trip (in case videos and pictures aren't enough - lots of photo ops here!).  It's expensive to get in for non-locals, so just keep that in mind before planning a visit, especially if you're bringing a large group or a big family.                                                                                                                                                                                                                                                                                                                                                                                                                                                                                                                                                                                                                                                                                                                                                                                                                                                                                                                                                                                                                                                                                                                                                                                                                                                                                                                                                                                                                                                                                                                                                                                                                                                                                                                                                                                                                                                                                                                                                                                                                                                                                                                                                                                                                                                                                                                                                                                                                                                                                                                                                                               \n",
       "18  I am so glad I found this shop.  I put off taking my '93 Miata in for a very-overdue oil change after moving here in February because I was new in town and didn't know who I could trust.  Thankfully, some people at my workplace recommended this shop, and I'm a very satisfied customer.  I was very worried about a problem with my A/C during the hot months, and was bracing myself for an A/C compressor replacement (easily a $1,000 repair), and here it was a little leaky seal - that was it!  The pricing was so low I nearly fell out of my chair when they told me!  Really appreciate this shop, and will continue to take my baby car to them for all my mechanical needs.                                                                                                                                                                                                                                                                                                                                                                                                                                                                                                                                                                                                                                                                                                                                                                                                                                                                                                                                                                                                                                                                                                                                                                                                                                                                                                                                                                                                                                                                                                                                                                                                                                                                                                                                                                                                                                                                                                                                                                                                                                                                                                                                                                                                                                                                                                                                                                                                                                                                                                                                                                                                                                                                                                              \n",
       "19  HP wanted $300 to replace a 500GB hard drive.  I was referred to Santos and he delivered.  He is very friendly and professional.  Price was more that fair for the expert knowledge he posses...cost me $165.  May his business continue to prosper.                                                                                                                                                                                                                                                                                                                                                                                                                                                                                                                                                                                                                                                                                                                                                                                                                                                                                                                                                                                                                                                                                                                                                                                                                                                                                                                                                                                                                                                                                                                                                                                                                                                                                                                                                                                                                                                                                                                                                                                                                                                                                                                                                                                                                                                                                                                                                                                                                                                                                                                                                                                                                                                                                                                                                                                                                                                                                                                                                                                                                                                                                                                                                      \n",
       "\n",
       "    pred  stars  \n",
       "0  -0.0   5.0    \n",
       "1   0.0   5.0    \n",
       "2   0.0   5.0    \n",
       "3   0.0   5.0    \n",
       "4   0.0   5.0    \n",
       "5  -0.0   5.0    \n",
       "6   0.0   5.0    \n",
       "7   0.0   5.0    \n",
       "8   0.0   5.0    \n",
       "9   0.0   5.0    \n",
       "10  0.0   5.0    \n",
       "11  0.0   5.0    \n",
       "12  0.0   5.0    \n",
       "13  0.0   5.0    \n",
       "14  0.0   5.0    \n",
       "15  0.0   5.0    \n",
       "16  0.0   5.0    \n",
       "17  0.0   5.0    \n",
       "18  0.0   5.0    \n",
       "19 -0.0   5.0    "
      ]
     },
     "execution_count": 141,
     "metadata": {},
     "output_type": "execute_result"
    }
   ],
   "source": [
    "pd.set_option('display.max_colwidth', -1)\n",
    "error_analysis_df.head(20)"
   ]
  },
  {
   "cell_type": "code",
   "execution_count": 119,
   "metadata": {},
   "outputs": [
    {
     "data": {
      "text/plain": [
       "(890, 7)"
      ]
     },
     "execution_count": 119,
     "metadata": {},
     "output_type": "execute_result"
    }
   ],
   "source": [
    "error_analysis_df.shape"
   ]
  },
  {
   "cell_type": "code",
   "execution_count": 199,
   "metadata": {},
   "outputs": [
    {
     "name": "stderr",
     "output_type": "stream",
     "text": [
      "/Users/chenyingcharlene/anaconda3/lib/python3.6/site-packages/ipykernel_launcher.py:14: RuntimeWarning: invalid value encountered in true_divide\n",
      "  \n",
      "/Users/chenyingcharlene/anaconda3/lib/python3.6/site-packages/numpy/core/_methods.py:26: RuntimeWarning: invalid value encountered in reduce\n",
      "  return umr_maximum(a, axis, None, out, keepdims)\n"
     ]
    },
    {
     "name": "stdout",
     "output_type": "stream",
     "text": [
      "Normalized confusion matrix\n",
      "[[nan nan nan nan nan nan]\n",
      " [ 1.  0.  0.  0.  0.  0.]\n",
      " [ 1.  0.  0.  0.  0.  0.]\n",
      " [ 1.  0.  0.  0.  0.  0.]\n",
      " [ 1.  0.  0.  0.  0.  0.]\n",
      " [ 1.  0.  0.  0.  0.  0.]]\n"
     ]
    },
    {
     "data": {
      "image/png": "[encoded data removed]",
      "text/plain": [
       "<matplotlib.figure.Figure at 0x10872b710>"
      ]
     },
     "metadata": {},
     "output_type": "display_data"
    }
   ],
   "source": [
    "#plot confusion matrix\n",
    "from sklearn.metrics import confusion_matrix\n",
    "import matplotlib.pyplot as plt\n",
    "import itertools\n",
    "\n",
    "def plot_confusion_matrix(cm, classes,\n",
    "                          normalize=False,\n",
    "                          title='Confusion matrix',\n",
    "                          cmap=plt.cm.Blues):\n",
    "    \"\"\"\n",
    "    This function prints and plots the confusion matrix.\n",
    "    Normalization can be applied by setting `normalize=True`.\n",
    "    \"\"\"\n",
    "    if normalize:\n",
    "        cm = cm.astype('float') / cm.sum(axis=1)[:, np.newaxis]\n",
    "        print(\"Normalized confusion matrix\")\n",
    "    else:\n",
    "        print('Confusion matrix, without normalization')\n",
    "\n",
    "    print(cm)\n",
    "\n",
    "    plt.imshow(cm, interpolation='nearest', cmap=cmap)\n",
    "    plt.title(title)\n",
    "    plt.colorbar()\n",
    "    tick_marks = np.arange(len(classes))\n",
    "    plt.xticks(tick_marks, classes, rotation=45)\n",
    "    plt.yticks(tick_marks, classes)\n",
    "\n",
    "    fmt = '.2f' if normalize else 'd'\n",
    "    thresh = cm.max() / 2.\n",
    "    for i, j in itertools.product(range(cm.shape[0]), range(cm.shape[1])):\n",
    "        plt.text(j, i, format(cm[i, j], fmt),\n",
    "                 horizontalalignment=\"center\",\n",
    "                 color=\"white\" if cm[i, j] > thresh else \"black\")\n",
    "\n",
    "    plt.tight_layout()\n",
    "    plt.ylabel('True label')\n",
    "    plt.xlabel('Predicted label')\n",
    "\n",
    "\n",
    "# Compute confusion matrix\n",
    "\n",
    "\n",
    "prediction = list(user_prediction_round[test_data_matrix.nonzero()].flatten())\n",
    "ground_truth = list(test_data_matrix[test_data_matrix.nonzero()].flatten())\n",
    "cnf_matrix = confusion_matrix(ground_truth, prediction)\n",
    "\n",
    "#cnf_matrix = cnf_matrix(test_data_matrix, user_prediction)\n",
    "\n",
    "# Plot normalized confusion matrix\n",
    "plt.figure()\n",
    "plot_confusion_matrix(cnf_matrix, classes=['0','1','2','3','4','5'], normalize=True,\n",
    "                      title='Normalized confusion matrix')"
   ]
  },
  {
   "cell_type": "code",
   "execution_count": null,
   "metadata": {},
   "outputs": [],
   "source": []
  }
 ],
 "metadata": {
  "kernelspec": {
   "display_name": "Python 3",
   "language": "python",
   "name": "python3"
  },
  "language_info": {
   "codemirror_mode": {
    "name": "ipython",
    "version": 3
   },
   "file_extension": ".py",
   "mimetype": "text/x-python",
   "name": "python",
   "nbconvert_exporter": "python",
   "pygments_lexer": "ipython3",
   "version": "3.6.4"
  }
 },
 "nbformat": 4,
 "nbformat_minor": 2
}
