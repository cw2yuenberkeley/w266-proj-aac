{
 "cells": [
  {
   "cell_type": "markdown",
   "metadata": {},
   "source": [
    "## Setup"
   ]
  },
  {
   "cell_type": "code",
   "execution_count": 155,
   "metadata": {},
   "outputs": [],
   "source": [
    "import os, sys, re, json, time, unittest, datetime, shutil\n",
    "import itertools, collections\n",
    "import random\n",
    "from importlib import reload\n",
    "from IPython.display import display, HTML\n",
    "\n",
    "import numpy as np\n",
    "import pandas as pd\n",
    "import matplotlib.pyplot as plt\n",
    "from sklearn.feature_extraction.text import CountVectorizer\n",
    "from sklearn.naive_bayes import MultinomialNB\n",
    "from sklearn.metrics import classification_report\n",
    "from sklearn.metrics import accuracy_score\n",
    "from sklearn.metrics import log_loss\n",
    "from sklearn.metrics import matthews_corrcoef"
   ]
  },
  {
   "cell_type": "code",
   "execution_count": null,
   "metadata": {},
   "outputs": [],
   "source": []
  },
  {
   "cell_type": "markdown",
   "metadata": {},
   "source": [
    "**Note:** The data below is only on the 10k datasets for now. This will be updated to leverage the full datasets. "
   ]
  },
  {
   "cell_type": "markdown",
   "metadata": {},
   "source": [
    "# Loading Data"
   ]
  },
  {
   "cell_type": "code",
   "execution_count": 2,
   "metadata": {},
   "outputs": [],
   "source": [
    "users_df = pd.read_json(\"../dataset/user_10k.json\", lines=True)\n"
   ]
  },
  {
   "cell_type": "code",
   "execution_count": null,
   "metadata": {},
   "outputs": [],
   "source": []
  },
  {
   "cell_type": "code",
   "execution_count": 3,
   "metadata": {},
   "outputs": [
    {
     "data": {
      "text/html": [
       "<div>\n",
       "<style scoped>\n",
       "    .dataframe tbody tr th:only-of-type {\n",
       "        vertical-align: middle;\n",
       "    }\n",
       "\n",
       "    .dataframe tbody tr th {\n",
       "        vertical-align: top;\n",
       "    }\n",
       "\n",
       "    .dataframe thead th {\n",
       "        text-align: right;\n",
       "    }\n",
       "</style>\n",
       "<table border=\"1\" class=\"dataframe\">\n",
       "  <thead>\n",
       "    <tr style=\"text-align: right;\">\n",
       "      <th></th>\n",
       "      <th>average_stars</th>\n",
       "      <th>compliment_cool</th>\n",
       "      <th>compliment_cute</th>\n",
       "      <th>compliment_funny</th>\n",
       "      <th>compliment_hot</th>\n",
       "      <th>compliment_list</th>\n",
       "      <th>compliment_more</th>\n",
       "      <th>compliment_note</th>\n",
       "      <th>compliment_photos</th>\n",
       "      <th>compliment_plain</th>\n",
       "      <th>...</th>\n",
       "      <th>cool</th>\n",
       "      <th>elite</th>\n",
       "      <th>fans</th>\n",
       "      <th>friends</th>\n",
       "      <th>funny</th>\n",
       "      <th>name</th>\n",
       "      <th>review_count</th>\n",
       "      <th>useful</th>\n",
       "      <th>user_id</th>\n",
       "      <th>yelping_since</th>\n",
       "    </tr>\n",
       "  </thead>\n",
       "  <tbody>\n",
       "    <tr>\n",
       "      <th>0</th>\n",
       "      <td>4.67</td>\n",
       "      <td>0</td>\n",
       "      <td>0</td>\n",
       "      <td>0</td>\n",
       "      <td>0</td>\n",
       "      <td>0</td>\n",
       "      <td>0</td>\n",
       "      <td>0</td>\n",
       "      <td>0</td>\n",
       "      <td>1</td>\n",
       "      <td>...</td>\n",
       "      <td>0</td>\n",
       "      <td>[]</td>\n",
       "      <td>0</td>\n",
       "      <td>[cvVMmlU1ouS3I5fhutaryQ, nj6UZ8tdGo8YJ9lUMTVWN...</td>\n",
       "      <td>0</td>\n",
       "      <td>Johnny</td>\n",
       "      <td>8</td>\n",
       "      <td>0</td>\n",
       "      <td>oMy_rEb0UBEmMlu-zcxnoQ</td>\n",
       "      <td>2014-11-03</td>\n",
       "    </tr>\n",
       "    <tr>\n",
       "      <th>1</th>\n",
       "      <td>3.70</td>\n",
       "      <td>0</td>\n",
       "      <td>0</td>\n",
       "      <td>0</td>\n",
       "      <td>0</td>\n",
       "      <td>0</td>\n",
       "      <td>0</td>\n",
       "      <td>0</td>\n",
       "      <td>0</td>\n",
       "      <td>0</td>\n",
       "      <td>...</td>\n",
       "      <td>0</td>\n",
       "      <td>[]</td>\n",
       "      <td>0</td>\n",
       "      <td>[0njfJmB-7n84DlIgUByCNw, rFn3Xe3RqHxRSxWOU19Gp...</td>\n",
       "      <td>0</td>\n",
       "      <td>Chris</td>\n",
       "      <td>10</td>\n",
       "      <td>0</td>\n",
       "      <td>JJ-aSuM4pCFPdkfoZ34q0Q</td>\n",
       "      <td>2013-09-24</td>\n",
       "    </tr>\n",
       "    <tr>\n",
       "      <th>2</th>\n",
       "      <td>2.00</td>\n",
       "      <td>0</td>\n",
       "      <td>0</td>\n",
       "      <td>0</td>\n",
       "      <td>0</td>\n",
       "      <td>0</td>\n",
       "      <td>0</td>\n",
       "      <td>0</td>\n",
       "      <td>0</td>\n",
       "      <td>0</td>\n",
       "      <td>...</td>\n",
       "      <td>0</td>\n",
       "      <td>[]</td>\n",
       "      <td>0</td>\n",
       "      <td>[]</td>\n",
       "      <td>0</td>\n",
       "      <td>Tiffy</td>\n",
       "      <td>1</td>\n",
       "      <td>0</td>\n",
       "      <td>uUzsFQn_6cXDh6rPNGbIFA</td>\n",
       "      <td>2017-03-02</td>\n",
       "    </tr>\n",
       "    <tr>\n",
       "      <th>3</th>\n",
       "      <td>4.67</td>\n",
       "      <td>0</td>\n",
       "      <td>0</td>\n",
       "      <td>0</td>\n",
       "      <td>0</td>\n",
       "      <td>0</td>\n",
       "      <td>0</td>\n",
       "      <td>0</td>\n",
       "      <td>0</td>\n",
       "      <td>0</td>\n",
       "      <td>...</td>\n",
       "      <td>0</td>\n",
       "      <td>[]</td>\n",
       "      <td>0</td>\n",
       "      <td>[]</td>\n",
       "      <td>0</td>\n",
       "      <td>Mark</td>\n",
       "      <td>6</td>\n",
       "      <td>0</td>\n",
       "      <td>mBneaEEH5EMyxaVyqS-72A</td>\n",
       "      <td>2015-03-13</td>\n",
       "    </tr>\n",
       "    <tr>\n",
       "      <th>4</th>\n",
       "      <td>4.67</td>\n",
       "      <td>0</td>\n",
       "      <td>0</td>\n",
       "      <td>0</td>\n",
       "      <td>0</td>\n",
       "      <td>0</td>\n",
       "      <td>0</td>\n",
       "      <td>0</td>\n",
       "      <td>0</td>\n",
       "      <td>0</td>\n",
       "      <td>...</td>\n",
       "      <td>0</td>\n",
       "      <td>[]</td>\n",
       "      <td>0</td>\n",
       "      <td>[]</td>\n",
       "      <td>0</td>\n",
       "      <td>Evelyn</td>\n",
       "      <td>3</td>\n",
       "      <td>0</td>\n",
       "      <td>W5mJGs-dcDWRGEhAzUYtoA</td>\n",
       "      <td>2016-09-08</td>\n",
       "    </tr>\n",
       "  </tbody>\n",
       "</table>\n",
       "<p>5 rows × 22 columns</p>\n",
       "</div>"
      ],
      "text/plain": [
       "   average_stars  compliment_cool  compliment_cute  compliment_funny  \\\n",
       "0           4.67                0                0                 0   \n",
       "1           3.70                0                0                 0   \n",
       "2           2.00                0                0                 0   \n",
       "3           4.67                0                0                 0   \n",
       "4           4.67                0                0                 0   \n",
       "\n",
       "   compliment_hot  compliment_list  compliment_more  compliment_note  \\\n",
       "0               0                0                0                0   \n",
       "1               0                0                0                0   \n",
       "2               0                0                0                0   \n",
       "3               0                0                0                0   \n",
       "4               0                0                0                0   \n",
       "\n",
       "   compliment_photos  compliment_plain      ...        cool  elite  fans  \\\n",
       "0                  0                 1      ...           0     []     0   \n",
       "1                  0                 0      ...           0     []     0   \n",
       "2                  0                 0      ...           0     []     0   \n",
       "3                  0                 0      ...           0     []     0   \n",
       "4                  0                 0      ...           0     []     0   \n",
       "\n",
       "                                             friends  funny    name  \\\n",
       "0  [cvVMmlU1ouS3I5fhutaryQ, nj6UZ8tdGo8YJ9lUMTVWN...      0  Johnny   \n",
       "1  [0njfJmB-7n84DlIgUByCNw, rFn3Xe3RqHxRSxWOU19Gp...      0   Chris   \n",
       "2                                                 []      0   Tiffy   \n",
       "3                                                 []      0    Mark   \n",
       "4                                                 []      0  Evelyn   \n",
       "\n",
       "   review_count useful                 user_id  yelping_since  \n",
       "0             8      0  oMy_rEb0UBEmMlu-zcxnoQ     2014-11-03  \n",
       "1            10      0  JJ-aSuM4pCFPdkfoZ34q0Q     2013-09-24  \n",
       "2             1      0  uUzsFQn_6cXDh6rPNGbIFA     2017-03-02  \n",
       "3             6      0  mBneaEEH5EMyxaVyqS-72A     2015-03-13  \n",
       "4             3      0  W5mJGs-dcDWRGEhAzUYtoA     2016-09-08  \n",
       "\n",
       "[5 rows x 22 columns]"
      ]
     },
     "execution_count": 3,
     "metadata": {},
     "output_type": "execute_result"
    }
   ],
   "source": [
    "users_df.head()"
   ]
  },
  {
   "cell_type": "code",
   "execution_count": 4,
   "metadata": {},
   "outputs": [],
   "source": [
    "# All types of reviews - 10K dataset\n",
    "# reviews_df = pd.read_json(\"../dataset/review_10k.json\", lines=True)\n",
    "\n",
    "# Just restaurant reviews - 10K dataset\n",
    "reviews_df = pd.read_json(\"../dataset/restaurant_reviews_10k.json\", lines=True)\n",
    "\n",
    "# All types of reviews\n",
    "# reviews_df = pd.read_json(\"../../../final_project/full_dataset/review.json\", lines=True)"
   ]
  },
  {
   "cell_type": "code",
   "execution_count": 5,
   "metadata": {},
   "outputs": [
    {
     "data": {
      "text/html": [
       "<div>\n",
       "<style scoped>\n",
       "    .dataframe tbody tr th:only-of-type {\n",
       "        vertical-align: middle;\n",
       "    }\n",
       "\n",
       "    .dataframe tbody tr th {\n",
       "        vertical-align: top;\n",
       "    }\n",
       "\n",
       "    .dataframe thead th {\n",
       "        text-align: right;\n",
       "    }\n",
       "</style>\n",
       "<table border=\"1\" class=\"dataframe\">\n",
       "  <thead>\n",
       "    <tr style=\"text-align: right;\">\n",
       "      <th></th>\n",
       "      <th>business_id</th>\n",
       "      <th>cool</th>\n",
       "      <th>date</th>\n",
       "      <th>funny</th>\n",
       "      <th>stars</th>\n",
       "      <th>text</th>\n",
       "      <th>useful</th>\n",
       "      <th>user_id</th>\n",
       "    </tr>\n",
       "  </thead>\n",
       "  <tbody>\n",
       "    <tr>\n",
       "      <th>0</th>\n",
       "      <td>--6MefnULPED_I942VcFNA</td>\n",
       "      <td>0</td>\n",
       "      <td>2017-08-17</td>\n",
       "      <td>0</td>\n",
       "      <td>4</td>\n",
       "      <td>This is one of my top 3 places to get BBQ pork...</td>\n",
       "      <td>2</td>\n",
       "      <td>FEg8v92qx3kK4Hu4TF28Fg</td>\n",
       "    </tr>\n",
       "    <tr>\n",
       "      <th>1</th>\n",
       "      <td>--6MefnULPED_I942VcFNA</td>\n",
       "      <td>0</td>\n",
       "      <td>2017-05-31</td>\n",
       "      <td>0</td>\n",
       "      <td>3</td>\n",
       "      <td>This restaurant is famous for their BBQ dishes...</td>\n",
       "      <td>0</td>\n",
       "      <td>HPtjvIrhzAUkKsiVkeT4MA</td>\n",
       "    </tr>\n",
       "    <tr>\n",
       "      <th>2</th>\n",
       "      <td>--6MefnULPED_I942VcFNA</td>\n",
       "      <td>0</td>\n",
       "      <td>2016-10-23</td>\n",
       "      <td>0</td>\n",
       "      <td>2</td>\n",
       "      <td>Roasted pork is one of my favorite things... A...</td>\n",
       "      <td>1</td>\n",
       "      <td>MpvqV7lQcl15rflTBEUhXA</td>\n",
       "    </tr>\n",
       "    <tr>\n",
       "      <th>3</th>\n",
       "      <td>--6MefnULPED_I942VcFNA</td>\n",
       "      <td>0</td>\n",
       "      <td>2017-07-30</td>\n",
       "      <td>0</td>\n",
       "      <td>2</td>\n",
       "      <td>I walked by the restaurant more than 5 years a...</td>\n",
       "      <td>1</td>\n",
       "      <td>x-Gbs8sVid3yhJIoHD6Gfw</td>\n",
       "    </tr>\n",
       "    <tr>\n",
       "      <th>4</th>\n",
       "      <td>--6MefnULPED_I942VcFNA</td>\n",
       "      <td>0</td>\n",
       "      <td>2017-02-07</td>\n",
       "      <td>1</td>\n",
       "      <td>2</td>\n",
       "      <td>I came here to order a roast duck over rice to...</td>\n",
       "      <td>0</td>\n",
       "      <td>7Dykd1HolQx8mKPYhYDYSg</td>\n",
       "    </tr>\n",
       "  </tbody>\n",
       "</table>\n",
       "</div>"
      ],
      "text/plain": [
       "              business_id  cool       date  funny  stars  \\\n",
       "0  --6MefnULPED_I942VcFNA     0 2017-08-17      0      4   \n",
       "1  --6MefnULPED_I942VcFNA     0 2017-05-31      0      3   \n",
       "2  --6MefnULPED_I942VcFNA     0 2016-10-23      0      2   \n",
       "3  --6MefnULPED_I942VcFNA     0 2017-07-30      0      2   \n",
       "4  --6MefnULPED_I942VcFNA     0 2017-02-07      1      2   \n",
       "\n",
       "                                                text  useful  \\\n",
       "0  This is one of my top 3 places to get BBQ pork...       2   \n",
       "1  This restaurant is famous for their BBQ dishes...       0   \n",
       "2  Roasted pork is one of my favorite things... A...       1   \n",
       "3  I walked by the restaurant more than 5 years a...       1   \n",
       "4  I came here to order a roast duck over rice to...       0   \n",
       "\n",
       "                  user_id  \n",
       "0  FEg8v92qx3kK4Hu4TF28Fg  \n",
       "1  HPtjvIrhzAUkKsiVkeT4MA  \n",
       "2  MpvqV7lQcl15rflTBEUhXA  \n",
       "3  x-Gbs8sVid3yhJIoHD6Gfw  \n",
       "4  7Dykd1HolQx8mKPYhYDYSg  "
      ]
     },
     "execution_count": 5,
     "metadata": {},
     "output_type": "execute_result"
    }
   ],
   "source": [
    "reviews_df.head()"
   ]
  },
  {
   "cell_type": "code",
   "execution_count": 6,
   "metadata": {},
   "outputs": [
    {
     "data": {
      "text/plain": [
       "(10000, 8)"
      ]
     },
     "execution_count": 6,
     "metadata": {},
     "output_type": "execute_result"
    }
   ],
   "source": [
    "reviews_df.shape"
   ]
  },
  {
   "cell_type": "code",
   "execution_count": 7,
   "metadata": {},
   "outputs": [
    {
     "data": {
      "text/html": [
       "<div>\n",
       "<style scoped>\n",
       "    .dataframe tbody tr th:only-of-type {\n",
       "        vertical-align: middle;\n",
       "    }\n",
       "\n",
       "    .dataframe tbody tr th {\n",
       "        vertical-align: top;\n",
       "    }\n",
       "\n",
       "    .dataframe thead th {\n",
       "        text-align: right;\n",
       "    }\n",
       "</style>\n",
       "<table border=\"1\" class=\"dataframe\">\n",
       "  <thead>\n",
       "    <tr style=\"text-align: right;\">\n",
       "      <th></th>\n",
       "      <th>cool</th>\n",
       "      <th>funny</th>\n",
       "      <th>stars</th>\n",
       "      <th>useful</th>\n",
       "    </tr>\n",
       "  </thead>\n",
       "  <tbody>\n",
       "    <tr>\n",
       "      <th>count</th>\n",
       "      <td>10000.000000</td>\n",
       "      <td>10000.000000</td>\n",
       "      <td>10000.00000</td>\n",
       "      <td>10000.000000</td>\n",
       "    </tr>\n",
       "    <tr>\n",
       "      <th>mean</th>\n",
       "      <td>0.535000</td>\n",
       "      <td>0.458000</td>\n",
       "      <td>3.76540</td>\n",
       "      <td>1.037900</td>\n",
       "    </tr>\n",
       "    <tr>\n",
       "      <th>std</th>\n",
       "      <td>1.866849</td>\n",
       "      <td>1.656958</td>\n",
       "      <td>1.31937</td>\n",
       "      <td>2.324307</td>\n",
       "    </tr>\n",
       "    <tr>\n",
       "      <th>min</th>\n",
       "      <td>0.000000</td>\n",
       "      <td>0.000000</td>\n",
       "      <td>1.00000</td>\n",
       "      <td>0.000000</td>\n",
       "    </tr>\n",
       "    <tr>\n",
       "      <th>25%</th>\n",
       "      <td>0.000000</td>\n",
       "      <td>0.000000</td>\n",
       "      <td>3.00000</td>\n",
       "      <td>0.000000</td>\n",
       "    </tr>\n",
       "    <tr>\n",
       "      <th>50%</th>\n",
       "      <td>0.000000</td>\n",
       "      <td>0.000000</td>\n",
       "      <td>4.00000</td>\n",
       "      <td>0.000000</td>\n",
       "    </tr>\n",
       "    <tr>\n",
       "      <th>75%</th>\n",
       "      <td>0.000000</td>\n",
       "      <td>0.000000</td>\n",
       "      <td>5.00000</td>\n",
       "      <td>1.000000</td>\n",
       "    </tr>\n",
       "    <tr>\n",
       "      <th>max</th>\n",
       "      <td>68.000000</td>\n",
       "      <td>52.000000</td>\n",
       "      <td>5.00000</td>\n",
       "      <td>72.000000</td>\n",
       "    </tr>\n",
       "  </tbody>\n",
       "</table>\n",
       "</div>"
      ],
      "text/plain": [
       "               cool         funny        stars        useful\n",
       "count  10000.000000  10000.000000  10000.00000  10000.000000\n",
       "mean       0.535000      0.458000      3.76540      1.037900\n",
       "std        1.866849      1.656958      1.31937      2.324307\n",
       "min        0.000000      0.000000      1.00000      0.000000\n",
       "25%        0.000000      0.000000      3.00000      0.000000\n",
       "50%        0.000000      0.000000      4.00000      0.000000\n",
       "75%        0.000000      0.000000      5.00000      1.000000\n",
       "max       68.000000     52.000000      5.00000     72.000000"
      ]
     },
     "execution_count": 7,
     "metadata": {},
     "output_type": "execute_result"
    }
   ],
   "source": [
    "reviews_df.describe()"
   ]
  },
  {
   "cell_type": "code",
   "execution_count": null,
   "metadata": {},
   "outputs": [],
   "source": []
  },
  {
   "cell_type": "code",
   "execution_count": null,
   "metadata": {},
   "outputs": [],
   "source": []
  },
  {
   "cell_type": "code",
   "execution_count": null,
   "metadata": {},
   "outputs": [],
   "source": []
  },
  {
   "cell_type": "code",
   "execution_count": null,
   "metadata": {},
   "outputs": [],
   "source": []
  },
  {
   "cell_type": "code",
   "execution_count": 8,
   "metadata": {},
   "outputs": [],
   "source": [
    "business_df = pd.read_json(\"../dataset/business_10k.json\", lines=True)"
   ]
  },
  {
   "cell_type": "code",
   "execution_count": 9,
   "metadata": {},
   "outputs": [
    {
     "data": {
      "text/html": [
       "<div>\n",
       "<style scoped>\n",
       "    .dataframe tbody tr th:only-of-type {\n",
       "        vertical-align: middle;\n",
       "    }\n",
       "\n",
       "    .dataframe tbody tr th {\n",
       "        vertical-align: top;\n",
       "    }\n",
       "\n",
       "    .dataframe thead th {\n",
       "        text-align: right;\n",
       "    }\n",
       "</style>\n",
       "<table border=\"1\" class=\"dataframe\">\n",
       "  <thead>\n",
       "    <tr style=\"text-align: right;\">\n",
       "      <th></th>\n",
       "      <th>address</th>\n",
       "      <th>attributes</th>\n",
       "      <th>business_id</th>\n",
       "      <th>categories</th>\n",
       "      <th>city</th>\n",
       "      <th>hours</th>\n",
       "      <th>is_open</th>\n",
       "      <th>latitude</th>\n",
       "      <th>longitude</th>\n",
       "      <th>name</th>\n",
       "      <th>neighborhood</th>\n",
       "      <th>postal_code</th>\n",
       "      <th>review_count</th>\n",
       "      <th>stars</th>\n",
       "      <th>state</th>\n",
       "    </tr>\n",
       "  </thead>\n",
       "  <tbody>\n",
       "    <tr>\n",
       "      <th>0</th>\n",
       "      <td>4855 E Warner Rd, Ste B9</td>\n",
       "      <td>{'AcceptsInsurance': True, 'ByAppointmentOnly'...</td>\n",
       "      <td>FYWN1wneV18bWNgQjJ2GNg</td>\n",
       "      <td>[Dentists, General Dentistry, Health &amp; Medical...</td>\n",
       "      <td>Ahwatukee</td>\n",
       "      <td>{'Friday': '7:30-17:00', 'Tuesday': '7:30-17:0...</td>\n",
       "      <td>1</td>\n",
       "      <td>33.330690</td>\n",
       "      <td>-111.978599</td>\n",
       "      <td>Dental by Design</td>\n",
       "      <td></td>\n",
       "      <td>85044</td>\n",
       "      <td>22</td>\n",
       "      <td>4.0</td>\n",
       "      <td>AZ</td>\n",
       "    </tr>\n",
       "    <tr>\n",
       "      <th>1</th>\n",
       "      <td>3101 Washington Rd</td>\n",
       "      <td>{'BusinessParking': {'garage': False, 'street'...</td>\n",
       "      <td>He-G7vWjzVUysIKrfNbPUQ</td>\n",
       "      <td>[Hair Stylists, Hair Salons, Men's Hair Salons...</td>\n",
       "      <td>McMurray</td>\n",
       "      <td>{'Monday': '9:00-20:00', 'Tuesday': '9:00-20:0...</td>\n",
       "      <td>1</td>\n",
       "      <td>40.291685</td>\n",
       "      <td>-80.104900</td>\n",
       "      <td>Stephen Szabo Salon</td>\n",
       "      <td></td>\n",
       "      <td>15317</td>\n",
       "      <td>11</td>\n",
       "      <td>3.0</td>\n",
       "      <td>PA</td>\n",
       "    </tr>\n",
       "    <tr>\n",
       "      <th>2</th>\n",
       "      <td>6025 N 27th Ave, Ste 1</td>\n",
       "      <td>{}</td>\n",
       "      <td>KQPW8lFf1y5BT2MxiSZ3QA</td>\n",
       "      <td>[Departments of Motor Vehicles, Public Service...</td>\n",
       "      <td>Phoenix</td>\n",
       "      <td>{}</td>\n",
       "      <td>1</td>\n",
       "      <td>33.524903</td>\n",
       "      <td>-112.115310</td>\n",
       "      <td>Western Motor Vehicle</td>\n",
       "      <td></td>\n",
       "      <td>85017</td>\n",
       "      <td>18</td>\n",
       "      <td>1.5</td>\n",
       "      <td>AZ</td>\n",
       "    </tr>\n",
       "    <tr>\n",
       "      <th>3</th>\n",
       "      <td>5000 Arizona Mills Cr, Ste 435</td>\n",
       "      <td>{'BusinessAcceptsCreditCards': True, 'Restaura...</td>\n",
       "      <td>8DShNS-LuFqpEWIp0HxijA</td>\n",
       "      <td>[Sporting Goods, Shopping]</td>\n",
       "      <td>Tempe</td>\n",
       "      <td>{'Monday': '10:00-21:00', 'Tuesday': '10:00-21...</td>\n",
       "      <td>0</td>\n",
       "      <td>33.383147</td>\n",
       "      <td>-111.964725</td>\n",
       "      <td>Sports Authority</td>\n",
       "      <td></td>\n",
       "      <td>85282</td>\n",
       "      <td>9</td>\n",
       "      <td>3.0</td>\n",
       "      <td>AZ</td>\n",
       "    </tr>\n",
       "    <tr>\n",
       "      <th>4</th>\n",
       "      <td>581 Howe Ave</td>\n",
       "      <td>{'Alcohol': 'full_bar', 'HasTV': True, 'NoiseL...</td>\n",
       "      <td>PfOCPjBrlQAnz__NXj9h_w</td>\n",
       "      <td>[American (New), Nightlife, Bars, Sandwiches, ...</td>\n",
       "      <td>Cuyahoga Falls</td>\n",
       "      <td>{'Monday': '11:00-1:00', 'Tuesday': '11:00-1:0...</td>\n",
       "      <td>1</td>\n",
       "      <td>41.119535</td>\n",
       "      <td>-81.475690</td>\n",
       "      <td>Brick House Tavern + Tap</td>\n",
       "      <td></td>\n",
       "      <td>44221</td>\n",
       "      <td>116</td>\n",
       "      <td>3.5</td>\n",
       "      <td>OH</td>\n",
       "    </tr>\n",
       "  </tbody>\n",
       "</table>\n",
       "</div>"
      ],
      "text/plain": [
       "                          address  \\\n",
       "0        4855 E Warner Rd, Ste B9   \n",
       "1              3101 Washington Rd   \n",
       "2          6025 N 27th Ave, Ste 1   \n",
       "3  5000 Arizona Mills Cr, Ste 435   \n",
       "4                    581 Howe Ave   \n",
       "\n",
       "                                          attributes             business_id  \\\n",
       "0  {'AcceptsInsurance': True, 'ByAppointmentOnly'...  FYWN1wneV18bWNgQjJ2GNg   \n",
       "1  {'BusinessParking': {'garage': False, 'street'...  He-G7vWjzVUysIKrfNbPUQ   \n",
       "2                                                 {}  KQPW8lFf1y5BT2MxiSZ3QA   \n",
       "3  {'BusinessAcceptsCreditCards': True, 'Restaura...  8DShNS-LuFqpEWIp0HxijA   \n",
       "4  {'Alcohol': 'full_bar', 'HasTV': True, 'NoiseL...  PfOCPjBrlQAnz__NXj9h_w   \n",
       "\n",
       "                                          categories            city  \\\n",
       "0  [Dentists, General Dentistry, Health & Medical...       Ahwatukee   \n",
       "1  [Hair Stylists, Hair Salons, Men's Hair Salons...        McMurray   \n",
       "2  [Departments of Motor Vehicles, Public Service...         Phoenix   \n",
       "3                         [Sporting Goods, Shopping]           Tempe   \n",
       "4  [American (New), Nightlife, Bars, Sandwiches, ...  Cuyahoga Falls   \n",
       "\n",
       "                                               hours  is_open   latitude  \\\n",
       "0  {'Friday': '7:30-17:00', 'Tuesday': '7:30-17:0...        1  33.330690   \n",
       "1  {'Monday': '9:00-20:00', 'Tuesday': '9:00-20:0...        1  40.291685   \n",
       "2                                                 {}        1  33.524903   \n",
       "3  {'Monday': '10:00-21:00', 'Tuesday': '10:00-21...        0  33.383147   \n",
       "4  {'Monday': '11:00-1:00', 'Tuesday': '11:00-1:0...        1  41.119535   \n",
       "\n",
       "    longitude                      name neighborhood postal_code  \\\n",
       "0 -111.978599          Dental by Design                    85044   \n",
       "1  -80.104900       Stephen Szabo Salon                    15317   \n",
       "2 -112.115310     Western Motor Vehicle                    85017   \n",
       "3 -111.964725          Sports Authority                    85282   \n",
       "4  -81.475690  Brick House Tavern + Tap                    44221   \n",
       "\n",
       "   review_count  stars state  \n",
       "0            22    4.0    AZ  \n",
       "1            11    3.0    PA  \n",
       "2            18    1.5    AZ  \n",
       "3             9    3.0    AZ  \n",
       "4           116    3.5    OH  "
      ]
     },
     "execution_count": 9,
     "metadata": {},
     "output_type": "execute_result"
    }
   ],
   "source": [
    "business_df.head()"
   ]
  },
  {
   "cell_type": "code",
   "execution_count": 10,
   "metadata": {},
   "outputs": [],
   "source": [
    "checkin_df = pd.read_json(\"../dataset/checkin_10k.json\", lines=True)"
   ]
  },
  {
   "cell_type": "code",
   "execution_count": 11,
   "metadata": {},
   "outputs": [
    {
     "data": {
      "text/html": [
       "<div>\n",
       "<style scoped>\n",
       "    .dataframe tbody tr th:only-of-type {\n",
       "        vertical-align: middle;\n",
       "    }\n",
       "\n",
       "    .dataframe tbody tr th {\n",
       "        vertical-align: top;\n",
       "    }\n",
       "\n",
       "    .dataframe thead th {\n",
       "        text-align: right;\n",
       "    }\n",
       "</style>\n",
       "<table border=\"1\" class=\"dataframe\">\n",
       "  <thead>\n",
       "    <tr style=\"text-align: right;\">\n",
       "      <th></th>\n",
       "      <th>business_id</th>\n",
       "      <th>time</th>\n",
       "    </tr>\n",
       "  </thead>\n",
       "  <tbody>\n",
       "    <tr>\n",
       "      <th>0</th>\n",
       "      <td>7KPBkxAOEtb3QeIL9PEErg</td>\n",
       "      <td>{'Thursday': {'21:00': 4, '1:00': 1, '4:00': 1...</td>\n",
       "    </tr>\n",
       "    <tr>\n",
       "      <th>1</th>\n",
       "      <td>kREVIrSBbtqBhIYkTccQUg</td>\n",
       "      <td>{'Monday': {'13:00': 1}, 'Thursday': {'20:00':...</td>\n",
       "    </tr>\n",
       "    <tr>\n",
       "      <th>2</th>\n",
       "      <td>tJRDll5yqpZwehenzE2cSg</td>\n",
       "      <td>{'Monday': {'12:00': 1, '1:00': 1}, 'Friday': ...</td>\n",
       "    </tr>\n",
       "    <tr>\n",
       "      <th>3</th>\n",
       "      <td>r1p7RAMzCV_6NPF0dNoR3g</td>\n",
       "      <td>{'Thursday': {'23:00': 1}, 'Saturday': {'21:00...</td>\n",
       "    </tr>\n",
       "    <tr>\n",
       "      <th>4</th>\n",
       "      <td>mDdqgfrvROGAumcQdZ3HIg</td>\n",
       "      <td>{'Monday': {'12:00': 1, '21:00': 1}, 'Wednesda...</td>\n",
       "    </tr>\n",
       "  </tbody>\n",
       "</table>\n",
       "</div>"
      ],
      "text/plain": [
       "              business_id                                               time\n",
       "0  7KPBkxAOEtb3QeIL9PEErg  {'Thursday': {'21:00': 4, '1:00': 1, '4:00': 1...\n",
       "1  kREVIrSBbtqBhIYkTccQUg  {'Monday': {'13:00': 1}, 'Thursday': {'20:00':...\n",
       "2  tJRDll5yqpZwehenzE2cSg  {'Monday': {'12:00': 1, '1:00': 1}, 'Friday': ...\n",
       "3  r1p7RAMzCV_6NPF0dNoR3g  {'Thursday': {'23:00': 1}, 'Saturday': {'21:00...\n",
       "4  mDdqgfrvROGAumcQdZ3HIg  {'Monday': {'12:00': 1, '21:00': 1}, 'Wednesda..."
      ]
     },
     "execution_count": 11,
     "metadata": {},
     "output_type": "execute_result"
    }
   ],
   "source": [
    "checkin_df.head()"
   ]
  },
  {
   "cell_type": "code",
   "execution_count": 12,
   "metadata": {},
   "outputs": [],
   "source": [
    "photos_df = pd.read_json(\"../dataset/photos_10k.json\", lines=True)"
   ]
  },
  {
   "cell_type": "code",
   "execution_count": 13,
   "metadata": {},
   "outputs": [
    {
     "data": {
      "text/html": [
       "<div>\n",
       "<style scoped>\n",
       "    .dataframe tbody tr th:only-of-type {\n",
       "        vertical-align: middle;\n",
       "    }\n",
       "\n",
       "    .dataframe tbody tr th {\n",
       "        vertical-align: top;\n",
       "    }\n",
       "\n",
       "    .dataframe thead th {\n",
       "        text-align: right;\n",
       "    }\n",
       "</style>\n",
       "<table border=\"1\" class=\"dataframe\">\n",
       "  <thead>\n",
       "    <tr style=\"text-align: right;\">\n",
       "      <th></th>\n",
       "      <th>business_id</th>\n",
       "      <th>caption</th>\n",
       "      <th>label</th>\n",
       "      <th>photo_id</th>\n",
       "    </tr>\n",
       "  </thead>\n",
       "  <tbody>\n",
       "    <tr>\n",
       "      <th>0</th>\n",
       "      <td>OnAzbTDn79W6CFZIriqLrA</td>\n",
       "      <td></td>\n",
       "      <td>inside</td>\n",
       "      <td>soK1szeyan202jnsGhUDmA</td>\n",
       "    </tr>\n",
       "    <tr>\n",
       "      <th>1</th>\n",
       "      <td>OnAzbTDn79W6CFZIriqLrA</td>\n",
       "      <td></td>\n",
       "      <td>inside</td>\n",
       "      <td>dU7AyRB_fHOZkflodEyN5A</td>\n",
       "    </tr>\n",
       "    <tr>\n",
       "      <th>2</th>\n",
       "      <td>OnAzbTDn79W6CFZIriqLrA</td>\n",
       "      <td></td>\n",
       "      <td>outside</td>\n",
       "      <td>6T1qlbBdKkXA1cDNqMjg2g</td>\n",
       "    </tr>\n",
       "    <tr>\n",
       "      <th>3</th>\n",
       "      <td>OnAzbTDn79W6CFZIriqLrA</td>\n",
       "      <td>Bakery area</td>\n",
       "      <td>inside</td>\n",
       "      <td>lHhMNhCA7rAZmi-MMfF3ZA</td>\n",
       "    </tr>\n",
       "    <tr>\n",
       "      <th>4</th>\n",
       "      <td>XaeCGHZzsMwvFcHYq3q9sA</td>\n",
       "      <td></td>\n",
       "      <td>food</td>\n",
       "      <td>oHSCeyoK9oLIGaCZq-wRJw</td>\n",
       "    </tr>\n",
       "  </tbody>\n",
       "</table>\n",
       "</div>"
      ],
      "text/plain": [
       "              business_id      caption    label                photo_id\n",
       "0  OnAzbTDn79W6CFZIriqLrA                inside  soK1szeyan202jnsGhUDmA\n",
       "1  OnAzbTDn79W6CFZIriqLrA                inside  dU7AyRB_fHOZkflodEyN5A\n",
       "2  OnAzbTDn79W6CFZIriqLrA               outside  6T1qlbBdKkXA1cDNqMjg2g\n",
       "3  OnAzbTDn79W6CFZIriqLrA  Bakery area   inside  lHhMNhCA7rAZmi-MMfF3ZA\n",
       "4  XaeCGHZzsMwvFcHYq3q9sA                  food  oHSCeyoK9oLIGaCZq-wRJw"
      ]
     },
     "execution_count": 13,
     "metadata": {},
     "output_type": "execute_result"
    }
   ],
   "source": [
    "photos_df.head()"
   ]
  },
  {
   "cell_type": "code",
   "execution_count": 14,
   "metadata": {},
   "outputs": [],
   "source": [
    "tip_df = pd.read_json(\"../dataset/tip_10k.json\", lines=True)"
   ]
  },
  {
   "cell_type": "code",
   "execution_count": 15,
   "metadata": {},
   "outputs": [
    {
     "data": {
      "text/html": [
       "<div>\n",
       "<style scoped>\n",
       "    .dataframe tbody tr th:only-of-type {\n",
       "        vertical-align: middle;\n",
       "    }\n",
       "\n",
       "    .dataframe tbody tr th {\n",
       "        vertical-align: top;\n",
       "    }\n",
       "\n",
       "    .dataframe thead th {\n",
       "        text-align: right;\n",
       "    }\n",
       "</style>\n",
       "<table border=\"1\" class=\"dataframe\">\n",
       "  <thead>\n",
       "    <tr style=\"text-align: right;\">\n",
       "      <th></th>\n",
       "      <th>business_id</th>\n",
       "      <th>date</th>\n",
       "      <th>likes</th>\n",
       "      <th>text</th>\n",
       "      <th>user_id</th>\n",
       "    </tr>\n",
       "  </thead>\n",
       "  <tbody>\n",
       "    <tr>\n",
       "      <th>0</th>\n",
       "      <td>tJRDll5yqpZwehenzE2cSg</td>\n",
       "      <td>2012-07-15</td>\n",
       "      <td>0</td>\n",
       "      <td>Get here early enough to have dinner.</td>\n",
       "      <td>zcTZk7OG8ovAmh_fenH21g</td>\n",
       "    </tr>\n",
       "    <tr>\n",
       "      <th>1</th>\n",
       "      <td>jH19V2I9fIslnNhDzPmdkA</td>\n",
       "      <td>2015-08-12</td>\n",
       "      <td>0</td>\n",
       "      <td>Great breakfast large portions and friendly wa...</td>\n",
       "      <td>ZcLKXikTHYOnYt5VYRO5sg</td>\n",
       "    </tr>\n",
       "    <tr>\n",
       "      <th>2</th>\n",
       "      <td>dAa0hB2yrnHzVmsCkN4YvQ</td>\n",
       "      <td>2014-06-20</td>\n",
       "      <td>0</td>\n",
       "      <td>Nice place. Great staff.  A fixture in the tow...</td>\n",
       "      <td>oaYhjqBbh18ZhU0bpyzSuw</td>\n",
       "    </tr>\n",
       "    <tr>\n",
       "      <th>3</th>\n",
       "      <td>dAa0hB2yrnHzVmsCkN4YvQ</td>\n",
       "      <td>2016-10-12</td>\n",
       "      <td>0</td>\n",
       "      <td>Happy hour 5-7 Monday - Friday</td>\n",
       "      <td>ulQ8Nyj7jCUR8M83SUMoRQ</td>\n",
       "    </tr>\n",
       "    <tr>\n",
       "      <th>4</th>\n",
       "      <td>ESzO3Av0b1_TzKOiqzbQYQ</td>\n",
       "      <td>2017-01-28</td>\n",
       "      <td>0</td>\n",
       "      <td>Parking is a premium, keep circling, you will ...</td>\n",
       "      <td>ulQ8Nyj7jCUR8M83SUMoRQ</td>\n",
       "    </tr>\n",
       "  </tbody>\n",
       "</table>\n",
       "</div>"
      ],
      "text/plain": [
       "              business_id       date  likes  \\\n",
       "0  tJRDll5yqpZwehenzE2cSg 2012-07-15      0   \n",
       "1  jH19V2I9fIslnNhDzPmdkA 2015-08-12      0   \n",
       "2  dAa0hB2yrnHzVmsCkN4YvQ 2014-06-20      0   \n",
       "3  dAa0hB2yrnHzVmsCkN4YvQ 2016-10-12      0   \n",
       "4  ESzO3Av0b1_TzKOiqzbQYQ 2017-01-28      0   \n",
       "\n",
       "                                                text                 user_id  \n",
       "0              Get here early enough to have dinner.  zcTZk7OG8ovAmh_fenH21g  \n",
       "1  Great breakfast large portions and friendly wa...  ZcLKXikTHYOnYt5VYRO5sg  \n",
       "2  Nice place. Great staff.  A fixture in the tow...  oaYhjqBbh18ZhU0bpyzSuw  \n",
       "3                     Happy hour 5-7 Monday - Friday  ulQ8Nyj7jCUR8M83SUMoRQ  \n",
       "4  Parking is a premium, keep circling, you will ...  ulQ8Nyj7jCUR8M83SUMoRQ  "
      ]
     },
     "execution_count": 15,
     "metadata": {},
     "output_type": "execute_result"
    }
   ],
   "source": [
    "tip_df.head()"
   ]
  },
  {
   "cell_type": "code",
   "execution_count": null,
   "metadata": {},
   "outputs": [],
   "source": []
  },
  {
   "cell_type": "markdown",
   "metadata": {},
   "source": [
    "# Baseline Model"
   ]
  },
  {
   "cell_type": "code",
   "execution_count": 16,
   "metadata": {},
   "outputs": [
    {
     "name": "stdout",
     "output_type": "stream",
     "text": [
      "Fitting Count Vectorizer\n",
      "(10000, 24872)\n"
     ]
    }
   ],
   "source": [
    "n_features = 100000\n",
    "\n",
    "text = reviews_df[\"text\"]\n",
    "\n",
    "print(\"Fitting Count Vectorizer\")\n",
    "# vectorizer = CountVectorizer(max_df=0.95, min_df=2,\n",
    "#                                 max_features=n_features,\n",
    "#                                 stop_words='english')\n",
    "# word_vector = vectorizer.fit_transform(text)\n",
    "\n",
    "# No setting of hyper-parameters\n",
    "vectorizer = CountVectorizer()\n",
    "word_vector = vectorizer.fit_transform(text)\n",
    "\n",
    "print(np.shape(word_vector))"
   ]
  },
  {
   "cell_type": "code",
   "execution_count": 17,
   "metadata": {},
   "outputs": [
    {
     "name": "stdout",
     "output_type": "stream",
     "text": [
      "At ces trade show and looking for lunch. I show up at 2:03 and the host jokingly says we are closed. We laughed. But he meant it. Last year my burger ordered medium came out almost raw. I am never going back\n",
      "1\n",
      "  (0, 17650)\t1\n",
      "  (0, 3376)\t1\n",
      "  (0, 13684)\t1\n",
      "  (0, 12582)\t1\n",
      "  (0, 4549)\t1\n",
      "  (0, 19037)\t1\n",
      "  (0, 11962)\t1\n",
      "  (0, 22483)\t1\n",
      "  (0, 3953)\t1\n",
      "  (0, 10897)\t1\n",
      "  (0, 13729)\t1\n",
      "  (0, 24528)\t1\n",
      "  (0, 12)\t1\n",
      "  (0, 12556)\t1\n",
      "  (0, 13164)\t1\n",
      "  (0, 15363)\t1\n",
      "  (0, 13056)\t1\n",
      "  (0, 19747)\t2\n",
      "  (0, 1101)\t1\n",
      "  (0, 10472)\t1\n",
      "  (0, 1133)\t1\n",
      "  (0, 3582)\t1\n",
      "  (0, 15453)\t1\n",
      "  (0, 14751)\t1\n",
      "  (0, 2016)\t1\n",
      "  (0, 1762)\t2\n",
      "  (0, 9793)\t1\n",
      "  (0, 23190)\t1\n",
      "  (0, 23929)\t2\n",
      "  (0, 1555)\t1\n",
      "  (0, 1239)\t2\n",
      "  (0, 8885)\t1\n",
      "  (0, 3440)\t1\n",
      "  (0, 22022)\t1\n",
      "  (0, 11748)\t1\n",
      "  (0, 14510)\t1\n"
     ]
    }
   ],
   "source": [
    "#Print example text, stars, and embeddings\n",
    "\n",
    "print(reviews_df[\"text\"][102])\n",
    "print(reviews_df[\"stars\"][102])\n",
    "print(word_vector[102])"
   ]
  },
  {
   "cell_type": "code",
   "execution_count": null,
   "metadata": {},
   "outputs": [],
   "source": []
  },
  {
   "cell_type": "markdown",
   "metadata": {},
   "source": [
    "## NB Training and Scoring"
   ]
  },
  {
   "cell_type": "code",
   "execution_count": 18,
   "metadata": {},
   "outputs": [],
   "source": [
    "# x_train_user_reviews = reviews_df[\"text\"][0:6000]\n",
    "# x_dev_user_reviews = reviews_df[\"text\"][6001:8000]\n",
    "# x_test_user_reviews = reviews_df[\"text\"][8001:10000]\n",
    "\n",
    "\n",
    "# x_train_user_reviews = word_vector[0:6000]\n",
    "# x_dev_user_reviews = word_vector[6001:8000]\n",
    "x_train_user_reviews = word_vector[0:8000]\n",
    "x_test_user_reviews = word_vector[8001:10000]\n",
    "\n",
    "# print(\"x_train_user_reviews\", x_train_user_reviews)\n",
    "# print(\"shape x_train_user_reviews\", np.shape(x_train_user_reviews))\n",
    "\n",
    "\n",
    "\n",
    "# y_train_user_stars = reviews_df[\"stars\"][0:6000]\n",
    "# y_dev_user_stars = reviews_df[\"stars\"][6001:8000]\n",
    "y_train_user_stars = reviews_df[\"stars\"][0:8000]\n",
    "y_test_user_stars = reviews_df[\"stars\"][8001:10000]\n",
    "\n",
    "\n",
    "\n",
    "\n",
    "train_file = x_train_user_reviews\n",
    "label_file = y_train_user_stars\n",
    "training_data = x_train_user_reviews\n",
    "\n",
    "\n",
    "\n",
    "\n"
   ]
  },
  {
   "cell_type": "code",
   "execution_count": 19,
   "metadata": {},
   "outputs": [],
   "source": [
    "# -> 133             self.config.input_dim = self.training_data.shape[2]\n",
    "#     134             self.config.step_size = self.training_data.shape[1]\n",
    "#     135             self.config.label_dim = self.training_label.shape[1]\n",
    "\n",
    "# # print(training_data.shape[2])\n",
    "# print(training_data.shape[1])\n",
    "# print(np.shape(training_data))\n",
    "# print(len(training_data))\n",
    "# print(\"hi\")\n",
    "\n"
   ]
  },
  {
   "cell_type": "code",
   "execution_count": null,
   "metadata": {},
   "outputs": [],
   "source": []
  },
  {
   "cell_type": "code",
   "execution_count": null,
   "metadata": {},
   "outputs": [],
   "source": []
  },
  {
   "cell_type": "code",
   "execution_count": null,
   "metadata": {},
   "outputs": [],
   "source": []
  },
  {
   "cell_type": "code",
   "execution_count": 20,
   "metadata": {},
   "outputs": [
    {
     "name": "stdout",
     "output_type": "stream",
     "text": [
      "Accuracy on test set: 55.93%\n"
     ]
    }
   ],
   "source": [
    "nb = MultinomialNB()\n",
    "\n",
    "nb.fit(x_train_user_reviews, y_train_user_stars)\n",
    "\n",
    "y_pred = nb.predict(x_test_user_reviews)\n",
    "\n",
    "acc = accuracy_score(y_pred, y_test_user_stars)\n",
    "print(\"Accuracy on test set: {:.02%}\".format(acc))\n",
    "# pred_proba = nb.predict_proba(y_pred)\n",
    "# log_loss_metric = log_loss(y_test_user_stars, pred_proba)\n",
    "# print(\"Log-loss on test set: {:.02%}\".format(log_loss_metric))"
   ]
  },
  {
   "cell_type": "code",
   "execution_count": 21,
   "metadata": {},
   "outputs": [
    {
     "name": "stdout",
     "output_type": "stream",
     "text": [
      "4\n"
     ]
    }
   ],
   "source": [
    "# Print example prediction\n",
    "\n",
    "print(y_pred[400])"
   ]
  },
  {
   "cell_type": "markdown",
   "metadata": {},
   "source": [
    "## Create New Slices of Review JSON"
   ]
  },
  {
   "cell_type": "code",
   "execution_count": 22,
   "metadata": {},
   "outputs": [],
   "source": [
    "# # reviews_path = \"../../full_dataset/review.json\"\n",
    "# full_df = pd.read_json(\"../../full_dataset/review.json\", lines=True)\n",
    "# full_df.shape\n",
    "\n"
   ]
  },
  {
   "cell_type": "code",
   "execution_count": 23,
   "metadata": {},
   "outputs": [],
   "source": [
    "# df_100k = full_df[0:100000]\n",
    "# df_100k.to_json('../../full_dataset/df_100k.json', orient='records', lines=True)\n",
    "# df_100k.shape"
   ]
  },
  {
   "cell_type": "code",
   "execution_count": null,
   "metadata": {},
   "outputs": [],
   "source": []
  },
  {
   "cell_type": "code",
   "execution_count": null,
   "metadata": {},
   "outputs": [],
   "source": []
  },
  {
   "cell_type": "markdown",
   "metadata": {},
   "source": [
    "## RNN-LSTM"
   ]
  },
  {
   "cell_type": "code",
   "execution_count": 24,
   "metadata": {},
   "outputs": [],
   "source": [
    "# !pip install --upgrade pip\n",
    "\n",
    "# !pip install keras\n",
    "# !pip install pandas_ml\n"
   ]
  },
  {
   "cell_type": "code",
   "execution_count": 25,
   "metadata": {},
   "outputs": [
    {
     "name": "stderr",
     "output_type": "stream",
     "text": [
      "Using TensorFlow backend.\n"
     ]
    }
   ],
   "source": [
    "import pandas as pd\n",
    "import numpy as np\n",
    "import os\n",
    "import seaborn as sns\n",
    "import pickle\n",
    "from keras.preprocessing.text import Tokenizer\n",
    "from keras.preprocessing.sequence import pad_sequences\n",
    "from keras.utils.np_utils import to_categorical\n",
    "from keras.models import Sequential, load_model\n",
    "from keras.layers import Embedding, Dropout, Dense, LSTM\n",
    "from keras.callbacks import CSVLogger, History, ModelCheckpoint, EarlyStopping\n",
    "from keras.models import model_from_json\n",
    "from sklearn.model_selection import train_test_split\n",
    "from sklearn.metrics import roc_auc_score, roc_curve, auc, accuracy_score, precision_recall_fscore_support\n",
    "from pandas_ml import ConfusionMatrix\n",
    "\n",
    "from scipy import stats\n",
    "\n",
    "%matplotlib inline\n",
    "\n",
    "class YelpLSTM(object):\n",
    "    def __init__(self, parms):\n",
    "        self._parms = parms\n",
    "#         self._tokenizer = Tokenizer(nb_words=self._parms['vocabulary_size'])\n",
    "        self._tokenizer = Tokenizer(num_words=self._parms['vocabulary_size'])\n",
    "\n",
    "        self._reviews = None\n",
    "        self._balanced = None\n",
    "        self._glove = None\n",
    "        self._embedding_matrix = None\n",
    "        self._model = None\n",
    "        self._verbose = True\n",
    "        self._predicted_classes = None\n",
    "        self._predicted_proba = None\n",
    "        self._eval_actual = None\n",
    "        self._eval_predicted_proba = None\n",
    "        self._eval_predicted_classes = None\n",
    "        self._logs = None\n",
    "        self._tpr = None\n",
    "        self._fpr = None\n",
    "        self._thresholds = None\n",
    "        self._auc = None\n",
    "        self._target_range = None\n",
    "        \n",
    "    def console(self, message):\n",
    "        if self._verbose:\n",
    "            print(message)\n",
    "            \n",
    "    def update_parms(self, parms):\n",
    "        if parms['vocabulary_size'] != self._parms['vocabulary_size']:\n",
    "            self._tokenizer = Tokenizer(nb_words=parms['vocabulary_size'])\n",
    "        self._parms = parms\n",
    "\n",
    "    def load_reviews(self, reviews_path):\n",
    "        self.console('Loading reviews...')\n",
    "        \n",
    "        self._reviews = pd.read_json(reviews_path, lines=True)\n",
    "\n",
    "        self.console('%d reviews loaded.' % len(self._reviews))\n",
    "        \n",
    "#     def load_glove(self, glove_folder):\n",
    "    # Changing to only load single file\n",
    "    def load_glove(self, gloveFile):\n",
    "        self.console('Loading GloVe embeddings...')\n",
    "        glove = {}\n",
    "        count = 0\n",
    "#         with open(os.path.join(glove_folder, 'glove.6B.' + str(self._parms['embedding_dim']) + 'd.txt'), 'r') as f:\n",
    "\n",
    "        with open(gloveFile, 'r') as f:\n",
    "            while True:\n",
    "                line = f.readline()\n",
    "                if not line:\n",
    "                    break\n",
    "                line = line.split(' ')\n",
    "                word = line[0]\n",
    "                vector = np.asarray(line[1:], dtype='float32')\n",
    "                glove[word] = vector\n",
    "        self._glove = glove\n",
    "        self.console('%d embeddings loaded.' % len(self._glove))\n",
    "        \n",
    "    @property\n",
    "    def training(self):\n",
    "        return self._X_train, self._y_train\n",
    "    \n",
    "    @property\n",
    "    def test(self):\n",
    "        return self._X_test, self._y_test\n",
    "    \n",
    "    @property\n",
    "    def best_model(self):\n",
    "        return self._model\n",
    "    \n",
    "    @property\n",
    "    def predicted_classes(self):\n",
    "        return self._predicted_classes\n",
    "    \n",
    "    @property\n",
    "    def predicted_proba(self):\n",
    "        return self._predicted_proba\n",
    "    \n",
    "    @property\n",
    "    def tokenizer(self):\n",
    "        return self._tokenizer\n",
    "    \n",
    "    @property\n",
    "    def logs(self):\n",
    "        return self._logs\n",
    "        \n",
    "    @property\n",
    "    def confusion_matrix(self):\n",
    "        return self._cm\n",
    "    \n",
    "    @property\n",
    "    def prfs(self):\n",
    "        return self._prfs\n",
    "    \n",
    "    @property\n",
    "    def prfs_weighted(self):\n",
    "        return self._prfs_weighted\n",
    "    \n",
    "    @property\n",
    "    def corr_coeff(self):\n",
    "        return self._corr_coeff\n",
    "    \n",
    "    @property\n",
    "    def fpr(self):\n",
    "        return self._fpr\n",
    "    \n",
    "    @property\n",
    "    def tpr(self):\n",
    "        return self._tpr\n",
    "    \n",
    "    @property\n",
    "    def thresholds(self):\n",
    "        return self._thresholds\n",
    "    \n",
    "    @property\n",
    "    def auc(self):\n",
    "        return self._auc\n",
    "    \n",
    "    @property\n",
    "    def eval_actual(self):\n",
    "        return self._eval_actual\n",
    "    \n",
    "    @property\n",
    "    def eval_predicted_classes(self):\n",
    "        return self._eval_predicted_classes\n",
    "            \n",
    "    def _balance_dataset(self):\n",
    "        categories = []\n",
    "        samples = []\n",
    "                \n",
    "        self._target_range = range(2)\n",
    "        \n",
    "        if self._parms['target']['feature'] == 'stars':\n",
    "            prefix = ''\n",
    "            self._target_range = range(1,6)\n",
    "            \n",
    "        else:\n",
    "            prefix = 'is_'\n",
    "            self._reviews['is_' + self._parms['target']['feature']] = self._reviews[self._parms['target']['feature']].apply(lambda v: v > self._parms['target']['threshold']).astype(int)            \n",
    "        for i in self._target_range:\n",
    "            categories.append(self._reviews[self._reviews[prefix + self._parms['target']['feature']] == i])\n",
    "        \n",
    "        sizes = list(map(lambda s: len(s), categories))\n",
    "        \n",
    "        nb_samples = min(self._parms['samples'], np.min(sizes))\n",
    "        self.console('Using %s samples per category' % str(nb_samples))\n",
    "        \n",
    "        for category in categories:\n",
    "            samples.append(category.sample(n=nb_samples, random_state=32))\n",
    "        self._balanced = pd.concat(samples)\n",
    "       \n",
    "    def _build_datasets(self):\n",
    "        self._tokenizer.fit_on_texts(self._balanced.text.values)\n",
    "        \n",
    "        sequences = self._tokenizer.texts_to_sequences(self._balanced.text)\n",
    "        padded_seq = pad_sequences(sequences, maxlen=self._parms['seq_size'])\n",
    "        \n",
    "        if self._parms['target']['feature'] == 'stars':\n",
    "            target = to_categorical(self._balanced[self._parms['target']['feature']])\n",
    "        else:\n",
    "            target = self._balanced['is_' + self._parms['target']['feature']].values\n",
    "\n",
    "        # Original\n",
    "#         self._X_train, self._X_test, self._y_train, self._y_test = train_test_split(padded_seq, target, test_size=0.2, random_state=42)\n",
    "        # Updates to randomization to replicate shared restaurant_reviews_final.JSON\n",
    "        self._X_train, self._X_test, self._y_train, self._y_test = train_test_split(padded_seq, target, test_size=0.2, random_state=123)\n",
    "            \n",
    "    def _build_embeddings(self):\n",
    "        tokenized_words = map(lambda t: t[0], sorted(self._tokenizer.word_index.items(), key=lambda t: t[1])[:self._parms['vocabulary_size']])\n",
    "\n",
    "        embedding_matrix = np.zeros((self._parms['vocabulary_size'], self._parms['embedding_dim']))\n",
    "        for idx, word in enumerate(tokenized_words):\n",
    "            try:\n",
    "                embedding_matrix[idx] = self._glove[word]\n",
    "            except:\n",
    "                pass\n",
    "        self._embedding_matrix = embedding_matrix\n",
    "\n",
    "    def _build_model(self):\n",
    "        model = Sequential()\n",
    "\n",
    "        model.add(Embedding(input_dim=self._parms['vocabulary_size'],\n",
    "                            output_dim=self._parms['embedding_dim'],\n",
    "                            input_length=self._parms['seq_size'],\n",
    "                            weights=[self._embedding_matrix],\n",
    "                            trainable=False))\n",
    "\n",
    "        model.add(LSTM(self._parms['memory_neurons']))\n",
    "        model.add(Dropout(0.2))\n",
    "\n",
    "        activation = 'sigmoid'\n",
    "        loss = 'binary_crossentropy'        \n",
    "        \n",
    "        outputs = 1\n",
    "        \n",
    "        if len(self._y_train.shape) > 1:\n",
    "            activation = 'softmax'\n",
    "            loss = 'categorical_crossentropy'\n",
    "            outputs = self._y_train.shape[1]\n",
    "            \n",
    "        model.add(Dense(outputs, activation=activation))        \n",
    "        \n",
    "        model.compile(loss=loss, optimizer='nadam', metrics=['accuracy'])    \n",
    "    \n",
    "        self._model = model\n",
    "        self.console(self._model.summary())\n",
    "\n",
    "    def fit(self, model_name, folder='./', verbose=True):\n",
    "        self._verbose = verbose\n",
    "        \n",
    "        assert self._reviews is not None, 'Reviews file was not loaded'\n",
    "        assert len(self._reviews) > 0, 'Reviews file is empty'\n",
    "        assert self._glove is not None, 'GloVe file was not loaded'\n",
    "        assert len(self._glove) > 0, 'GloVe file is empty'\n",
    "        \n",
    "        self.console('Balancing dataset...')\n",
    "        self._balance_dataset()\n",
    "        self.console('Building training and test datasets...')\n",
    "        self._build_datasets()\n",
    "        self.console('Building word embeddings from GloVe...')\n",
    "        self._build_embeddings()\n",
    "        self.console('Building model...')\n",
    "        self._build_model()\n",
    "        self.console('Fitting model...')\n",
    "        \n",
    "        parms_desc = model_name + '_%ddim_%dvoc_%dseq' % (self._parms['embedding_dim'],\n",
    "                                                          self._parms['vocabulary_size'],\n",
    "                                                          self._parms['seq_size'])      \n",
    "        \n",
    "        hist = History()        \n",
    "        \n",
    "        logger = CSVLogger(os.path.join(folder, parms_desc) + '_training_logs.csv')     \n",
    "        \n",
    "        checks = ModelCheckpoint(os.path.join(folder, parms_desc) + '_model-{epoch:02d}_{val_acc:.2f}',\n",
    "                                 monitor='val_acc',\n",
    "                                 verbose=int(self._verbose),\n",
    "                                 save_best_only=True,\n",
    "                                 mode='max')\n",
    "        early_stopping = EarlyStopping(monitor='val_acc', patience=2)\n",
    "        \n",
    "        self._model.fit(self._X_train\n",
    "                        , self._y_train\n",
    "#                        , nb_epoch=self._parms['nb_epochs']\n",
    "                        , epochs=self._parms['epochs']\n",
    "                        , batch_size=self._parms['batch_size']\n",
    "                        , validation_data=(self._X_test, self._y_test)\n",
    "                        , callbacks=[checks, hist, logger, early_stopping]\n",
    "                        )\n",
    "        \n",
    "        self._logs = pd.read_csv(os.path.join(folder, parms_desc) + '_training_logs.csv')\n",
    "        best_epoch = self._logs['val_acc'].argmax()\n",
    "    \n",
    "        best_val_acc = '{:.2f}'.format(self._logs['val_acc'].iloc[best_epoch])\n",
    "        \n",
    "        best_model = (os.path.join(folder, parms_desc) + '_model-%02d_%s') % (best_epoch + 1, best_val_acc)\n",
    "        \n",
    "        with open(os.path.join(folder, parms_desc + '_tokenizer'), 'wb') as tok:\n",
    "            pickle.dump(self._tokenizer, tok)\n",
    "        \n",
    "        self.console('Calculating predictions for the best model...')\n",
    "        self._model = load_model(best_model)       \n",
    "        \n",
    "        self._predicted_proba = self.predict_proba()\n",
    "        if len(self._y_train.shape) > 1:\n",
    "            self._predicted_classes = np.argmax(self._predicted_proba, axis=1)\n",
    "            \n",
    "        else:\n",
    "            self._predicted_classes = (self._predicted_proba > 0.5).astype(int)\n",
    "        \n",
    "        self.console('Calculating metrics for the best model...')\n",
    "        self.evaluate()\n",
    "        self.console('Finished!')\n",
    "        \n",
    "        \n",
    "        \n",
    "        \n",
    "        \n",
    "        \n",
    "        \n",
    "        # serialize model to JSON\n",
    "        model_json = self._model.to_json()\n",
    "        with open(\"model.json\", \"w\") as json_file:\n",
    "            json_file.write(model_json)\n",
    "        # serialize weights to HDF5\n",
    "        self._model.save_weights(\"model.h5\")\n",
    "        print(\"Saved model to disk\")\n",
    "        \n",
    "        \n",
    "        \n",
    "        \n",
    "        \n",
    "        \n",
    "        return self._model\n",
    "\n",
    "    def load(self, tokenizer, model):\n",
    "        error_msg = ''\n",
    "        try:\n",
    "            self._model = load_model(model)\n",
    "        except:\n",
    "            error_msg = 'Error loading model!'\n",
    "            \n",
    "        try:\n",
    "            with open(tokenizer, 'rb') as tok:\n",
    "                self._tokenizer = pickle.load(tok)\n",
    "        except:\n",
    "            error_msg = 'Error loading tokenizer!'\n",
    "            \n",
    "        return (error_msg == ''), error_msg\n",
    "    \n",
    "    def make_prediction(self, sentence):\n",
    "        sequence = self._tokenizer.texts_to_sequences([sentence])\n",
    "        padded_seq = pad_sequences(sequence, maxlen=self._parms['seq_size'])\n",
    "        return self.predict_classes(padded_seq)[0]\n",
    "    \n",
    "    def predict_classes(self, X=None, threshold=0.5):\n",
    "        if len(self._y_train.shape) > 1:\n",
    "            predictions = np.argmax(self.predict_proba(X), axis=1)\n",
    "        else:\n",
    "            predictions = (self.predict_proba(X) > threshold).astype(int)\n",
    "            \n",
    "        return predictions\n",
    "        \n",
    "    def predict_proba(self, X=None):\n",
    "        if X is None:\n",
    "            X = self._X_test\n",
    "        predictions = self._model.predict_proba(X)\n",
    "        return predictions\n",
    "    \n",
    "    def evaluate(self, actual=None, predicted_proba=None, threshold=0.5):\n",
    "        if actual is None:\n",
    "            eval_actual = self._y_test[:]\n",
    "        else:\n",
    "            eval_actual = actual[:]\n",
    "            \n",
    "        if predicted_proba is None:\n",
    "            eval_predicted_proba = self._predicted_proba[:]\n",
    "        else:\n",
    "            eval_predicted_proba = predicted_proba[:]\n",
    "            \n",
    "        if len(eval_actual.shape) == 1:\n",
    "            binary = True\n",
    "            eval_predicted_classes = (eval_predicted_proba > threshold).astype(int).ravel()\n",
    "            eval_predicted_proba = eval_predicted_proba.ravel()\n",
    "        else:\n",
    "            binary = False\n",
    "            eval_predicted_classes = eval_predicted_proba.argmax(axis=1)\n",
    "            eval_actual = eval_actual.argmax(axis=1)\n",
    "        \n",
    "        self._eval_actual = eval_actual\n",
    "        self._eval_predicted_proba = eval_predicted_proba\n",
    "        self._eval_predicted_classes = eval_predicted_classes\n",
    "    \n",
    "        self._cm = ConfusionMatrix(self._eval_actual, self._eval_predicted_classes)\n",
    "        \n",
    "        prfs = precision_recall_fscore_support(y_true=self._eval_actual, y_pred=self._eval_predicted_classes)\n",
    "        prfs = pd.DataFrame.from_dict(dict(zip(['precision', 'recall', 'fscore', 'support'], prfs)))\n",
    "        prfs_weighted = precision_recall_fscore_support(y_true=self._eval_actual, y_pred=self._eval_predicted_classes, average = 'weighted')\n",
    "        prfs_weighted = pd.DataFrame.from_dict(dict(zip(['precision', 'recall', 'fscore', 'support'], prfs_weighted)))\n",
    "        corr_coeff = matthews_corrcoef(y_true=self._eval_actual, y_pred=self._eval_predicted_classes)                \n",
    "        \n",
    "#         prfs.set_index([self._target_range], inplace=True)\n",
    "        \n",
    "        self._prfs = prfs\n",
    "        self._prfs_weighted = prfs_weighted\n",
    "        self._corr_coeff = corr_coeff\n",
    "        \n",
    "        if binary:\n",
    "            self._fpr, self._tpr, self._thresholds = roc_curve(self._eval_actual, self._eval_predicted_proba)\n",
    "            self._auc = auc(self._fpr, self._tpr)\n",
    "        else:\n",
    "            self._fpr, self._tpr, self._thresholds, self._auc = None, None, None, None"
   ]
  },
  {
   "cell_type": "code",
   "execution_count": 26,
   "metadata": {},
   "outputs": [],
   "source": [
    "parms = {\n",
    "#          'embedding_dim': 100,\n",
    "         'embedding_dim': 300,\n",
    "        \n",
    "         'vocabulary_size': 10000,\n",
    "#          'vocabulary_size': 100000,\n",
    "         'seq_size': 400,\n",
    "\n",
    "#          'epochs': 30,         \n",
    "#          'epochs': 2,\n",
    "         'epochs': 1,\n",
    "         \n",
    "         'batch_size': 128,\n",
    "         'memory_neurons': 100,\n",
    "         'target': {\n",
    "             'feature': 'stars'\n",
    "             , 'threshold': None\n",
    "             },\n",
    "#          'samples': 62500\n",
    "         'samples': 1000000\n",
    "         }\n",
    "\n",
    "lstm = YelpLSTM(parms)"
   ]
  },
  {
   "cell_type": "code",
   "execution_count": 27,
   "metadata": {},
   "outputs": [
    {
     "name": "stdout",
     "output_type": "stream",
     "text": [
      "Start time:  2018-08-07 07:03:28.534522\n",
      "Loading reviews...\n",
      "1873619 reviews loaded.\n",
      "End time:  2018-08-07 07:03:59.889724\n",
      "Time taken:  0:00:31.355202\n"
     ]
    }
   ],
   "source": [
    "start_time = datetime.datetime.now()\n",
    "print(\"Start time: \", start_time)\n",
    "\n",
    "# reviews_path = \"../dataset/review_10k.json\"\n",
    "\n",
    "# reviews_path = \"../dataset/restaurant_reviews_10k.json\"\n",
    "\n",
    "# reviews_path = \"../../full_dataset/review.json\"\n",
    "\n",
    "# reviews_path = \"../../full_dataset/df_100k.json\"\n",
    "\n",
    "# reviews_path = \"../../full_dataset/restaurant_reviews.json\"\n",
    "\n",
    "reviews_path = \"../../full_dataset/restaurant_reviews_final.json\"\n",
    "\n",
    "lstm.load_reviews(reviews_path)\n",
    "\n",
    "end_time = datetime.datetime.now()\n",
    "print(\"End time: \", end_time)\n",
    "\n",
    "time_taken = end_time - start_time\n",
    "print(\"Time taken: \", time_taken)"
   ]
  },
  {
   "cell_type": "code",
   "execution_count": null,
   "metadata": {},
   "outputs": [],
   "source": []
  },
  {
   "cell_type": "code",
   "execution_count": 28,
   "metadata": {},
   "outputs": [
    {
     "name": "stdout",
     "output_type": "stream",
     "text": [
      "Start time:  2018-08-07 07:03:59.901057\n",
      "Loading GloVe embeddings...\n",
      "400000 embeddings loaded.\n",
      "End time:  2018-08-07 07:04:36.653117\n",
      "Time taken:  0:00:36.752060\n"
     ]
    }
   ],
   "source": [
    "# Small GloVe file\n",
    "# gloveFile = \"../../glove/glove.6B.100d.txt\"\n",
    "\n",
    "# Primary GloVe file\n",
    "gloveFile = \"../../glove/glove.6B.300d.txt\"\n",
    "\n",
    "# Large GloVe file\n",
    "# gloveFile = \"../../glove/glove.42B.300d.txt\"\n",
    "\n",
    "start_time = datetime.datetime.now()\n",
    "print(\"Start time: \", start_time)\n",
    "\n",
    "lstm.load_glove(gloveFile)\n",
    "\n",
    "end_time = datetime.datetime.now()\n",
    "print(\"End time: \", end_time)\n",
    "\n",
    "time_taken = end_time - start_time\n",
    "print(\"Time taken: \", time_taken)"
   ]
  },
  {
   "cell_type": "code",
   "execution_count": 29,
   "metadata": {},
   "outputs": [
    {
     "name": "stdout",
     "output_type": "stream",
     "text": [
      "Start time:  2018-08-07 07:04:36.664735\n",
      "Balancing dataset...\n",
      "Using 146429 samples per category\n",
      "Building training and test datasets...\n",
      "Building word embeddings from GloVe...\n",
      "Building model...\n",
      "_________________________________________________________________\n",
      "Layer (type)                 Output Shape              Param #   \n",
      "=================================================================\n",
      "embedding_1 (Embedding)      (None, 400, 300)          3000000   \n",
      "_________________________________________________________________\n",
      "lstm_1 (LSTM)                (None, 100)               160400    \n",
      "_________________________________________________________________\n",
      "dropout_1 (Dropout)          (None, 100)               0         \n",
      "_________________________________________________________________\n",
      "dense_1 (Dense)              (None, 6)                 606       \n",
      "=================================================================\n",
      "Total params: 3,161,006\n",
      "Trainable params: 161,006\n",
      "Non-trainable params: 3,000,000\n",
      "_________________________________________________________________\n",
      "None\n",
      "Fitting model...\n",
      "Train on 585716 samples, validate on 146429 samples\n",
      "Epoch 1/1\n",
      "585716/585716 [==============================] - 3440s 6ms/step - loss: 1.0273 - acc: 0.5437 - val_loss: 0.9165 - val_acc: 0.5948\n",
      "\n",
      "Epoch 00001: val_acc improved from -inf to 0.59477, saving model to ./models/stars/stars_100neurons_300dim_10000voc_400seq_model-01_0.59\n"
     ]
    },
    {
     "name": "stderr",
     "output_type": "stream",
     "text": [
      "/home/alexanderherring/anaconda3/lib/python3.6/site-packages/ipykernel_launcher.py:257: FutureWarning: 'argmax' is deprecated. Use 'idxmax' instead. The behavior of 'argmax' will be corrected to return the positional maximum in the future. Use 'series.values.argmax' to get the position of the maximum now.\n"
     ]
    },
    {
     "name": "stdout",
     "output_type": "stream",
     "text": [
      "Calculating predictions for the best model...\n",
      "Calculating metrics for the best model...\n",
      "Finished!\n",
      "Saved model to disk\n",
      "End time:  2018-08-07 08:12:23.669537\n",
      "Time taken:  1:07:47.004802\n"
     ]
    }
   ],
   "source": [
    "start_time = datetime.datetime.now()\n",
    "print(\"Start time: \", start_time)\n",
    "\n",
    "model = lstm.fit(model_name='stars_100neurons', folder='./models/stars')\n",
    "# model = lstm.fit(model_name='stars_100neurons', folder='./')\n",
    "\n",
    "end_time = datetime.datetime.now()\n",
    "print(\"End time: \", end_time)\n",
    "\n",
    "time_taken = end_time - start_time\n",
    "print(\"Time taken: \", time_taken)"
   ]
  },
  {
   "cell_type": "code",
   "execution_count": 30,
   "metadata": {},
   "outputs": [
    {
     "name": "stdout",
     "output_type": "stream",
     "text": [
      "Loaded model from disk\n"
     ]
    }
   ],
   "source": [
    "# # load json and create model\n",
    "# json_file = open('model.json', 'r')\n",
    "# loaded_model_json = json_file.read()\n",
    "# json_file.close()\n",
    "# loaded_model = model_from_json(loaded_model_json)\n",
    "# # load weights into new model\n",
    "# loaded_model.load_weights(\"model.h5\")\n",
    "# print(\"Loaded model from disk\")\n",
    " \n",
    "# # evaluate loaded model on test data\n",
    "# # loaded_model.compile(loss='categorical_crossentropy', optimizer='nadam', metrics=['accuracy'])\n",
    "# # score = loaded_model.evaluate(X, Y, verbose=0)\n",
    "# # print(\"%s: %.2f%%\" % (loaded_model.metrics_names[1], score[1]*100))\n",
    "\n"
   ]
  },
  {
   "cell_type": "code",
   "execution_count": null,
   "metadata": {},
   "outputs": [],
   "source": []
  },
  {
   "cell_type": "code",
   "execution_count": null,
   "metadata": {},
   "outputs": [],
   "source": []
  },
  {
   "cell_type": "code",
   "execution_count": null,
   "metadata": {},
   "outputs": [],
   "source": []
  },
  {
   "cell_type": "code",
   "execution_count": 34,
   "metadata": {},
   "outputs": [
    {
     "data": {
      "text/plain": [
       "<matplotlib.axes._subplots.AxesSubplot at 0x7f199006f978>"
      ]
     },
     "execution_count": 34,
     "metadata": {},
     "output_type": "execute_result"
    },
    {
     "data": {
      "image/png": "[encoded data removed]",
      "text/plain": [
       "<matplotlib.figure.Figure at 0x7f199006f198>"
      ]
     },
     "metadata": {},
     "output_type": "display_data"
    }
   ],
   "source": [
    "lstm.confusion_matrix.plot(normalized=True)"
   ]
  },
  {
   "cell_type": "code",
   "execution_count": 150,
   "metadata": {},
   "outputs": [
    {
     "data": {
      "text/html": [
       "<div>\n",
       "<style scoped>\n",
       "    .dataframe tbody tr th:only-of-type {\n",
       "        vertical-align: middle;\n",
       "    }\n",
       "\n",
       "    .dataframe tbody tr th {\n",
       "        vertical-align: top;\n",
       "    }\n",
       "\n",
       "    .dataframe thead th {\n",
       "        text-align: right;\n",
       "    }\n",
       "</style>\n",
       "<table border=\"1\" class=\"dataframe\">\n",
       "  <thead>\n",
       "    <tr style=\"text-align: right;\">\n",
       "      <th></th>\n",
       "      <th>fscore</th>\n",
       "      <th>precision</th>\n",
       "      <th>recall</th>\n",
       "      <th>support</th>\n",
       "    </tr>\n",
       "  </thead>\n",
       "  <tbody>\n",
       "    <tr>\n",
       "      <th>0</th>\n",
       "      <td>0.722475</td>\n",
       "      <td>0.744369</td>\n",
       "      <td>0.701833</td>\n",
       "      <td>29242</td>\n",
       "    </tr>\n",
       "    <tr>\n",
       "      <th>1</th>\n",
       "      <td>0.529447</td>\n",
       "      <td>0.554049</td>\n",
       "      <td>0.506938</td>\n",
       "      <td>29331</td>\n",
       "    </tr>\n",
       "    <tr>\n",
       "      <th>2</th>\n",
       "      <td>0.524410</td>\n",
       "      <td>0.530104</td>\n",
       "      <td>0.518837</td>\n",
       "      <td>29171</td>\n",
       "    </tr>\n",
       "    <tr>\n",
       "      <th>3</th>\n",
       "      <td>0.532184</td>\n",
       "      <td>0.486014</td>\n",
       "      <td>0.588047</td>\n",
       "      <td>29399</td>\n",
       "    </tr>\n",
       "    <tr>\n",
       "      <th>4</th>\n",
       "      <td>0.674163</td>\n",
       "      <td>0.690921</td>\n",
       "      <td>0.658198</td>\n",
       "      <td>29286</td>\n",
       "    </tr>\n",
       "  </tbody>\n",
       "</table>\n",
       "</div>"
      ],
      "text/plain": [
       "     fscore  precision    recall  support\n",
       "0  0.722475   0.744369  0.701833    29242\n",
       "1  0.529447   0.554049  0.506938    29331\n",
       "2  0.524410   0.530104  0.518837    29171\n",
       "3  0.532184   0.486014  0.588047    29399\n",
       "4  0.674163   0.690921  0.658198    29286"
      ]
     },
     "execution_count": 150,
     "metadata": {},
     "output_type": "execute_result"
    }
   ],
   "source": [
    "lstm.prfs"
   ]
  },
  {
   "cell_type": "code",
   "execution_count": 152,
   "metadata": {},
   "outputs": [
    {
     "ename": "AttributeError",
     "evalue": "'YelpLSTM' object has no attribute 'prfs_weighted'",
     "output_type": "error",
     "traceback": [
      "\u001b[0;31m---------------------------------------------------------------------------\u001b[0m",
      "\u001b[0;31mAttributeError\u001b[0m                            Traceback (most recent call last)",
      "\u001b[0;32m<ipython-input-152-3db544106815>\u001b[0m in \u001b[0;36m<module>\u001b[0;34m()\u001b[0m\n\u001b[0;32m----> 1\u001b[0;31m \u001b[0mlstm\u001b[0m\u001b[0;34m.\u001b[0m\u001b[0mprfs_weighted\u001b[0m\u001b[0;34m(\u001b[0m\u001b[0;34m)\u001b[0m\u001b[0;34m\u001b[0m\u001b[0m\n\u001b[0m",
      "\u001b[0;31mAttributeError\u001b[0m: 'YelpLSTM' object has no attribute 'prfs_weighted'"
     ]
    }
   ],
   "source": [
    "lstm.prfs_weighted"
   ]
  },
  {
   "cell_type": "code",
   "execution_count": 154,
   "metadata": {},
   "outputs": [
    {
     "ename": "AttributeError",
     "evalue": "'YelpLSTM' object has no attribute 'corr_coeff'",
     "output_type": "error",
     "traceback": [
      "\u001b[0;31m---------------------------------------------------------------------------\u001b[0m",
      "\u001b[0;31mAttributeError\u001b[0m                            Traceback (most recent call last)",
      "\u001b[0;32m<ipython-input-154-08ff769c50e7>\u001b[0m in \u001b[0;36m<module>\u001b[0;34m()\u001b[0m\n\u001b[0;32m----> 1\u001b[0;31m \u001b[0mlstm\u001b[0m\u001b[0;34m.\u001b[0m\u001b[0mcorr_coeff\u001b[0m\u001b[0;34m\u001b[0m\u001b[0m\n\u001b[0m",
      "\u001b[0;31mAttributeError\u001b[0m: 'YelpLSTM' object has no attribute 'corr_coeff'"
     ]
    }
   ],
   "source": [
    "lstm.corr_coeff"
   ]
  },
  {
   "cell_type": "code",
   "execution_count": 158,
   "metadata": {},
   "outputs": [
    {
     "name": "stdout",
     "output_type": "stream",
     "text": [
      "916765\n",
      "Diabetics:  Beware.  Stay away.  Buy some for me and don't eat any!  ;)\n",
      "\n",
      "OMG, soo good, probably the best butter tarts that I've had AND I'm not even a sweets person!  Definitely sweet though.  Wash down with unsweetened coffee/tea.\n",
      "\n",
      "About $2.50-3ea.  2 tarts were like $6 'n change.  \n",
      "\n",
      "I sorta 'forgot' about the tarts (Plain, Pecan) for a coupla days after SoupFest - long story - but when I ate them, they tasted fresh still.  An indication of the amount of sugar perhaps?  \n",
      "\n",
      "Pastry tasted like a butter cookie.  Will never buy that grocery store crap again as it can't even compare!  Mmm...drool... \n",
      "\n",
      "Tip:  A few spots around back of the building, in front of skatepark.\n",
      "Actual stars:  5\n",
      "Predicted stars:  1\n"
     ]
    }
   ],
   "source": [
    "current_example = 916765\n",
    "rand_tag_num = current_example\n",
    "print(rand_tag_num)\n",
    "\n",
    "print(reviews_df[\"text\"][rand_tag_num])\n",
    "print(\"Actual stars: \", reviews_df[\"stars\"][rand_tag_num])\n",
    "print(\"Predicted stars: \", lstm.make_prediction(reviews_df[\"text\"][rand_tag_num]))"
   ]
  },
  {
   "cell_type": "code",
   "execution_count": 159,
   "metadata": {},
   "outputs": [
    {
     "name": "stdout",
     "output_type": "stream",
     "text": [
      "865234\n",
      "For anyone trying to compare this buffet to one that is double or triple the price, don't. Just get out your fat wallet and move over the strip. For others of us who want decent value with good, everyday food, this is the place. I'm not overly picky and I like non complicated food that I can identify with, I guess you'd call it comfort food. I've been to all those expensive buffets and I still say for the value Palace Station wins.\n",
      "Actual stars:  5\n",
      "Predicted stars:  2\n"
     ]
    }
   ],
   "source": [
    "current_example = 865234\n",
    "rand_tag_num = current_example\n",
    "print(rand_tag_num)\n",
    "\n",
    "print(reviews_df[\"text\"][rand_tag_num])\n",
    "print(\"Actual stars: \", reviews_df[\"stars\"][rand_tag_num])\n",
    "print(\"Predicted stars: \", lstm.make_prediction(reviews_df[\"text\"][rand_tag_num]))"
   ]
  },
  {
   "cell_type": "code",
   "execution_count": 160,
   "metadata": {},
   "outputs": [
    {
     "name": "stdout",
     "output_type": "stream",
     "text": [
      "757343\n",
      "I had been to this plaza 100s of times in my life and never noticed this gem of a dive bar & grill. Good service, food & prices. The Mediterranean Dip is crazy delicious. I wish it was socially acceptable to order it and just eat it with a spoon!\n",
      "Actual stars:  3\n",
      "Predicted stars:  5\n"
     ]
    }
   ],
   "source": [
    "current_example = 757343\n",
    "rand_tag_num = current_example\n",
    "print(rand_tag_num)\n",
    "\n",
    "print(reviews_df[\"text\"][rand_tag_num])\n",
    "print(\"Actual stars: \", reviews_df[\"stars\"][rand_tag_num])\n",
    "print(\"Predicted stars: \", lstm.make_prediction(reviews_df[\"text\"][rand_tag_num]))"
   ]
  },
  {
   "cell_type": "code",
   "execution_count": 161,
   "metadata": {},
   "outputs": [
    {
     "name": "stdout",
     "output_type": "stream",
     "text": [
      "392282\n",
      "I can't believe all the negative reviews. I've been eating at Bubbas' for years and the food is always top notch. Best Eastern, NC bbq in Charlotte. Get the large plate and include the Brunswick stew. Sweet tea is strong and tasty,\n",
      "Actual stars:  4\n",
      "Predicted stars:  5\n"
     ]
    }
   ],
   "source": [
    "current_example = 392282\n",
    "rand_tag_num = current_example\n",
    "print(rand_tag_num)\n",
    "\n",
    "print(reviews_df[\"text\"][rand_tag_num])\n",
    "print(\"Actual stars: \", reviews_df[\"stars\"][rand_tag_num])\n",
    "print(\"Predicted stars: \", lstm.make_prediction(reviews_df[\"text\"][rand_tag_num]))"
   ]
  },
  {
   "cell_type": "code",
   "execution_count": null,
   "metadata": {},
   "outputs": [],
   "source": []
  },
  {
   "cell_type": "code",
   "execution_count": null,
   "metadata": {},
   "outputs": [],
   "source": []
  },
  {
   "cell_type": "code",
   "execution_count": 45,
   "metadata": {},
   "outputs": [],
   "source": [
    "# reviews_df = pd.read_json(\"../../full_dataset/restaurant_reviews_final.json\", lines=True)"
   ]
  },
  {
   "cell_type": "code",
   "execution_count": 81,
   "metadata": {},
   "outputs": [
    {
     "name": "stdout",
     "output_type": "stream",
     "text": [
      "len_df 1873619\n",
      "shape of predict_array: 1873619\n"
     ]
    },
    {
     "ename": "KeyboardInterrupt",
     "evalue": "",
     "output_type": "error",
     "traceback": [
      "\u001b[0;31m---------------------------------------------------------------------------\u001b[0m",
      "\u001b[0;31mKeyboardInterrupt\u001b[0m                         Traceback (most recent call last)",
      "\u001b[0;32m<ipython-input-81-be74536fc360>\u001b[0m in \u001b[0;36m<module>\u001b[0;34m()\u001b[0m\n\u001b[1;32m     11\u001b[0m \u001b[0;34m\u001b[0m\u001b[0m\n\u001b[1;32m     12\u001b[0m \u001b[0;32mwhile\u001b[0m \u001b[0mi\u001b[0m \u001b[0;34m<\u001b[0m \u001b[0mnum_to_process\u001b[0m\u001b[0;34m:\u001b[0m\u001b[0;34m\u001b[0m\u001b[0m\n\u001b[0;32m---> 13\u001b[0;31m     \u001b[0mpredict_array\u001b[0m\u001b[0;34m[\u001b[0m\u001b[0mi\u001b[0m\u001b[0;34m]\u001b[0m \u001b[0;34m=\u001b[0m \u001b[0mlstm\u001b[0m\u001b[0;34m.\u001b[0m\u001b[0mmake_prediction\u001b[0m\u001b[0;34m(\u001b[0m\u001b[0mreviews_df\u001b[0m\u001b[0;34m[\u001b[0m\u001b[0;34m\"text\"\u001b[0m\u001b[0;34m]\u001b[0m\u001b[0;34m[\u001b[0m\u001b[0mi\u001b[0m\u001b[0;34m]\u001b[0m\u001b[0;34m)\u001b[0m\u001b[0;34m\u001b[0m\u001b[0m\n\u001b[0m\u001b[1;32m     14\u001b[0m     \u001b[0mi\u001b[0m \u001b[0;34m=\u001b[0m \u001b[0mi\u001b[0m \u001b[0;34m+\u001b[0m \u001b[0;36m1\u001b[0m\u001b[0;34m\u001b[0m\u001b[0m\n",
      "\u001b[0;32m<ipython-input-25-76243f203735>\u001b[0m in \u001b[0;36mmake_prediction\u001b[0;34m(self, sentence)\u001b[0m\n\u001b[1;32m    317\u001b[0m         \u001b[0msequence\u001b[0m \u001b[0;34m=\u001b[0m \u001b[0mself\u001b[0m\u001b[0;34m.\u001b[0m\u001b[0m_tokenizer\u001b[0m\u001b[0;34m.\u001b[0m\u001b[0mtexts_to_sequences\u001b[0m\u001b[0;34m(\u001b[0m\u001b[0;34m[\u001b[0m\u001b[0msentence\u001b[0m\u001b[0;34m]\u001b[0m\u001b[0;34m)\u001b[0m\u001b[0;34m\u001b[0m\u001b[0m\n\u001b[1;32m    318\u001b[0m         \u001b[0mpadded_seq\u001b[0m \u001b[0;34m=\u001b[0m \u001b[0mpad_sequences\u001b[0m\u001b[0;34m(\u001b[0m\u001b[0msequence\u001b[0m\u001b[0;34m,\u001b[0m \u001b[0mmaxlen\u001b[0m\u001b[0;34m=\u001b[0m\u001b[0mself\u001b[0m\u001b[0;34m.\u001b[0m\u001b[0m_parms\u001b[0m\u001b[0;34m[\u001b[0m\u001b[0;34m'seq_size'\u001b[0m\u001b[0;34m]\u001b[0m\u001b[0;34m)\u001b[0m\u001b[0;34m\u001b[0m\u001b[0m\n\u001b[0;32m--> 319\u001b[0;31m         \u001b[0;32mreturn\u001b[0m \u001b[0mself\u001b[0m\u001b[0;34m.\u001b[0m\u001b[0mpredict_classes\u001b[0m\u001b[0;34m(\u001b[0m\u001b[0mpadded_seq\u001b[0m\u001b[0;34m)\u001b[0m\u001b[0;34m[\u001b[0m\u001b[0;36m0\u001b[0m\u001b[0;34m]\u001b[0m\u001b[0;34m\u001b[0m\u001b[0m\n\u001b[0m\u001b[1;32m    320\u001b[0m \u001b[0;34m\u001b[0m\u001b[0m\n\u001b[1;32m    321\u001b[0m     \u001b[0;32mdef\u001b[0m \u001b[0mpredict_classes\u001b[0m\u001b[0;34m(\u001b[0m\u001b[0mself\u001b[0m\u001b[0;34m,\u001b[0m \u001b[0mX\u001b[0m\u001b[0;34m=\u001b[0m\u001b[0;32mNone\u001b[0m\u001b[0;34m,\u001b[0m \u001b[0mthreshold\u001b[0m\u001b[0;34m=\u001b[0m\u001b[0;36m0.5\u001b[0m\u001b[0;34m)\u001b[0m\u001b[0;34m:\u001b[0m\u001b[0;34m\u001b[0m\u001b[0m\n",
      "\u001b[0;32m<ipython-input-25-76243f203735>\u001b[0m in \u001b[0;36mpredict_classes\u001b[0;34m(self, X, threshold)\u001b[0m\n\u001b[1;32m    321\u001b[0m     \u001b[0;32mdef\u001b[0m \u001b[0mpredict_classes\u001b[0m\u001b[0;34m(\u001b[0m\u001b[0mself\u001b[0m\u001b[0;34m,\u001b[0m \u001b[0mX\u001b[0m\u001b[0;34m=\u001b[0m\u001b[0;32mNone\u001b[0m\u001b[0;34m,\u001b[0m \u001b[0mthreshold\u001b[0m\u001b[0;34m=\u001b[0m\u001b[0;36m0.5\u001b[0m\u001b[0;34m)\u001b[0m\u001b[0;34m:\u001b[0m\u001b[0;34m\u001b[0m\u001b[0m\n\u001b[1;32m    322\u001b[0m         \u001b[0;32mif\u001b[0m \u001b[0mlen\u001b[0m\u001b[0;34m(\u001b[0m\u001b[0mself\u001b[0m\u001b[0;34m.\u001b[0m\u001b[0m_y_train\u001b[0m\u001b[0;34m.\u001b[0m\u001b[0mshape\u001b[0m\u001b[0;34m)\u001b[0m \u001b[0;34m>\u001b[0m \u001b[0;36m1\u001b[0m\u001b[0;34m:\u001b[0m\u001b[0;34m\u001b[0m\u001b[0m\n\u001b[0;32m--> 323\u001b[0;31m             \u001b[0mpredictions\u001b[0m \u001b[0;34m=\u001b[0m \u001b[0mnp\u001b[0m\u001b[0;34m.\u001b[0m\u001b[0margmax\u001b[0m\u001b[0;34m(\u001b[0m\u001b[0mself\u001b[0m\u001b[0;34m.\u001b[0m\u001b[0mpredict_proba\u001b[0m\u001b[0;34m(\u001b[0m\u001b[0mX\u001b[0m\u001b[0;34m)\u001b[0m\u001b[0;34m,\u001b[0m \u001b[0maxis\u001b[0m\u001b[0;34m=\u001b[0m\u001b[0;36m1\u001b[0m\u001b[0;34m)\u001b[0m\u001b[0;34m\u001b[0m\u001b[0m\n\u001b[0m\u001b[1;32m    324\u001b[0m         \u001b[0;32melse\u001b[0m\u001b[0;34m:\u001b[0m\u001b[0;34m\u001b[0m\u001b[0m\n\u001b[1;32m    325\u001b[0m             \u001b[0mpredictions\u001b[0m \u001b[0;34m=\u001b[0m \u001b[0;34m(\u001b[0m\u001b[0mself\u001b[0m\u001b[0;34m.\u001b[0m\u001b[0mpredict_proba\u001b[0m\u001b[0;34m(\u001b[0m\u001b[0mX\u001b[0m\u001b[0;34m)\u001b[0m \u001b[0;34m>\u001b[0m \u001b[0mthreshold\u001b[0m\u001b[0;34m)\u001b[0m\u001b[0;34m.\u001b[0m\u001b[0mastype\u001b[0m\u001b[0;34m(\u001b[0m\u001b[0mint\u001b[0m\u001b[0;34m)\u001b[0m\u001b[0;34m\u001b[0m\u001b[0m\n",
      "\u001b[0;32m<ipython-input-25-76243f203735>\u001b[0m in \u001b[0;36mpredict_proba\u001b[0;34m(self, X)\u001b[0m\n\u001b[1;32m    330\u001b[0m         \u001b[0;32mif\u001b[0m \u001b[0mX\u001b[0m \u001b[0;32mis\u001b[0m \u001b[0;32mNone\u001b[0m\u001b[0;34m:\u001b[0m\u001b[0;34m\u001b[0m\u001b[0m\n\u001b[1;32m    331\u001b[0m             \u001b[0mX\u001b[0m \u001b[0;34m=\u001b[0m \u001b[0mself\u001b[0m\u001b[0;34m.\u001b[0m\u001b[0m_X_test\u001b[0m\u001b[0;34m\u001b[0m\u001b[0m\n\u001b[0;32m--> 332\u001b[0;31m         \u001b[0mpredictions\u001b[0m \u001b[0;34m=\u001b[0m \u001b[0mself\u001b[0m\u001b[0;34m.\u001b[0m\u001b[0m_model\u001b[0m\u001b[0;34m.\u001b[0m\u001b[0mpredict_proba\u001b[0m\u001b[0;34m(\u001b[0m\u001b[0mX\u001b[0m\u001b[0;34m)\u001b[0m\u001b[0;34m\u001b[0m\u001b[0m\n\u001b[0m\u001b[1;32m    333\u001b[0m         \u001b[0;32mreturn\u001b[0m \u001b[0mpredictions\u001b[0m\u001b[0;34m\u001b[0m\u001b[0m\n\u001b[1;32m    334\u001b[0m \u001b[0;34m\u001b[0m\u001b[0m\n",
      "\u001b[0;32m~/anaconda3/lib/python3.6/site-packages/keras/engine/sequential.py\u001b[0m in \u001b[0;36mpredict_proba\u001b[0;34m(self, x, batch_size, verbose)\u001b[0m\n\u001b[1;32m    248\u001b[0m             \u001b[0mA\u001b[0m \u001b[0mNumpy\u001b[0m \u001b[0marray\u001b[0m \u001b[0mof\u001b[0m \u001b[0mprobability\u001b[0m \u001b[0mpredictions\u001b[0m\u001b[0;34m.\u001b[0m\u001b[0;34m\u001b[0m\u001b[0m\n\u001b[1;32m    249\u001b[0m         \"\"\"\n\u001b[0;32m--> 250\u001b[0;31m         \u001b[0mpreds\u001b[0m \u001b[0;34m=\u001b[0m \u001b[0mself\u001b[0m\u001b[0;34m.\u001b[0m\u001b[0mpredict\u001b[0m\u001b[0;34m(\u001b[0m\u001b[0mx\u001b[0m\u001b[0;34m,\u001b[0m \u001b[0mbatch_size\u001b[0m\u001b[0;34m,\u001b[0m \u001b[0mverbose\u001b[0m\u001b[0;34m)\u001b[0m\u001b[0;34m\u001b[0m\u001b[0m\n\u001b[0m\u001b[1;32m    251\u001b[0m         \u001b[0;32mif\u001b[0m \u001b[0mpreds\u001b[0m\u001b[0;34m.\u001b[0m\u001b[0mmin\u001b[0m\u001b[0;34m(\u001b[0m\u001b[0;34m)\u001b[0m \u001b[0;34m<\u001b[0m \u001b[0;36m0.\u001b[0m \u001b[0;32mor\u001b[0m \u001b[0mpreds\u001b[0m\u001b[0;34m.\u001b[0m\u001b[0mmax\u001b[0m\u001b[0;34m(\u001b[0m\u001b[0;34m)\u001b[0m \u001b[0;34m>\u001b[0m \u001b[0;36m1.\u001b[0m\u001b[0;34m:\u001b[0m\u001b[0;34m\u001b[0m\u001b[0m\n\u001b[1;32m    252\u001b[0m             warnings.warn('Network returning invalid probability values. '\n",
      "\u001b[0;32m~/anaconda3/lib/python3.6/site-packages/keras/engine/training.py\u001b[0m in \u001b[0;36mpredict\u001b[0;34m(self, x, batch_size, verbose, steps)\u001b[0m\n\u001b[1;32m   1165\u001b[0m                                             \u001b[0mbatch_size\u001b[0m\u001b[0;34m=\u001b[0m\u001b[0mbatch_size\u001b[0m\u001b[0;34m,\u001b[0m\u001b[0;34m\u001b[0m\u001b[0m\n\u001b[1;32m   1166\u001b[0m                                             \u001b[0mverbose\u001b[0m\u001b[0;34m=\u001b[0m\u001b[0mverbose\u001b[0m\u001b[0;34m,\u001b[0m\u001b[0;34m\u001b[0m\u001b[0m\n\u001b[0;32m-> 1167\u001b[0;31m                                             steps=steps)\n\u001b[0m\u001b[1;32m   1168\u001b[0m \u001b[0;34m\u001b[0m\u001b[0m\n\u001b[1;32m   1169\u001b[0m     def train_on_batch(self, x, y,\n",
      "\u001b[0;32m~/anaconda3/lib/python3.6/site-packages/keras/engine/training_arrays.py\u001b[0m in \u001b[0;36mpredict_loop\u001b[0;34m(model, f, ins, batch_size, verbose, steps)\u001b[0m\n\u001b[1;32m    292\u001b[0m                 \u001b[0mins_batch\u001b[0m\u001b[0;34m[\u001b[0m\u001b[0mi\u001b[0m\u001b[0;34m]\u001b[0m \u001b[0;34m=\u001b[0m \u001b[0mins_batch\u001b[0m\u001b[0;34m[\u001b[0m\u001b[0mi\u001b[0m\u001b[0;34m]\u001b[0m\u001b[0;34m.\u001b[0m\u001b[0mtoarray\u001b[0m\u001b[0;34m(\u001b[0m\u001b[0;34m)\u001b[0m\u001b[0;34m\u001b[0m\u001b[0m\n\u001b[1;32m    293\u001b[0m \u001b[0;34m\u001b[0m\u001b[0m\n\u001b[0;32m--> 294\u001b[0;31m             \u001b[0mbatch_outs\u001b[0m \u001b[0;34m=\u001b[0m \u001b[0mf\u001b[0m\u001b[0;34m(\u001b[0m\u001b[0mins_batch\u001b[0m\u001b[0;34m)\u001b[0m\u001b[0;34m\u001b[0m\u001b[0m\n\u001b[0m\u001b[1;32m    295\u001b[0m             \u001b[0mbatch_outs\u001b[0m \u001b[0;34m=\u001b[0m \u001b[0mto_list\u001b[0m\u001b[0;34m(\u001b[0m\u001b[0mbatch_outs\u001b[0m\u001b[0;34m)\u001b[0m\u001b[0;34m\u001b[0m\u001b[0m\n\u001b[1;32m    296\u001b[0m             \u001b[0;32mif\u001b[0m \u001b[0mbatch_index\u001b[0m \u001b[0;34m==\u001b[0m \u001b[0;36m0\u001b[0m\u001b[0;34m:\u001b[0m\u001b[0;34m\u001b[0m\u001b[0m\n",
      "\u001b[0;32m~/anaconda3/lib/python3.6/site-packages/keras/backend/tensorflow_backend.py\u001b[0m in \u001b[0;36m__call__\u001b[0;34m(self, inputs)\u001b[0m\n\u001b[1;32m   2664\u001b[0m                 \u001b[0;32mreturn\u001b[0m \u001b[0mself\u001b[0m\u001b[0;34m.\u001b[0m\u001b[0m_legacy_call\u001b[0m\u001b[0;34m(\u001b[0m\u001b[0minputs\u001b[0m\u001b[0;34m)\u001b[0m\u001b[0;34m\u001b[0m\u001b[0m\n\u001b[1;32m   2665\u001b[0m \u001b[0;34m\u001b[0m\u001b[0m\n\u001b[0;32m-> 2666\u001b[0;31m             \u001b[0;32mreturn\u001b[0m \u001b[0mself\u001b[0m\u001b[0;34m.\u001b[0m\u001b[0m_call\u001b[0m\u001b[0;34m(\u001b[0m\u001b[0minputs\u001b[0m\u001b[0;34m)\u001b[0m\u001b[0;34m\u001b[0m\u001b[0m\n\u001b[0m\u001b[1;32m   2667\u001b[0m         \u001b[0;32melse\u001b[0m\u001b[0;34m:\u001b[0m\u001b[0;34m\u001b[0m\u001b[0m\n\u001b[1;32m   2668\u001b[0m             \u001b[0;32mif\u001b[0m \u001b[0mpy_any\u001b[0m\u001b[0;34m(\u001b[0m\u001b[0mis_tensor\u001b[0m\u001b[0;34m(\u001b[0m\u001b[0mx\u001b[0m\u001b[0;34m)\u001b[0m \u001b[0;32mfor\u001b[0m \u001b[0mx\u001b[0m \u001b[0;32min\u001b[0m \u001b[0minputs\u001b[0m\u001b[0;34m)\u001b[0m\u001b[0;34m:\u001b[0m\u001b[0;34m\u001b[0m\u001b[0m\n",
      "\u001b[0;32m~/anaconda3/lib/python3.6/site-packages/keras/backend/tensorflow_backend.py\u001b[0m in \u001b[0;36m_call\u001b[0;34m(self, inputs)\u001b[0m\n\u001b[1;32m   2634\u001b[0m                                 \u001b[0msymbol_vals\u001b[0m\u001b[0;34m,\u001b[0m\u001b[0;34m\u001b[0m\u001b[0m\n\u001b[1;32m   2635\u001b[0m                                 session)\n\u001b[0;32m-> 2636\u001b[0;31m         \u001b[0mfetched\u001b[0m \u001b[0;34m=\u001b[0m \u001b[0mself\u001b[0m\u001b[0;34m.\u001b[0m\u001b[0m_callable_fn\u001b[0m\u001b[0;34m(\u001b[0m\u001b[0;34m*\u001b[0m\u001b[0marray_vals\u001b[0m\u001b[0;34m)\u001b[0m\u001b[0;34m\u001b[0m\u001b[0m\n\u001b[0m\u001b[1;32m   2637\u001b[0m         \u001b[0;32mreturn\u001b[0m \u001b[0mfetched\u001b[0m\u001b[0;34m[\u001b[0m\u001b[0;34m:\u001b[0m\u001b[0mlen\u001b[0m\u001b[0;34m(\u001b[0m\u001b[0mself\u001b[0m\u001b[0;34m.\u001b[0m\u001b[0moutputs\u001b[0m\u001b[0;34m)\u001b[0m\u001b[0;34m]\u001b[0m\u001b[0;34m\u001b[0m\u001b[0m\n\u001b[1;32m   2638\u001b[0m \u001b[0;34m\u001b[0m\u001b[0m\n",
      "\u001b[0;32m~/anaconda3/lib/python3.6/site-packages/tensorflow/python/client/session.py\u001b[0m in \u001b[0;36m__call__\u001b[0;34m(self, *args)\u001b[0m\n\u001b[1;32m   1449\u001b[0m         \u001b[0;32mif\u001b[0m \u001b[0mself\u001b[0m\u001b[0;34m.\u001b[0m\u001b[0m_session\u001b[0m\u001b[0;34m.\u001b[0m\u001b[0m_created_with_new_api\u001b[0m\u001b[0;34m:\u001b[0m\u001b[0;34m\u001b[0m\u001b[0m\n\u001b[1;32m   1450\u001b[0m           return tf_session.TF_SessionRunCallable(\n\u001b[0;32m-> 1451\u001b[0;31m               self._session._session, self._handle, args, status, None)\n\u001b[0m\u001b[1;32m   1452\u001b[0m         \u001b[0;32melse\u001b[0m\u001b[0;34m:\u001b[0m\u001b[0;34m\u001b[0m\u001b[0m\n\u001b[1;32m   1453\u001b[0m           return tf_session.TF_DeprecatedSessionRunCallable(\n",
      "\u001b[0;31mKeyboardInterrupt\u001b[0m: "
     ]
    }
   ],
   "source": [
    "# len_df = len(reviews_df[\"text\"])\n",
    "# print(\"len_df\", len_df)\n",
    "# predict_array = np.empty([len_df])\n",
    "# print(\"shape of predict_array:\", len(predict_array))\n",
    "\n",
    "# i = 0\n",
    "\n",
    "# # num_to_process = len_df\n",
    "# num_to_process = 10000\n",
    "\n",
    "\n",
    "# while i < num_to_process:\n",
    "#     predict_array[i] = lstm.make_prediction(reviews_df[\"text\"][i])\n",
    "#     i = i + 1"
   ]
  },
  {
   "cell_type": "code",
   "execution_count": 60,
   "metadata": {},
   "outputs": [
    {
     "name": "stdout",
     "output_type": "stream",
     "text": [
      "I visited with my family and ordered a few appetizers and a medium size sushi platter.\n",
      "Their food tasted great. Tempura had the right amount of batter and tasted great. The beef tataki was smaller than I had liked though, considering the price. The sushi platter was great because it had little bit of everything. Salmon, tuna, and eel sushi all tasted fresh and good. There were a few that I could not name but they were still amazing. Rolls were also soft and had a generous amount of ingredients in them. The sea urchin roe sushi tasted especially great. I definitely think that we got our money's worth.\n",
      "The only issue I had was that the servers told us on two occasions that they would give us the ice cream at the end of the meal. We felt that they were encouraging us to finish the meal. I did not expect this since we were eating for only about an hour. We were a group of 3 and spent about $130 including the tip. It must have been a busy night for them.\n",
      "The food was great and we enjoyed our time in the restaurant. I will consider visiting them again when it's not busy and I have some money to spend.\n",
      "Actual stars:  3\n",
      "Predicted stars:  4\n"
     ]
    }
   ],
   "source": [
    "print(reviews_df[\"text\"][511248])\n",
    "print(\"Actual stars: \", reviews_df[\"stars\"][511248])\n",
    "print(\"Predicted stars: \", lstm.make_prediction(reviews_df[\"text\"][511248]))"
   ]
  },
  {
   "cell_type": "code",
   "execution_count": 62,
   "metadata": {},
   "outputs": [
    {
     "name": "stdout",
     "output_type": "stream",
     "text": [
      "There so many falafel plate places in this town, I decided to try this one since it has good reviews. I have no clue why. I am so unimpressed. \n",
      "I ordered the falafel plate with taboulleh, baba ghanouj, and rice and salad. Nothing tasted authentic, the rice was a bit lumpy and not fresh tasting. The falafel's were probably the best thing in this combo, and they were mediocre at best. Taboulleh was a bit soggy and nowhere near lemony enough. Baba G was not smoky, just bland. I'm pretty disappointed, although I do think for something so simple... I have eaten at so many places that screw this meal up. Add this to that list.\n",
      "The prices are reasonable,and the service is decent. But the food certainly doesn't warrant any reason to return. \n",
      "Cest la vie, Parsley...\n",
      "Actual stars:  2\n",
      "Predicted stars:  3\n"
     ]
    }
   ],
   "source": [
    "print(reviews_df[\"text\"][811248])\n",
    "print(\"Actual stars: \", reviews_df[\"stars\"][811248])\n",
    "print(\"Predicted stars: \", lstm.make_prediction(reviews_df[\"text\"][811248]))"
   ]
  },
  {
   "cell_type": "code",
   "execution_count": 68,
   "metadata": {
    "scrolled": false
   },
   "outputs": [
    {
     "name": "stdout",
     "output_type": "stream",
     "text": [
      "Never disappoint ! Fast ! Good ! And even their pasta doesn't suck so bad( delivery pastas usually are t the best) \n",
      "Poutine is awesome and souvlaki comes with a super fresh green salad every time !\n",
      "Actual stars:  4\n",
      "Predicted stars:  5\n"
     ]
    }
   ],
   "source": [
    "print(reviews_df[\"text\"][911249])\n",
    "print(\"Actual stars: \", reviews_df[\"stars\"][911249])\n",
    "print(\"Predicted stars: \", lstm.make_prediction(reviews_df[\"text\"][911249]))"
   ]
  },
  {
   "cell_type": "code",
   "execution_count": 83,
   "metadata": {},
   "outputs": [
    {
     "name": "stdout",
     "output_type": "stream",
     "text": [
      "439475\n",
      "Came here for lunch.  I had the lunch combo with salad, drink and lasagna.  The salad was good (strawberries spinach balsamic walnuts).  The lasagna was mostly cheese and sauce.  It wasn't really lasagna.  They have a lot of gluten free options if you have allergies.  My group enjoyed their meals (curry pastas)  and desserts.  I missed out on dessert.\n",
      "Actual stars:  3\n",
      "Predicted stars:  3\n"
     ]
    }
   ],
   "source": [
    "import random\n",
    "\n",
    "rand_tag_num = random.randint(1,1000000)\n",
    "print(rand_tag_num)\n",
    "\n",
    "\n",
    "\n",
    "print(reviews_df[\"text\"][rand_tag_num])\n",
    "print(\"Actual stars: \", reviews_df[\"stars\"][rand_tag_num])\n",
    "print(\"Predicted stars: \", lstm.make_prediction(reviews_df[\"text\"][rand_tag_num]))"
   ]
  },
  {
   "cell_type": "code",
   "execution_count": 84,
   "metadata": {},
   "outputs": [
    {
     "name": "stdout",
     "output_type": "stream",
     "text": [
      "891472\n",
      "I love stopping by this place, even if I get just one thing. The brûlée burger is my drug of choice here, it's so damn good. The bacon and onion with burnt sugar really adds a great and unique flavor to the burger, definitely my favorite part.\n",
      "Actual stars:  5\n",
      "Predicted stars:  5\n"
     ]
    }
   ],
   "source": [
    "import random\n",
    "\n",
    "rand_tag_num = random.randint(1,1000000)\n",
    "print(rand_tag_num)\n",
    "\n",
    "\n",
    "\n",
    "print(reviews_df[\"text\"][rand_tag_num])\n",
    "print(\"Actual stars: \", reviews_df[\"stars\"][rand_tag_num])\n",
    "print(\"Predicted stars: \", lstm.make_prediction(reviews_df[\"text\"][rand_tag_num]))"
   ]
  },
  {
   "cell_type": "code",
   "execution_count": 85,
   "metadata": {},
   "outputs": [
    {
     "name": "stdout",
     "output_type": "stream",
     "text": [
      "361558\n",
      "All dishes taste same. Owner is a bit rude. We went from Etobicoke to this place which is quite far just for Undhiyu but he reacted a bit rude. I know it was my mistake I should have called him before going there as he said we have to inform him first and place the order over the phone but since last few days I was having cravings for Undhiyu. He could have been replied in a better way rather than being rude.\n",
      "\n",
      "Plus these people are really really slow!!\n",
      "Actual stars:  1\n",
      "Predicted stars:  2\n"
     ]
    }
   ],
   "source": [
    "import random\n",
    "\n",
    "rand_tag_num = random.randint(1,1000000)\n",
    "print(rand_tag_num)\n",
    "\n",
    "\n",
    "\n",
    "print(reviews_df[\"text\"][rand_tag_num])\n",
    "print(\"Actual stars: \", reviews_df[\"stars\"][rand_tag_num])\n",
    "print(\"Predicted stars: \", lstm.make_prediction(reviews_df[\"text\"][rand_tag_num]))"
   ]
  },
  {
   "cell_type": "code",
   "execution_count": 86,
   "metadata": {},
   "outputs": [
    {
     "name": "stdout",
     "output_type": "stream",
     "text": [
      "717914\n",
      "I got citrus chipotle and hot garlic flavor wings. Honestly, they were ok. I couldn't tell which was which! If you told me to guess the flavor, one would be sweet chili and the other would be just generic \"hot\". \n",
      "\n",
      "I came to the conclusion that they either messed up my order (which is bad) or they just made up fancy names to get people to buy their wings, but didn't actually put any effort into making their sauces (which is bad). The main thing they have going for is that they serve wings, and even bad wings are good.\n",
      "Actual stars:  3\n",
      "Predicted stars:  3\n"
     ]
    }
   ],
   "source": [
    "import random\n",
    "\n",
    "rand_tag_num = random.randint(1,1000000)\n",
    "print(rand_tag_num)\n",
    "\n",
    "\n",
    "\n",
    "print(reviews_df[\"text\"][rand_tag_num])\n",
    "print(\"Actual stars: \", reviews_df[\"stars\"][rand_tag_num])\n",
    "print(\"Predicted stars: \", lstm.make_prediction(reviews_df[\"text\"][rand_tag_num]))"
   ]
  },
  {
   "cell_type": "code",
   "execution_count": 87,
   "metadata": {},
   "outputs": [
    {
     "name": "stdout",
     "output_type": "stream",
     "text": [
      "509058\n",
      "Since Rio was my home away from home [for the weekend] I decided that it wouldn't hurt to see what VooDoo Nightclub had to offer.\n",
      "\n",
      "Located 51 stories up from the infamous Rio Las Vegas Hotel, there is an indoor and outdoor [rooftop] nightclub area to drink and dance the night away. \n",
      "\n",
      "Since it was warm out, my girls and I decided to hang outdoors to enjoy the cool breeze and take in the lights & breathtaking views. \n",
      "As you enter the rooftop, you are greeted with a full bar and a dj located on the opposite end. There are VIP bottle service amenities available and comes equipped with cozy booth seating. \n",
      "\n",
      "Drinks are overpriced but what do you honestly expect when you're in Vegas & having some fun at the club. The dance floor is wherever you are currently standing and although I didn't pay too much attention to the music, I do recall them playing a little bit of everything from edm to 90s hip hop.\n",
      "\n",
      "Overall: 2 Stars because this place is NOT poppin but the views are stunning [+1 star].\n",
      "VIP booths are lined up along both sides of the rooftop and only one was being occupied. Be awareVooDoo attracts more of an older crowd than not so if you were looking for ratchet-ness and booty bumpers, head to LV's strip & hit up one of the more popular clubs.\n",
      "Actual stars:  3\n",
      "Predicted stars:  3\n"
     ]
    }
   ],
   "source": [
    "rand_tag_num = random.randint(1,1000000)\n",
    "print(rand_tag_num)\n",
    "\n",
    "print(reviews_df[\"text\"][rand_tag_num])\n",
    "print(\"Actual stars: \", reviews_df[\"stars\"][rand_tag_num])\n",
    "print(\"Predicted stars: \", lstm.make_prediction(reviews_df[\"text\"][rand_tag_num]))"
   ]
  },
  {
   "cell_type": "code",
   "execution_count": 88,
   "metadata": {},
   "outputs": [
    {
     "name": "stdout",
     "output_type": "stream",
     "text": [
      "370545\n",
      "How did I forget to write a review! I guess maybe it's because I was too busy stuffing my face! We came here for dinner as part of a bachelorette trip for a fancy dinner. And fancy dinner it was. We had a decent sized group and were sat towards the back, which was perfect. The waiter was friendly and attentive.\n",
      "Now for the food (from what I remember):\n",
      "Sangria- Pretty good, hard to mess up\n",
      "Chicken croquettes- the most favorite amongst the table\n",
      "Paella- really good. did not skim on the meats, great flavors\n",
      "Spanish tortilla- nothing special, skip it \n",
      "there was one dish that had some sort of potato puree and it was crazy spicy. \n",
      "I know I am totally missing stuff, but these are the memorable dishes.\n",
      "Actual stars:  4\n",
      "Predicted stars:  4\n"
     ]
    }
   ],
   "source": [
    "rand_tag_num = random.randint(1,1000000)\n",
    "print(rand_tag_num)\n",
    "\n",
    "print(reviews_df[\"text\"][rand_tag_num])\n",
    "print(\"Actual stars: \", reviews_df[\"stars\"][rand_tag_num])\n",
    "print(\"Predicted stars: \", lstm.make_prediction(reviews_df[\"text\"][rand_tag_num]))"
   ]
  },
  {
   "cell_type": "code",
   "execution_count": 89,
   "metadata": {},
   "outputs": [
    {
     "name": "stdout",
     "output_type": "stream",
     "text": [
      "621614\n",
      "Great place... period.   As a dedicated North Sider, this place brings me back to the original James Street Tavern, only better.  The food is good and sometimes very good.  The menu is pub style and I have tried nearly everything on the menu at this point with little disappointment.   The key takeaways if you are considering:\n",
      "\n",
      "Food:  Good food, but not exotic.  It says gastropub but not by NYC standards but who cares.  Appetizer menu is limited and a few more healthy choices would help.  I do love the fried oysters though, for me perfect every time.  Some friends have found them spotty.  Burgers are tasty, I like them all.   Food gets a 3.5 stars\n",
      "\n",
      "Drink:  Great bartenders generally speaking and drinks are relatively fairly priced.  Drafts are solid, nothing earth shattering but it is not a craft beer haven.  Mixed drinks solid, again nothing exotic but always a good and fair pour.  Drink gets 4 stars\n",
      "\n",
      "Atmosphere:  What can you say, it's the James Street.   Jazz oozes out of the rafters, day and night.   With their steady stream of jazz nightly it has become the go-to jazz club in the city.   Atmosphere gets 4.5 stars\n",
      "\n",
      "Total = 4.0 stars.  Very good in my view.  \n",
      "\n",
      "Would like to see some menu changes, and maybe even a few more exotic gastropub like specials.   No complaints though... all good here.\n",
      "Actual stars:  4\n",
      "Predicted stars:  4\n"
     ]
    }
   ],
   "source": [
    "rand_tag_num = random.randint(1,1000000)\n",
    "print(rand_tag_num)\n",
    "\n",
    "print(reviews_df[\"text\"][rand_tag_num])\n",
    "print(\"Actual stars: \", reviews_df[\"stars\"][rand_tag_num])\n",
    "print(\"Predicted stars: \", lstm.make_prediction(reviews_df[\"text\"][rand_tag_num]))"
   ]
  },
  {
   "cell_type": "code",
   "execution_count": 91,
   "metadata": {},
   "outputs": [
    {
     "name": "stdout",
     "output_type": "stream",
     "text": [
      "854574\n",
      "Un restaurant où je peux prendre absolument n'importe quoi sur la carte? Ya-hooo! \n",
      "\n",
      "En tant que personne coeliaque, j'étais plus qu'emballée d'aller essayer le Zéro8. Le resto est chaleureux, le décor est simple et on s'y sent bien. Mon highlight : le personnel, qui était vraiment sympathique. On prend le temps de nous parler de l'histoire du resto et du menu. En parlant de menu, il y en a pour tous les goûts : soupes, salades, viandes, burgers! Tout a l'air délicieux... et l'est! Et même si c'est un endroit qui se spécialise dans le \"sans allergènes\", on ne sent pas qu'il n'y a pas de gluten, pas de lactose, pas d'oeufs ou autre. Mon copain n'a pas d'allergies et a quand même grandement apprécié ses plats. \n",
      "\n",
      "J'ai hâte d'y retourner pour essayer davantage de trucs! Miam!\n",
      "Actual stars:  5\n",
      "Predicted stars:  4\n"
     ]
    }
   ],
   "source": [
    "import random\n",
    "\n",
    "rand_tag_num = random.randint(1,1000000)\n",
    "print(rand_tag_num)\n",
    "\n",
    "\n",
    "\n",
    "print(reviews_df[\"text\"][rand_tag_num])\n",
    "print(\"Actual stars: \", reviews_df[\"stars\"][rand_tag_num])\n",
    "print(\"Predicted stars: \", lstm.make_prediction(reviews_df[\"text\"][rand_tag_num]))"
   ]
  },
  {
   "cell_type": "code",
   "execution_count": 92,
   "metadata": {},
   "outputs": [
    {
     "name": "stdout",
     "output_type": "stream",
     "text": [
      "822769\n",
      "Love this place!\n",
      "The food quality seems to be very nice. \n",
      "Their shrimp is amazing! There is almost never any waiting time to get fresh food, once something runs out, they fill it up almost instantaneously, which is very important for a good buffet experience!\n",
      "Very large variety of foods, and drinks! \n",
      "Highly recommended!\n",
      "Actual stars:  5\n",
      "Predicted stars:  5\n"
     ]
    }
   ],
   "source": [
    "import random\n",
    "\n",
    "rand_tag_num = random.randint(1,1000000)\n",
    "print(rand_tag_num)\n",
    "\n",
    "\n",
    "\n",
    "print(reviews_df[\"text\"][rand_tag_num])\n",
    "print(\"Actual stars: \", reviews_df[\"stars\"][rand_tag_num])\n",
    "print(\"Predicted stars: \", lstm.make_prediction(reviews_df[\"text\"][rand_tag_num]))"
   ]
  },
  {
   "cell_type": "code",
   "execution_count": 93,
   "metadata": {},
   "outputs": [
    {
     "name": "stdout",
     "output_type": "stream",
     "text": [
      "483066\n",
      "I ordered the filet and scallops.  My girlfriend ordered the shrimp and chicken.  We split an appetizer of jalapeno yellowtail.  I had a Yuengling and she had a glass of red wine.\n",
      "\n",
      "The jalapeno yellowtail was good.  I was hoping for a little more jalapeno.  4/5\n",
      "\n",
      "The filet and scallops were both cooked perfectly.  The filet was around 5-6oz and was a great cut of beef.  It came from the kitchen trimmed perfectly.  5/5\n",
      "\n",
      "The chicken and shrimp were average.  Both the chicken and the shrimp were slightly overcooked.  3/5\n",
      "\n",
      "The portions are *amazingly* large.  Everyone at our station took a box of food home.  Each dinner entree comes with a few shrimp, fried rice, fried noodles and vegetables.  I recommend this location and we will be visiting again in the future.  Our total bill was around $75+ tip.\n",
      "Actual stars:  4\n",
      "Predicted stars:  4\n"
     ]
    }
   ],
   "source": [
    "import random\n",
    "\n",
    "rand_tag_num = random.randint(1,1000000)\n",
    "print(rand_tag_num)\n",
    "\n",
    "\n",
    "\n",
    "print(reviews_df[\"text\"][rand_tag_num])\n",
    "print(\"Actual stars: \", reviews_df[\"stars\"][rand_tag_num])\n",
    "print(\"Predicted stars: \", lstm.make_prediction(reviews_df[\"text\"][rand_tag_num]))"
   ]
  },
  {
   "cell_type": "code",
   "execution_count": 94,
   "metadata": {},
   "outputs": [
    {
     "name": "stdout",
     "output_type": "stream",
     "text": [
      "970912\n",
      "I took friends here that were visiting from out of state who love  to golf on Oct 10th 2014. We went to rent out two golfing stations and there was some type of glitch in the computer system. We had a rock star in training who was waiting on us and was having some issue with the computer. We were patiently waiting for at least 20 minutes to have the issue solved. I am not sure what happened however the manager Cory came over fixed the problem and comped both stations for free for the inconvenience. Now that's what I call great customer service. Thanks Top Golf, I will definitely be back.\n",
      "Actual stars:  5\n",
      "Predicted stars:  4\n"
     ]
    }
   ],
   "source": [
    "import random\n",
    "\n",
    "rand_tag_num = random.randint(1,1000000)\n",
    "print(rand_tag_num)\n",
    "\n",
    "\n",
    "\n",
    "print(reviews_df[\"text\"][rand_tag_num])\n",
    "print(\"Actual stars: \", reviews_df[\"stars\"][rand_tag_num])\n",
    "print(\"Predicted stars: \", lstm.make_prediction(reviews_df[\"text\"][rand_tag_num]))"
   ]
  },
  {
   "cell_type": "code",
   "execution_count": 95,
   "metadata": {},
   "outputs": [
    {
     "name": "stdout",
     "output_type": "stream",
     "text": [
      "210655\n",
      "We had lunch here last Sunday with our X New Yorker meetup couples. We wee excited to try this new dining in the dark experience! So your choices are Savory, Spicy or Sweet on the menu - you choose a flavor only. Btw this is a vegetarian menu and only cold drinks. It was very cool being led into total darkness to our table. The first course was two shot glasses of let's say soup to get your taste buds ready. The second course was salad and I had the sweet one. The third course was vegetables and falafels, very tasty but not too sweet! The fourth course was dessert & we all had the same dessert - it was yummy!  That's when I asked for coffee but so far they are not serving hot beverages. After dessert, was all got a really nice surprise! Our server Willy was wonderful! We had a lot of fun & I was full! The price for this 4 course meal in the dark was about $98. Per couple.\n",
      "Actual stars:  4\n",
      "Predicted stars:  4\n"
     ]
    }
   ],
   "source": [
    "import random\n",
    "\n",
    "rand_tag_num = random.randint(1,1000000)\n",
    "print(rand_tag_num)\n",
    "\n",
    "\n",
    "\n",
    "print(reviews_df[\"text\"][rand_tag_num])\n",
    "print(\"Actual stars: \", reviews_df[\"stars\"][rand_tag_num])\n",
    "print(\"Predicted stars: \", lstm.make_prediction(reviews_df[\"text\"][rand_tag_num]))"
   ]
  },
  {
   "cell_type": "code",
   "execution_count": 96,
   "metadata": {},
   "outputs": [
    {
     "name": "stdout",
     "output_type": "stream",
     "text": [
      "881588\n",
      "Tis ok..reasonable food. Quality is decent\n",
      "Actual stars:  3\n",
      "Predicted stars:  3\n"
     ]
    }
   ],
   "source": [
    "import random\n",
    "\n",
    "rand_tag_num = random.randint(1,1000000)\n",
    "print(rand_tag_num)\n",
    "\n",
    "\n",
    "\n",
    "print(reviews_df[\"text\"][rand_tag_num])\n",
    "print(\"Actual stars: \", reviews_df[\"stars\"][rand_tag_num])\n",
    "print(\"Predicted stars: \", lstm.make_prediction(reviews_df[\"text\"][rand_tag_num]))"
   ]
  },
  {
   "cell_type": "code",
   "execution_count": 97,
   "metadata": {},
   "outputs": [
    {
     "name": "stdout",
     "output_type": "stream",
     "text": [
      "795482\n",
      "The sides are the greatest part of Dickey's. The fried okra is perfection, the baked potato is HUGE and comes with an array of delicious toppings, including the bbq meats, but best of all is the dill potato salad. It has no onions!! Up until this point in my life the only potato salad I have ever encountered without onions are the ones I make myself. The poor kid behind the counter somehow felt the need to apologize that it was dill flavored, clearly not understanding that dill potato salad is the ultimate unicorn of flavors, unheard of in the world at large. I could live on it and it alone. If not for that whole dying of diabetes or malnourishment thing. The jalapeno beans have some actual heat to them and the free ice cream is nice in the heat of a Vegas summer, but I am all about the potato salad.\n",
      "Actual stars:  5\n",
      "Predicted stars:  4\n"
     ]
    }
   ],
   "source": [
    "import random\n",
    "\n",
    "rand_tag_num = random.randint(1,1000000)\n",
    "print(rand_tag_num)\n",
    "\n",
    "\n",
    "\n",
    "print(reviews_df[\"text\"][rand_tag_num])\n",
    "print(\"Actual stars: \", reviews_df[\"stars\"][rand_tag_num])\n",
    "print(\"Predicted stars: \", lstm.make_prediction(reviews_df[\"text\"][rand_tag_num]))"
   ]
  },
  {
   "cell_type": "code",
   "execution_count": 98,
   "metadata": {},
   "outputs": [
    {
     "name": "stdout",
     "output_type": "stream",
     "text": [
      "866587\n",
      "This has to be my favorite teppan yaki spot in Vegas! Every time I come here, service is always on point and food is always delicious! \n",
      "\n",
      "The last time I came here, the group I came with did the happy hour special. Definitely a must-try late night food place!\n",
      "\n",
      "I did the seafood combo that comes with miso soup, fried rice, shrimp, scallops and fish! It also comes with many different sauces made to order from the chef all for only $20! (Happy hour special) Because I went with a big group of early to mid 20's age, the teppan yaki chef made funny after-hour remarks! The chef was so funny and very accommodating. \n",
      "\n",
      "I went here for my mom's birthday as well a few months ago and I went with my family. The chef was so nice and funny.. he was not going to do some \"adult\" jokes. Instead, he cooked the fried rice in a heart-shaped form and was trying to make my grandma laugh! My family enjoyed it and they loved the food!\n",
      "\n",
      "I love this off-the-strip spot! A local hot spot, a tourist favorite, and you might spot a celebrity here or there! If you're in Vegas, you should try place!\n",
      "Actual stars:  5\n",
      "Predicted stars:  5\n"
     ]
    }
   ],
   "source": [
    "import random\n",
    "\n",
    "rand_tag_num = random.randint(1,1000000)\n",
    "print(rand_tag_num)\n",
    "\n",
    "\n",
    "\n",
    "print(reviews_df[\"text\"][rand_tag_num])\n",
    "print(\"Actual stars: \", reviews_df[\"stars\"][rand_tag_num])\n",
    "print(\"Predicted stars: \", lstm.make_prediction(reviews_df[\"text\"][rand_tag_num]))"
   ]
  },
  {
   "cell_type": "code",
   "execution_count": 99,
   "metadata": {},
   "outputs": [
    {
     "name": "stdout",
     "output_type": "stream",
     "text": [
      "86477\n",
      "Excellent food, great prices, good atmosphere. I come here all the time! While the service is not the most attentive (given it is a Chinese restaurant, that is not too surprising and I don't really expect that), I always come and leave here feeling satisfied -- nothing is too expensive, portions are good, food is tasty. My favourite times to come is between 3-5 because they have their afternoon tea specials or before 11am to get their breakfast special.\n",
      "Actual stars:  5\n",
      "Predicted stars:  4\n"
     ]
    }
   ],
   "source": [
    "import random\n",
    "\n",
    "rand_tag_num = random.randint(1,1000000)\n",
    "print(rand_tag_num)\n",
    "\n",
    "\n",
    "\n",
    "print(reviews_df[\"text\"][rand_tag_num])\n",
    "print(\"Actual stars: \", reviews_df[\"stars\"][rand_tag_num])\n",
    "print(\"Predicted stars: \", lstm.make_prediction(reviews_df[\"text\"][rand_tag_num]))"
   ]
  },
  {
   "cell_type": "code",
   "execution_count": 100,
   "metadata": {},
   "outputs": [
    {
     "name": "stdout",
     "output_type": "stream",
     "text": [
      "586310\n",
      "Sorry Torito - you missed the mark. \n",
      "\n",
      "Looked forward to visiting Torito based on Yelp reviews. As others have stated the ambiance is very nice well decorated, with a laid back kind of feel, which is its only saving grace. \n",
      "\n",
      "The food - we ordered the specials of the day, cheek and tongue tacos ($16) and the chicken sliders ($12).  \n",
      "\n",
      "So lets start with the tacos, I would consider myself an \"adventurous eater\" as I would not generally shy away from eating tongue BUT and its a big BUT, it needs to be 1. cooked well and 2. have some good ol' flavour going on. Fortunately the meat was pretty melt in your mouth, however tasted like... wait for it.... nothing, A BIG OLD NOTHING!! The corn tortillas had more flavour! \n",
      "\n",
      "Next chicken sliders!! small bite sized deliciousness in a fresh brioche bun, aioili, haloumi cheese how can you go wrong?? I was imagining 3 beautiful little brioche buns with an glistening egg wash with a wonderfully seasoned chicken patty a piece of grilled haloumi, a wonderful aioili and something for freshness... sorry its nothing like we described, the bread was dark and dry... very dry... the chicken was over cooked, not sure where the haloumi was, maybe ground into the chicken? a wee bit of butter lettuce which didn't add any freshness as the slider was drenched in aioili.... unfortunate... could have been a great slider. \n",
      "\n",
      "Would never go back based on quality not being able to match up to the price, would much rather hit up the El Trompo down the street for much less.\n",
      "Actual stars:  1\n",
      "Predicted stars:  2\n"
     ]
    }
   ],
   "source": [
    "import random\n",
    "\n",
    "rand_tag_num = random.randint(1,1000000)\n",
    "print(rand_tag_num)\n",
    "\n",
    "\n",
    "\n",
    "print(reviews_df[\"text\"][rand_tag_num])\n",
    "print(\"Actual stars: \", reviews_df[\"stars\"][rand_tag_num])\n",
    "print(\"Predicted stars: \", lstm.make_prediction(reviews_df[\"text\"][rand_tag_num]))"
   ]
  },
  {
   "cell_type": "code",
   "execution_count": 101,
   "metadata": {},
   "outputs": [
    {
     "name": "stdout",
     "output_type": "stream",
     "text": [
      "548800\n",
      "The burgers here are delicious and juicy. The poutines are even better! Portion is plenty.\n",
      "\n",
      "I love to come back when in the area and craving a burger.\n",
      "\n",
      "Much better deal than the highly rated burgers priest.\n",
      "\n",
      "They have some tables and seats so you could eat there comfortably so, although many take it to go.\n",
      "\n",
      "Service was good, a nice family.\n",
      "Actual stars:  5\n",
      "Predicted stars:  4\n"
     ]
    }
   ],
   "source": [
    "import random\n",
    "\n",
    "rand_tag_num = random.randint(1,1000000)\n",
    "print(rand_tag_num)\n",
    "\n",
    "\n",
    "\n",
    "print(reviews_df[\"text\"][rand_tag_num])\n",
    "print(\"Actual stars: \", reviews_df[\"stars\"][rand_tag_num])\n",
    "print(\"Predicted stars: \", lstm.make_prediction(reviews_df[\"text\"][rand_tag_num]))"
   ]
  },
  {
   "cell_type": "code",
   "execution_count": 102,
   "metadata": {},
   "outputs": [
    {
     "name": "stdout",
     "output_type": "stream",
     "text": [
      "179057\n",
      "Great experience and amazing food.\n",
      "\n",
      "I have been waiting to try this place out for a while now and I'm glad to say that I finally got to experience it today. \n",
      "\n",
      "I went out with my friends to enjoy the amazing weather at Town Square and we made a decision to eat here. We were really famished and as we read their menu (which was posted outside) we were sold.\n",
      "\n",
      "As we walked through the restaurant we noticed the cool alcohol display in the hallway. The restaurant had a modern casual feel. They had a full stocked bar with a list of beers on tap and it was semi-open. My friends and I opted for the outdoor patio and it couldn't be more perfect to enjoy the view and the lovely weather.\n",
      "\n",
      "Our waitress (I wish I remembered her name. She was super nice and always made sure we were doing well) was very pleasant and made all the right suggestions when it came to ordering our food. I asked her what she'd recommend for an appetizer. She chose the Beef Poutine and it was the bomb.com the chips (fries) were cooked on point and the gravy was indescribably creamy and hearty. For my entree I got the Chicken Tikka Marsala curry. I'm not much of a curry fanatic but this curry got me hooked. I wish we had room for dessert but that means we all need to come back for their High Tea.  \n",
      "\n",
      "Highly recommended\n",
      "Actual stars:  5\n",
      "Predicted stars:  5\n"
     ]
    }
   ],
   "source": [
    "import random\n",
    "\n",
    "rand_tag_num = random.randint(1,1000000)\n",
    "print(rand_tag_num)\n",
    "\n",
    "\n",
    "\n",
    "print(reviews_df[\"text\"][rand_tag_num])\n",
    "print(\"Actual stars: \", reviews_df[\"stars\"][rand_tag_num])\n",
    "print(\"Predicted stars: \", lstm.make_prediction(reviews_df[\"text\"][rand_tag_num]))"
   ]
  },
  {
   "cell_type": "code",
   "execution_count": 103,
   "metadata": {},
   "outputs": [
    {
     "name": "stdout",
     "output_type": "stream",
     "text": [
      "933659\n",
      "Innovative menu led us to order several small plates, all of which satisfied us.  The French Onion soup was a definite \"A\", and I've had plenty of it to compare to.  Another at our table had a salad, and he raved about it - a salad!  Surprising!  The pizzas were excellent; the drink menu, great; and the desserts, mighty fine.  The patio is cozy and inviting; we ate inside near the bar and liked the atmosphere.  We shall return!\n",
      "Actual stars:  4\n",
      "Predicted stars:  4\n"
     ]
    }
   ],
   "source": [
    "import random\n",
    "\n",
    "rand_tag_num = random.randint(1,1000000)\n",
    "print(rand_tag_num)\n",
    "\n",
    "\n",
    "\n",
    "print(reviews_df[\"text\"][rand_tag_num])\n",
    "print(\"Actual stars: \", reviews_df[\"stars\"][rand_tag_num])\n",
    "print(\"Predicted stars: \", lstm.make_prediction(reviews_df[\"text\"][rand_tag_num]))"
   ]
  },
  {
   "cell_type": "code",
   "execution_count": 105,
   "metadata": {},
   "outputs": [
    {
     "name": "stdout",
     "output_type": "stream",
     "text": [
      "305092\n",
      "Our server Nanette was great as usual \n",
      ".. had small greek with smoked salmon and spaghetti with Italian sausage and mushrooms\n",
      "Actual stars:  4\n",
      "Predicted stars:  4\n"
     ]
    }
   ],
   "source": [
    "import random\n",
    "\n",
    "rand_tag_num = random.randint(1,1000000)\n",
    "print(rand_tag_num)\n",
    "\n",
    "\n",
    "\n",
    "print(reviews_df[\"text\"][rand_tag_num])\n",
    "print(\"Actual stars: \", reviews_df[\"stars\"][rand_tag_num])\n",
    "print(\"Predicted stars: \", lstm.make_prediction(reviews_df[\"text\"][rand_tag_num]))"
   ]
  },
  {
   "cell_type": "code",
   "execution_count": 106,
   "metadata": {},
   "outputs": [
    {
     "name": "stdout",
     "output_type": "stream",
     "text": [
      "299867\n",
      "I am still spoiled by the Five Guys of the past, i.e the east coast VA version of yesterday year. Way back in the day, the burgers used to have more meat and now, unless you get a double, you will be asking \"where's the beef?\" The fries are still delicious as always and I love that you can still get as many toppings as you want on you burger, but alas, your patties are getting thinner and thinner. :(\n",
      "Actual stars:  3\n",
      "Predicted stars:  5\n"
     ]
    }
   ],
   "source": [
    "import random\n",
    "\n",
    "rand_tag_num = random.randint(1,1000000)\n",
    "print(rand_tag_num)\n",
    "\n",
    "\n",
    "\n",
    "print(reviews_df[\"text\"][rand_tag_num])\n",
    "print(\"Actual stars: \", reviews_df[\"stars\"][rand_tag_num])\n",
    "print(\"Predicted stars: \", lstm.make_prediction(reviews_df[\"text\"][rand_tag_num]))"
   ]
  },
  {
   "cell_type": "code",
   "execution_count": 107,
   "metadata": {},
   "outputs": [
    {
     "name": "stdout",
     "output_type": "stream",
     "text": [
      "392282\n",
      "I can't believe all the negative reviews. I've been eating at Bubbas' for years and the food is always top notch. Best Eastern, NC bbq in Charlotte. Get the large plate and include the Brunswick stew. Sweet tea is strong and tasty,\n",
      "Actual stars:  4\n",
      "Predicted stars:  5\n"
     ]
    }
   ],
   "source": [
    "# 392282\n",
    "\n",
    "import random\n",
    "\n",
    "rand_tag_num = random.randint(1,1000000)\n",
    "print(rand_tag_num)\n",
    "\n",
    "\n",
    "\n",
    "print(reviews_df[\"text\"][rand_tag_num])\n",
    "print(\"Actual stars: \", reviews_df[\"stars\"][rand_tag_num])\n",
    "print(\"Predicted stars: \", lstm.make_prediction(reviews_df[\"text\"][rand_tag_num]))"
   ]
  },
  {
   "cell_type": "code",
   "execution_count": 108,
   "metadata": {},
   "outputs": [
    {
     "name": "stdout",
     "output_type": "stream",
     "text": [
      "757343\n",
      "I had been to this plaza 100s of times in my life and never noticed this gem of a dive bar & grill. Good service, food & prices. The Mediterranean Dip is crazy delicious. I wish it was socially acceptable to order it and just eat it with a spoon!\n",
      "Actual stars:  3\n",
      "Predicted stars:  5\n"
     ]
    }
   ],
   "source": [
    "# 757343\n",
    "\n",
    "import random\n",
    "\n",
    "rand_tag_num = random.randint(1,1000000)\n",
    "print(rand_tag_num)\n",
    "\n",
    "\n",
    "\n",
    "print(reviews_df[\"text\"][rand_tag_num])\n",
    "print(\"Actual stars: \", reviews_df[\"stars\"][rand_tag_num])\n",
    "print(\"Predicted stars: \", lstm.make_prediction(reviews_df[\"text\"][rand_tag_num]))"
   ]
  },
  {
   "cell_type": "code",
   "execution_count": 109,
   "metadata": {},
   "outputs": [
    {
     "name": "stdout",
     "output_type": "stream",
     "text": [
      "359287\n",
      "Average food at an above average price. Fast food restaurant, that charges fancy sit down restaurant prices. Menudo had no hominy. Tacos were good...But who doesn't make a good taco? The problem here is the price. At $2.50 a taco they are roughly a $1 more then most places. I personally didn't taste a difference.   The salsa was good, but they give you  the tiniest cups I've ever seen. Basically...Salsa enough for 1 taco. Everything is do it yourself. Won't come back.\n",
      "Actual stars:  2\n",
      "Predicted stars:  2\n"
     ]
    }
   ],
   "source": [
    "import random\n",
    "\n",
    "rand_tag_num = random.randint(1,1000000)\n",
    "print(rand_tag_num)\n",
    "\n",
    "\n",
    "\n",
    "print(reviews_df[\"text\"][rand_tag_num])\n",
    "print(\"Actual stars: \", reviews_df[\"stars\"][rand_tag_num])\n",
    "print(\"Predicted stars: \", lstm.make_prediction(reviews_df[\"text\"][rand_tag_num]))"
   ]
  },
  {
   "cell_type": "code",
   "execution_count": 110,
   "metadata": {},
   "outputs": [
    {
     "name": "stdout",
     "output_type": "stream",
     "text": [
      "619777\n",
      "The food is quite good (chicken, ribs, corn and slaw).  The service was nice but i think the place was slammed with clients all at the same time.  The price is slightly on the high end, but the quality ous much better than other BBQ restaurants.   Will go back perhaps when the weather is warmer so that we can check out the patio.\n",
      "Actual stars:  3\n",
      "Predicted stars:  3\n"
     ]
    }
   ],
   "source": [
    "import random\n",
    "\n",
    "rand_tag_num = random.randint(1,1000000)\n",
    "print(rand_tag_num)\n",
    "\n",
    "\n",
    "\n",
    "print(reviews_df[\"text\"][rand_tag_num])\n",
    "print(\"Actual stars: \", reviews_df[\"stars\"][rand_tag_num])\n",
    "print(\"Predicted stars: \", lstm.make_prediction(reviews_df[\"text\"][rand_tag_num]))"
   ]
  },
  {
   "cell_type": "code",
   "execution_count": 111,
   "metadata": {},
   "outputs": [
    {
     "name": "stdout",
     "output_type": "stream",
     "text": [
      "711645\n",
      "Superb fusion of American and Vietnamese cuisine.  on the table are plates of oxtail fried rice, fried oysters, mekong river soup (made with beef, fishball, shrimp, and pork)... Dungeness crabs and Branzino.  \n",
      "\n",
      "All entrees are well prepared and are an explosion of taste. Yummy to my tummy.  Can't wait to revisit.\n",
      "Actual stars:  5\n",
      "Predicted stars:  5\n"
     ]
    }
   ],
   "source": [
    "import random\n",
    "\n",
    "rand_tag_num = random.randint(1,1000000)\n",
    "print(rand_tag_num)\n",
    "\n",
    "\n",
    "\n",
    "print(reviews_df[\"text\"][rand_tag_num])\n",
    "print(\"Actual stars: \", reviews_df[\"stars\"][rand_tag_num])\n",
    "print(\"Predicted stars: \", lstm.make_prediction(reviews_df[\"text\"][rand_tag_num]))"
   ]
  },
  {
   "cell_type": "code",
   "execution_count": 112,
   "metadata": {},
   "outputs": [
    {
     "name": "stdout",
     "output_type": "stream",
     "text": [
      "213479\n",
      "My kids absolutely loved this show. I don't think I've ever seen my daughter smile so big in her life. I don't think there's a bad seat in the house here, so don't worry about paying more for better seats. After being seated the waiter takes a drink order right away. Sodas and water come with the meal, cocktails and beer are extra. They start with a tomato soup. No utensils here folks. Really good soup. Then the show starts as dinner comes out. A fresh Cornish game hen, potatoes and broccoli. Everything was really tasty. \n",
      "\n",
      "The show runs more than an hour. They really get the crowd involved in the show. Everyone yells and cheers. There a lot of cool lights and pyrotechnics. The jousting battles and hand to hand combat is quite good. The whole show tells a pretty good story with a great grand finale.\n",
      "\n",
      "I think you're money it spent quite well here. It's about $240 for 4 people for the cheapest seats which includes dinner. I would take my kids again in the future.\n",
      "Actual stars:  5\n",
      "Predicted stars:  4\n"
     ]
    }
   ],
   "source": [
    "import random\n",
    "\n",
    "rand_tag_num = random.randint(1,1000000)\n",
    "print(rand_tag_num)\n",
    "\n",
    "\n",
    "\n",
    "print(reviews_df[\"text\"][rand_tag_num])\n",
    "print(\"Actual stars: \", reviews_df[\"stars\"][rand_tag_num])\n",
    "print(\"Predicted stars: \", lstm.make_prediction(reviews_df[\"text\"][rand_tag_num]))"
   ]
  },
  {
   "cell_type": "code",
   "execution_count": 113,
   "metadata": {},
   "outputs": [
    {
     "name": "stdout",
     "output_type": "stream",
     "text": [
      "753013\n",
      "I looooove I Love Roti!  Been coming here for many years and always get a fantastic meal.  I'm not as close as I used to be, but any time I'm in the area it's a magnetic attraction.  Recently had the doubles for the first time.... where have you been all of my life??  I only discovered doubles more recently, but these are the best I've ever had.  I usually order beef roti.  The roti bread is soft and freshly made, and filled with deliciously seasoned tender beef and lots of gravy.  Excellent value and lunch-size portions earlier in the day.\n",
      "Actual stars:  5\n",
      "Predicted stars:  5\n"
     ]
    }
   ],
   "source": [
    "import random\n",
    "\n",
    "rand_tag_num = random.randint(1,1000000)\n",
    "print(rand_tag_num)\n",
    "\n",
    "\n",
    "\n",
    "print(reviews_df[\"text\"][rand_tag_num])\n",
    "print(\"Actual stars: \", reviews_df[\"stars\"][rand_tag_num])\n",
    "print(\"Predicted stars: \", lstm.make_prediction(reviews_df[\"text\"][rand_tag_num]))"
   ]
  },
  {
   "cell_type": "code",
   "execution_count": 114,
   "metadata": {},
   "outputs": [
    {
     "name": "stdout",
     "output_type": "stream",
     "text": [
      "339797\n",
      "Oh no... I'm going to be one of the first to give this place a bad review ;o(\n",
      "\n",
      "Came here at 1pm and wait time was an hour for two people. Even if there was no wait time, I would not come back here. Maybe I didn't order the right thing, but everyone else raved about it on Yelp.\n",
      "\n",
      "THE BEASTWICH\n",
      "- Deep fried chicken thigh was 90% soggy with only the edges being crispy. The meat was tender, but not very flavorful. \n",
      "- Biscuit is ok. It's light and crispy at the top, but generally lacked the flavor I like in a biscuit (i.e. butter and salt). If you want an awesome biscuit breakfast sandwich, go to Lazy Daisy's Cafe on Gerrard instead).\n",
      "- Fried egg is key! \n",
      "- Pimento Cheese sauce was ok.\n",
      "- Potatoes were crispy, but tasted like they've been sitting around for awhile... lacked flavor in the inner potato part. If you want good potatoes, go to Insomnia on Bathurst and Bloor.\n",
      "- Mixed Salad had a nice ginger dressing, which I'm not usually a fan of, but it worked well. \n",
      "\n",
      "PORK BELLY SIDE\n",
      "- Overcooked, tough and dry. \n",
      "\n",
      "CHORIZO SAUSAGE SIDE\n",
      "- Tasted like it should.\n",
      "\n",
      "We were in the last round of brunch seating, so maybe the kitchen staff were exhausted from a busy day of endless customers... but our meal just completely missed the mark ;o( Oh and our clothes smelled like deep fried oil afterwards as well. Boo.\n",
      "Actual stars:  2\n",
      "Predicted stars:  2\n"
     ]
    }
   ],
   "source": [
    "import random\n",
    "\n",
    "rand_tag_num = random.randint(1,1000000)\n",
    "print(rand_tag_num)\n",
    "\n",
    "\n",
    "\n",
    "print(reviews_df[\"text\"][rand_tag_num])\n",
    "print(\"Actual stars: \", reviews_df[\"stars\"][rand_tag_num])\n",
    "print(\"Predicted stars: \", lstm.make_prediction(reviews_df[\"text\"][rand_tag_num]))"
   ]
  },
  {
   "cell_type": "code",
   "execution_count": 115,
   "metadata": {},
   "outputs": [
    {
     "name": "stdout",
     "output_type": "stream",
     "text": [
      "240168\n",
      "Had brunch here recently. The portions are huggeeeee. The prices are very reasonable around 10-15$ for most items. The French toast and home fries were very good. My crepes were good too a little heavy though. Service is great except I had to flag down my waiter to ask for an item they forgot but forgivable bc this place here crazy busy. Otherwise all the waitstaff was excellent.\n",
      "Actual stars:  5\n",
      "Predicted stars:  4\n"
     ]
    }
   ],
   "source": [
    "import random\n",
    "\n",
    "rand_tag_num = random.randint(1,1000000)\n",
    "print(rand_tag_num)\n",
    "\n",
    "\n",
    "\n",
    "print(reviews_df[\"text\"][rand_tag_num])\n",
    "print(\"Actual stars: \", reviews_df[\"stars\"][rand_tag_num])\n",
    "print(\"Predicted stars: \", lstm.make_prediction(reviews_df[\"text\"][rand_tag_num]))"
   ]
  },
  {
   "cell_type": "code",
   "execution_count": 116,
   "metadata": {},
   "outputs": [
    {
     "name": "stdout",
     "output_type": "stream",
     "text": [
      "248330\n",
      "We tried this place for the first time and loved it! The kal-bi beef was so delicious and tender! Oh and we had the guava jelly pancakes and they were delectable! The sauce. Was sweet and tangy, but not overpowering at all!\n",
      "Actual stars:  5\n",
      "Predicted stars:  4\n"
     ]
    }
   ],
   "source": [
    "import random\n",
    "\n",
    "rand_tag_num = random.randint(1,1000000)\n",
    "print(rand_tag_num)\n",
    "\n",
    "\n",
    "\n",
    "print(reviews_df[\"text\"][rand_tag_num])\n",
    "print(\"Actual stars: \", reviews_df[\"stars\"][rand_tag_num])\n",
    "print(\"Predicted stars: \", lstm.make_prediction(reviews_df[\"text\"][rand_tag_num]))"
   ]
  },
  {
   "cell_type": "code",
   "execution_count": 117,
   "metadata": {},
   "outputs": [
    {
     "name": "stdout",
     "output_type": "stream",
     "text": [
      "275708\n",
      "The staff are friendly and attentive. The garlic bread (unlimited) was very soft - just wish it was more garlic-y. The chicken tetrazini pizza was so so - didn't love the green onions added to the pizza and I think they were trying to make that recipe less soggy (apparently a number of customers complained About it being soggy) so I didn't really taste any sauce (it was supposed to have alfredo sauce). The bottomless caesar salad had real bacon bits (and a good portion of it) which was nice.\n",
      "Actual stars:  3\n",
      "Predicted stars:  3\n"
     ]
    }
   ],
   "source": [
    "import random\n",
    "\n",
    "rand_tag_num = random.randint(1,1000000)\n",
    "print(rand_tag_num)\n",
    "\n",
    "\n",
    "\n",
    "print(reviews_df[\"text\"][rand_tag_num])\n",
    "print(\"Actual stars: \", reviews_df[\"stars\"][rand_tag_num])\n",
    "print(\"Predicted stars: \", lstm.make_prediction(reviews_df[\"text\"][rand_tag_num]))"
   ]
  },
  {
   "cell_type": "code",
   "execution_count": 118,
   "metadata": {},
   "outputs": [
    {
     "name": "stdout",
     "output_type": "stream",
     "text": [
      "899267\n",
      "Tommy ..you aren't two tone..(for the older and wiser) you aren't even one for that matter. I was actually not going to Yelp your ass. Then I came home, had to sit on my back porch and to recap  your assholedness...ya that's right...ass-hole-ed-ness...This is going to be long folks, so grab a cocktail and hunker down....I promise not to leave out any juicy details...ground)...K ...so my daughter  totally gets dressed in a dress and comes out in the kitchen tonight...I'm like oh yeah! 8 and in a dress, let's go to dinner. We went to The Parlor..no parking...and passed Tommy 's on the way there..mental note..they are NOW open...so went back..she was said, \"No Mommy..please Tarbell's\"..cuz. she loves Jason there...I said, \" They are in the neighborhood..let's just try it out.\" Ok, Tommy V's...so we walk in and the \"Not old enough to lick a postage stamp hostess says to us, \"Um, I'm sorry there are only 6 tops available so we can't seat you...or you can sit in the banquet room by yourself...really? \"really? \" I say to her..\"there are 6 tables open and 5 at the bar..can we sit at the bar?\" she goes and asks  the bartender..\"No, sorry...I am like, \"really, we live in Arizona. They allow guns in bars\" she was like, really??? I am like ..this is so not worth it...(sorry I am sounding like valley girl right now..but like duh?) Any who, I stood my ground and she finally sat us at a \"6 top\" that was obviously on hold for Casper and his friends.  So, the waitress finally saunters over ...We order Calamari ...SUCKED! It was a soggy ass mess...then Meat Pizza and Bolognese Pasta...no options on Pizza  and they served the veal bolognese( I had high hopes, I know..but I did)...with pre bought corkscrew noodles to an adult!!!!!!!!!!!!!!! The only corkscrew I like is in my wine.,Seriously ,VEAL ON CORKSCREW...am I missing something? Apparently..I will never miss this place another second of one moment of one ioda of one day in my life..Sorry tangit...so then, apparently the wait staff had not seen each other since high school...because they concregated more on \"catch up\"than actually waiting tables...when she finally did come over she stacked our dishes and left them there, then took 15 min to get the check back....15!!!! THEY WEREN'T EVEN BUSY! So, then on the way out  the\"not old enough to lick a postage stamp hostess\" is actually chewing her nails as we are leaving and does not EVEN bother to take her fingers out of her mouth as she says...\"thanks for coming\" ..really? really right now? no one has said that with less enthusiasum than when my best gay friend and I decided to have sex just to see what it woudl be like...If you have a perfectly ironed golf shirt and like Tomaso's  and have a case of Scotch in your trunk and have to take your wife to dinner, drop her drunk ass off at home, then get your plasta gal on speed dial then this place is for you. If not, don't bother..EVER!!!!! but do go to Tarbell's ...still classic, divine and NOT TOMMY V\"S!!!!!!!!!!!!\n",
      "Actual stars:  1\n",
      "Predicted stars:  1\n"
     ]
    }
   ],
   "source": [
    "import random\n",
    "\n",
    "rand_tag_num = random.randint(1,1000000)\n",
    "print(rand_tag_num)\n",
    "\n",
    "\n",
    "\n",
    "print(reviews_df[\"text\"][rand_tag_num])\n",
    "print(\"Actual stars: \", reviews_df[\"stars\"][rand_tag_num])\n",
    "print(\"Predicted stars: \", lstm.make_prediction(reviews_df[\"text\"][rand_tag_num]))"
   ]
  },
  {
   "cell_type": "code",
   "execution_count": 119,
   "metadata": {},
   "outputs": [
    {
     "name": "stdout",
     "output_type": "stream",
     "text": [
      "174829\n",
      "This is the best restaurant in liberty village, with the exception of Mildred's.  The food is head and shoulders above the other establishments in Liberty Village since the Chef is a true seasoned professional specializing in Fine Food and Haute Cuisine. \n",
      "\n",
      "And the prices are actually very decent!  T-Bone steak for $22.  Goat-cheese stuffed chicken breast in wild mushroom sauce for $21.  They have lunch specials every day for $10, and the Perronni draft beer is always on special for lunch.  \n",
      "\n",
      "The ambiance is amazing.  The place used to be a factory, so huge windows with tiled panes, old-world radiators and french-bistro-like tables.  I love the melted candles at the entrance!\n",
      "Actual stars:  5\n",
      "Predicted stars:  5\n"
     ]
    }
   ],
   "source": [
    "import random\n",
    "\n",
    "rand_tag_num = random.randint(1,1000000)\n",
    "print(rand_tag_num)\n",
    "\n",
    "\n",
    "\n",
    "print(reviews_df[\"text\"][rand_tag_num])\n",
    "print(\"Actual stars: \", reviews_df[\"stars\"][rand_tag_num])\n",
    "print(\"Predicted stars: \", lstm.make_prediction(reviews_df[\"text\"][rand_tag_num]))"
   ]
  },
  {
   "cell_type": "code",
   "execution_count": 120,
   "metadata": {},
   "outputs": [
    {
     "name": "stdout",
     "output_type": "stream",
     "text": [
      "696260\n",
      "So I didn't know when I walked in That not only was I paying for cold food but I was also paying for a cheep knock off of Ghetto fight! As I was walking to a place to sit while I was going to consume my cold meal, I witnessed a young woman haul off and punch a man sitting next to her. He was caught texting another girl in front of her (it's not eavesdropping if she is screaming it) she continued to hit him and sling chairs around. The whole time a manager sat eating subway with his wife, even his wife said he should have shut the shit down. While I fished my meal in what I guess you could describe as unique ambiance every car that went through the drive through had to have there food brought out to them. I guess the manager was once again too busy with his sub to bother. Than to top it all of cause really this place can't get any better there was gum all over my seat. I guess the boxing match must have distracted me. And through all this someone was sleeping through everything in the high top booth across from me. I'm not saying this place sucks but....\n",
      "Actual stars:  1\n",
      "Predicted stars:  1\n"
     ]
    }
   ],
   "source": [
    "import random\n",
    "\n",
    "rand_tag_num = random.randint(1,1000000)\n",
    "print(rand_tag_num)\n",
    "\n",
    "\n",
    "\n",
    "print(reviews_df[\"text\"][rand_tag_num])\n",
    "print(\"Actual stars: \", reviews_df[\"stars\"][rand_tag_num])\n",
    "print(\"Predicted stars: \", lstm.make_prediction(reviews_df[\"text\"][rand_tag_num]))"
   ]
  },
  {
   "cell_type": "code",
   "execution_count": 121,
   "metadata": {},
   "outputs": [
    {
     "name": "stdout",
     "output_type": "stream",
     "text": [
      "964538\n",
      "THE BEST MEXICAN FOOD - for the price! It's delicious and it's fast!! Every time the quesadilla is ridiculously tasty and the queso dip is addictive. They make great guacamole, too.  I usually have the steak tacos - you can't lose, really.  It's the perfect Mexican place for the perfect price.  I'M HUNGRY!!!\n",
      "Actual stars:  4\n",
      "Predicted stars:  5\n"
     ]
    }
   ],
   "source": [
    "import random\n",
    "\n",
    "rand_tag_num = random.randint(1,1000000)\n",
    "print(rand_tag_num)\n",
    "\n",
    "\n",
    "\n",
    "print(reviews_df[\"text\"][rand_tag_num])\n",
    "print(\"Actual stars: \", reviews_df[\"stars\"][rand_tag_num])\n",
    "print(\"Predicted stars: \", lstm.make_prediction(reviews_df[\"text\"][rand_tag_num]))"
   ]
  },
  {
   "cell_type": "code",
   "execution_count": 122,
   "metadata": {},
   "outputs": [
    {
     "name": "stdout",
     "output_type": "stream",
     "text": [
      "527887\n",
      "I love going here. it reminds me a lot of chicago with the decor. i grew up about 30 miles south of chicago. love the pizzas and love the all the choices of beer.\n",
      "Actual stars:  5\n",
      "Predicted stars:  5\n"
     ]
    }
   ],
   "source": [
    "import random\n",
    "\n",
    "rand_tag_num = random.randint(1,1000000)\n",
    "print(rand_tag_num)\n",
    "\n",
    "\n",
    "\n",
    "print(reviews_df[\"text\"][rand_tag_num])\n",
    "print(\"Actual stars: \", reviews_df[\"stars\"][rand_tag_num])\n",
    "print(\"Predicted stars: \", lstm.make_prediction(reviews_df[\"text\"][rand_tag_num]))"
   ]
  },
  {
   "cell_type": "code",
   "execution_count": 124,
   "metadata": {},
   "outputs": [
    {
     "name": "stdout",
     "output_type": "stream",
     "text": [
      "500981\n",
      "Consistently comes to my rescue when I need a place to chill. I wish they were open for dinner. Today is what made me write the review. Went to one place, line was out the door. Went to another- same deal. Went to Einsteins and they were busy but not crazy busy. More like steady. Next time I'll go there first. Love the cranberry tasty turkey on a cranberry bagel. Love their seasonal food too!\n",
      "Actual stars:  5\n",
      "Predicted stars:  4\n"
     ]
    }
   ],
   "source": [
    "import random\n",
    "\n",
    "rand_tag_num = random.randint(1,1000000)\n",
    "print(rand_tag_num)\n",
    "\n",
    "\n",
    "\n",
    "print(reviews_df[\"text\"][rand_tag_num])\n",
    "print(\"Actual stars: \", reviews_df[\"stars\"][rand_tag_num])\n",
    "print(\"Predicted stars: \", lstm.make_prediction(reviews_df[\"text\"][rand_tag_num]))"
   ]
  },
  {
   "cell_type": "code",
   "execution_count": 125,
   "metadata": {},
   "outputs": [
    {
     "name": "stdout",
     "output_type": "stream",
     "text": [
      "228455\n",
      "Happy to give this place another chance! Tried it out for brunch today and they are well on their way back to being what they were. We were greeted not only by the host but also the chef in the butchery...we explained that we had not been in a while but heard there was a new management team so we wanted to come back. They were both grateful. We were quickly sat outside the patio has the best heaters in town...I wasn't cold once. Bottomless\n",
      "Mimosa for $16 is a great price...I'm not a fan of the Wycliff but add enough orange juice and it's fine. Short rib hash was an A+ but the rest of the breakfast was just good.\n",
      "Can't wait to go back for dinner and get a steak....that's what this place is about!\n",
      "Actual stars:  3\n",
      "Predicted stars:  4\n"
     ]
    }
   ],
   "source": [
    "import random\n",
    "\n",
    "rand_tag_num = random.randint(1,1000000)\n",
    "print(rand_tag_num)\n",
    "\n",
    "\n",
    "\n",
    "print(reviews_df[\"text\"][rand_tag_num])\n",
    "print(\"Actual stars: \", reviews_df[\"stars\"][rand_tag_num])\n",
    "print(\"Predicted stars: \", lstm.make_prediction(reviews_df[\"text\"][rand_tag_num]))"
   ]
  },
  {
   "cell_type": "code",
   "execution_count": 126,
   "metadata": {},
   "outputs": [
    {
     "name": "stdout",
     "output_type": "stream",
     "text": [
      "456338\n",
      "I'd been to a famous one of these before (kushi-age restaurant) in Kyoto so I was excited to see something like this in Las Vegas.  We were able to make reservations quite easily (also wasn't busy when we went).\n",
      "\n",
      "Hubby, though a big fan of fried foods, was afraid a meal of it would really gross us out with the greasiness.  Thankfully, Yu-Yu had plenty of other things to distract our taste buds in between fried morsels.\n",
      "\n",
      "Definitely recommend the following:\n",
      "Yellowtail Carpaccio\n",
      "Seared Beef Tongue\n",
      "Garlic Chicken Gizzards\n",
      "Skewers: Mentaiko Mochi, Mozarella Chicken, Pork Tenderloin, Bacon Okra\n",
      "\n",
      "We also ordered the Tuna Yukke, House salad and the pork soup but these were normal.  We also got bacon mochi but the bacon was so thin, I thought they didn't even include it.  Skip!\n",
      "\n",
      "They do have a comprehensive menu of sauces and I found myself drawn mostly to the salts they start with and their ponzu.  Yum!\n",
      "\n",
      "Service was jovial though it got a little defensive about the bacon mochi and kind of disappeared after all our food was served so we did wait a bit to get out of there.  Otherwise, it was a pleasant and fun dinner for us.\n",
      "Actual stars:  4\n",
      "Predicted stars:  3\n"
     ]
    }
   ],
   "source": [
    "import random\n",
    "\n",
    "rand_tag_num = random.randint(1,1000000)\n",
    "print(rand_tag_num)\n",
    "\n",
    "\n",
    "\n",
    "print(reviews_df[\"text\"][rand_tag_num])\n",
    "print(\"Actual stars: \", reviews_df[\"stars\"][rand_tag_num])\n",
    "print(\"Predicted stars: \", lstm.make_prediction(reviews_df[\"text\"][rand_tag_num]))"
   ]
  },
  {
   "cell_type": "code",
   "execution_count": 127,
   "metadata": {},
   "outputs": [
    {
     "name": "stdout",
     "output_type": "stream",
     "text": [
      "959087\n",
      "I've grown to like Switch more and more.  Conveniently located right off the light rail (Central and Virginia), it makes a good spot for a weekend dinner or brunch.\n",
      "\n",
      "I've never been let down by the food at Switch... standouts include the baked crab and lobster appetizer and the apricot-BBQ-feta chicken sandwich.\n",
      "\n",
      "I lament about the drinks.  Maybe I've not ordered the right thing, but the few times I've had their drink specials, I can't help but notice they are pre-made and unfortunately taste accordingly.  \n",
      "\n",
      "Service is spot on 4 out of 5 visits and I like the atmosphere, so I'll be back again and again.\n",
      "Actual stars:  3\n",
      "Predicted stars:  4\n"
     ]
    }
   ],
   "source": [
    "import random\n",
    "\n",
    "rand_tag_num = random.randint(1,1000000)\n",
    "print(rand_tag_num)\n",
    "\n",
    "\n",
    "\n",
    "print(reviews_df[\"text\"][rand_tag_num])\n",
    "print(\"Actual stars: \", reviews_df[\"stars\"][rand_tag_num])\n",
    "print(\"Predicted stars: \", lstm.make_prediction(reviews_df[\"text\"][rand_tag_num]))"
   ]
  },
  {
   "cell_type": "code",
   "execution_count": 128,
   "metadata": {},
   "outputs": [
    {
     "name": "stdout",
     "output_type": "stream",
     "text": [
      "296008\n",
      "I like this place. It has a good feel and delicious margaritas. If I were back in Old Town, I might stop by. But I am sure every neighborhood has their own margarita spot that is quite similar. There is no reason to drive for miles to get here.\n",
      "Actual stars:  3\n",
      "Predicted stars:  4\n"
     ]
    }
   ],
   "source": [
    "import random\n",
    "\n",
    "rand_tag_num = random.randint(1,1000000)\n",
    "print(rand_tag_num)\n",
    "\n",
    "\n",
    "\n",
    "print(reviews_df[\"text\"][rand_tag_num])\n",
    "print(\"Actual stars: \", reviews_df[\"stars\"][rand_tag_num])\n",
    "print(\"Predicted stars: \", lstm.make_prediction(reviews_df[\"text\"][rand_tag_num]))"
   ]
  },
  {
   "cell_type": "code",
   "execution_count": 129,
   "metadata": {},
   "outputs": [
    {
     "name": "stdout",
     "output_type": "stream",
     "text": [
      "184965\n",
      "What a crappy menu.  They don't tell you how many wings and how many sauces you get with each size of order.  Took us forever and pissing off the waitress to figure out our order.  The snack size of the boneless wings has 8 wings and you can choose 2 sauces, the snack size of the bone-in wings has six wings and one sauce. They act like you should just know how it works.  Also,  traditional wings are more restrictive and more expensive than boneless, which in my experience is backwards.  It is also insanely loud in the place.  On top of it they charge almost $5 for the weakest, wilted little side salad.  Also, they bring 10 wings in a small order, plus carrots and celery, with an Itty bitty 2 oz. Of ranch.  Then they want $0.60 for each 2 oz. Thereafter.  They can keep it!  $38 for two for wings and mediocre fries.  $45 after tip.  Ugh...\n",
      "Actual stars:  2\n",
      "Predicted stars:  2\n"
     ]
    }
   ],
   "source": [
    "import random\n",
    "\n",
    "rand_tag_num = random.randint(1,1000000)\n",
    "print(rand_tag_num)\n",
    "\n",
    "\n",
    "\n",
    "print(reviews_df[\"text\"][rand_tag_num])\n",
    "print(\"Actual stars: \", reviews_df[\"stars\"][rand_tag_num])\n",
    "print(\"Predicted stars: \", lstm.make_prediction(reviews_df[\"text\"][rand_tag_num]))"
   ]
  },
  {
   "cell_type": "code",
   "execution_count": 130,
   "metadata": {},
   "outputs": [
    {
     "name": "stdout",
     "output_type": "stream",
     "text": [
      "395578\n",
      "A friend of mine had some clients in town who wanted to see a new show on the strip.  There have been some really great buzz going around town about this show and so I wanted to check it out.  Plus, it's in the Cosmo, so DUH!\n",
      "\n",
      "Once you enter the Cosmopolitan from valet, the entrance is right up the first escalators.  After giving the security guards your ticket, you're taken in the first room: a hostess station room.  You'll notice lots of different doors.  Omg, I felt like I was in an episode of Alice in Wonderland.  We showed our tickets and was whisked away to the bar area up the stairs.  The layout was pretty rad.  Two bars on either side of the room.  There was a section with oversize chairs in a half moon stadium seating layout. The middle was a revolving stage and some trapdoor staging.  We were in for a great treat! \n",
      "\n",
      "At the bar, I decided to get the Moscow Mule for around $10.  Such a cool thing, it was on tap!  The flavor was great! I must say it was probably the best Moscow Mule I've ever had.  The garnish was a couple of candied ginger pieces.  Great touch to the drink and really brought out the ginger flavor.  The actual show was pretty awesome!  Without giving away the entire show, I really enjoyed the montage of different acts and talents.  My favorite were the twin tap dancers. They were on point! There was a little bit of comedy, suspense and a whole lot of personality!  I highly recommend this place!\n",
      "\n",
      "After the show, we were taken to another room called the Study.  It was another bar area/lounge set up like a home library.  The cool thing was that some of the performers actually engaged in the audience in this room.  My only problem was the server there. I don't know her name but she was a little rude to our table.  At one point, one of my friends was a little loud and she \"cut\" him off as he seemed inebriated.  Funny part was, HE WAS OUR DESIGNATED DRIVER!  Bad call on her part, but not the complete end to our lovely evening.  \n",
      "\n",
      "If you're looking for a show that's intimate, fun and a little weird, you've gotta try this place out! Don't be a prude, pay the $120 bill, because you will realize that it's really worth it!\n",
      "Actual stars:  4\n",
      "Predicted stars:  4\n"
     ]
    }
   ],
   "source": [
    "import random\n",
    "\n",
    "rand_tag_num = random.randint(1,1000000)\n",
    "print(rand_tag_num)\n",
    "\n",
    "\n",
    "\n",
    "print(reviews_df[\"text\"][rand_tag_num])\n",
    "print(\"Actual stars: \", reviews_df[\"stars\"][rand_tag_num])\n",
    "print(\"Predicted stars: \", lstm.make_prediction(reviews_df[\"text\"][rand_tag_num]))"
   ]
  },
  {
   "cell_type": "code",
   "execution_count": 131,
   "metadata": {},
   "outputs": [
    {
     "name": "stdout",
     "output_type": "stream",
     "text": [
      "49164\n",
      "When there is a special occasion in my family, the only place we trust with baking our cake is Jean Philippe Patisserie, because special occasions call for special cakes and Chef Claude and his team ALWAYS deliver. This year we ordered from the Aria location. We had a princess party and needed a cake fit for royalty. I showed Chef Claude a picture and he and his team made magic happen. This cake was LEGENDARY. Everything was edible, the towers were made of delicious CHOCOLATE. The pretty pink fondant was shimmery and yummy. We ordered vanilla cake with creme brulee custard and strawberries. The cake was moist and delicious, the creme brulee custard was extraordinary! There were beautiful intricate details added that truly showcase the team's artistry, the picture doesn't do it justice. The cake is the centerpiece of a party and this cake took our party to the next level. Another unforgettable cake. Thank you Chef Claude!  LET THEM EAT CAKE!\n",
      "Actual stars:  5\n",
      "Predicted stars:  5\n"
     ]
    }
   ],
   "source": [
    "import random\n",
    "\n",
    "rand_tag_num = random.randint(1,1000000)\n",
    "print(rand_tag_num)\n",
    "\n",
    "\n",
    "\n",
    "print(reviews_df[\"text\"][rand_tag_num])\n",
    "print(\"Actual stars: \", reviews_df[\"stars\"][rand_tag_num])\n",
    "print(\"Predicted stars: \", lstm.make_prediction(reviews_df[\"text\"][rand_tag_num]))"
   ]
  },
  {
   "cell_type": "code",
   "execution_count": 132,
   "metadata": {},
   "outputs": [
    {
     "name": "stdout",
     "output_type": "stream",
     "text": [
      "929319\n",
      "First thing to know about Melt is there is almost ALWAYS a wait. I went with two friends on a Saturday at 4:00PM and the wait was 30-40 minutes. My friends said they have arrived when it opens at 11:00AM and there is still a line waiting to get in. So, if you are in a hurry, go elsewhere. And, obviously, the smaller the group the easier to be seated. Tables are basically 4-square so larger groups can have a few pulled together. But waiting for some to open up near each other might take a while.\n",
      "\n",
      "Next, the staff is very friendly. While standing at the hostess desk they saw I was wearing a \"Praise Cheeses\" T-shirt that they loved (I mean, their name IS Melt.). When seated, one of them even came by and leaned in to the waiter to say \"Check out his shirt!\" The waiter took the time to explain, as it was my first visit there, that I could have virtually anything I wanted and they would prepare it anyway I wanted.\n",
      "\n",
      "The sandwiches are massive. I ordered their burger, a half pound of fresh beef, at $11.00. Prices, on the surface, seem high. I ordered my burger with blackened seasoning. For another buck I added grilled onions, and for another buck-and-a-half, avocado. That might seem high: $13.50 for a burger. But that included a huge amount of fries (some of which I had to take home). And when considering other high-end burger joints like B-Spot, The Rail or Flip Side, prices are actually right in line. I just hoped the food matched the price.\n",
      "\n",
      "So how was it? The burger arrived already cut in half with a ton of fries and a pickle. No bun. Toasted, thick-cut bread held the burger. The waiter had explained they don't really use a grill, so the blackened seasoning wouldn't be seared into the meat. It came cooked medium-well, but still juicy. I took a bite and decided it was pretty good. Then I experienced something unusual: with every bite the burger tasted better and better. The seasoning became more noticeable.Toppings (avocado) were falling off, which I used my fork to finish, and the bread/bun held up enough that I could finish the entire. Yes. It went from a pretty good burger to a great burger, and all I had to do was keep eating it!\n",
      "Actual stars:  4\n",
      "Predicted stars:  4\n"
     ]
    }
   ],
   "source": [
    "import random\n",
    "\n",
    "rand_tag_num = random.randint(1,1000000)\n",
    "print(rand_tag_num)\n",
    "\n",
    "\n",
    "\n",
    "print(reviews_df[\"text\"][rand_tag_num])\n",
    "print(\"Actual stars: \", reviews_df[\"stars\"][rand_tag_num])\n",
    "print(\"Predicted stars: \", lstm.make_prediction(reviews_df[\"text\"][rand_tag_num]))"
   ]
  },
  {
   "cell_type": "code",
   "execution_count": 133,
   "metadata": {},
   "outputs": [
    {
     "name": "stdout",
     "output_type": "stream",
     "text": [
      "715643\n",
      "Honestly, the biggest standout to me about this restaurant was how noisy it was. It's very cozy, but also hard to hear anyone at your table. I wasn't expecting this.\n",
      "\n",
      "The food was very good and/but definitely on the heavy side - maybe this was partially due to our ordering, but we also found the portions to be very large. The pork risotto was so rich that we would have been happy to have shared a quarter of it, even without the foie gras, which felt over the top to me.\n",
      "\n",
      "But I really enjoyed the boar, which was sizable but NOT over the top. We asked for a wine pairing to encompass people who ordered boar as well as those who got fish, and were given a suitably subtle red, which was decent but not exciting. The desserts were more exciting, but overall we just weren't blown away.\n",
      "Actual stars:  3\n",
      "Predicted stars:  3\n"
     ]
    }
   ],
   "source": [
    "import random\n",
    "\n",
    "rand_tag_num = random.randint(1,1000000)\n",
    "print(rand_tag_num)\n",
    "\n",
    "\n",
    "\n",
    "print(reviews_df[\"text\"][rand_tag_num])\n",
    "print(\"Actual stars: \", reviews_df[\"stars\"][rand_tag_num])\n",
    "print(\"Predicted stars: \", lstm.make_prediction(reviews_df[\"text\"][rand_tag_num]))"
   ]
  },
  {
   "cell_type": "code",
   "execution_count": 134,
   "metadata": {},
   "outputs": [
    {
     "name": "stdout",
     "output_type": "stream",
     "text": [
      "551161\n",
      "$1.75 margaritas, all day, every day.\n",
      "\n",
      " \n",
      "\n",
      "What else is there to say?\n",
      "\n",
      " \n",
      "\n",
      "OK, I have a few more things to say. I started coming here about a year and a half ago because it's a hop, skip and jump from my office and was the go-to Mexi restaurant for special lunches and happy hours.\n",
      "\n",
      "For its decent food and SUPER-fast and friendly service, you can't beat it. It will satisfy that Mexican food craving but 'tis true it is nothing to write home about. (I imagine if I were from the East Coast or like Idaho or something, I really would write my friends and family regularly to brag about the amazing Mexican food in AZ, just sayin'.)\n",
      "\n",
      "Cases in point of \"super-fast-and-friendly-service\": 1)Came here for drinks and apps with a friend and were about to settle our tab and head out the door anyway when our server kindly asked if we would mind moving tables to accommodate a large party - and we would be given margaritas on the house for the \"trouble.\" 2) Myself and two other friends dropped in for a quick bite and were brought chips and salsa before even ordering - I love that - and our margarita orders were taken immediately and were out within the minute. When our food orders were placed, the plates were out within three minutes - I'm not kidding! And our waters and margaritas were never below the one-third line before being asked if we'd like more. Also, the server gave not one, but TWO freebies: shots of sweet red liquid he simply called \"Mexican Kool-Aid\" (he even smiled when I hissed \"I think we're being roofied, go with it!\") and rice pudding. He apparently thought we might like it, and I sure did.\n",
      "\n",
      "Anywho, it's consistently fast and friendly and pretty cheap too. Throw in those cheap drinks and what's not to love about that?\n",
      "Actual stars:  4\n",
      "Predicted stars:  3\n"
     ]
    }
   ],
   "source": [
    "import random\n",
    "\n",
    "rand_tag_num = random.randint(1,1000000)\n",
    "print(rand_tag_num)\n",
    "\n",
    "\n",
    "\n",
    "print(reviews_df[\"text\"][rand_tag_num])\n",
    "print(\"Actual stars: \", reviews_df[\"stars\"][rand_tag_num])\n",
    "print(\"Predicted stars: \", lstm.make_prediction(reviews_df[\"text\"][rand_tag_num]))"
   ]
  },
  {
   "cell_type": "code",
   "execution_count": 135,
   "metadata": {},
   "outputs": [
    {
     "name": "stdout",
     "output_type": "stream",
     "text": [
      "333505\n",
      "What can I say? Jean Philippe Patisserie located at the Aria is my favorite go to place to satisfy my sweet cravings! Whether you're craving something cold like ice cream or sorbets, something sweet, like chocolates, desserts, a pastry, coffee or a mocha, this is a really cool, hip, happening place to hang out! Everything here is just \"Yummy!!!\".  Jean Philippe Patisserie is located in the heart of Aria right off the casino floor. It's a cool place to just hang out with friends for fellowship or even people watch LOL. No time to have a seat and relax? Jean Philippe is also perfect for grab and go! Sometimes when I am on the run, I like to just walk through to satisfy my \"eye candy\" hahaha.\n",
      "\n",
      "There are ample parking at the Aria parking garage. (Please note if you are parking, the MGM Resorts have started to charge for parking, unless you are staying at one the the MGM Hotels)\n",
      "\n",
      "Be sure to check out Jean Philippe Patisserie the next time you're in Vegas! Trust me it's that good!! :)\n",
      "Actual stars:  5\n",
      "Predicted stars:  5\n"
     ]
    }
   ],
   "source": [
    "import random\n",
    "\n",
    "rand_tag_num = random.randint(1,1000000)\n",
    "print(rand_tag_num)\n",
    "\n",
    "\n",
    "\n",
    "print(reviews_df[\"text\"][rand_tag_num])\n",
    "print(\"Actual stars: \", reviews_df[\"stars\"][rand_tag_num])\n",
    "print(\"Predicted stars: \", lstm.make_prediction(reviews_df[\"text\"][rand_tag_num]))"
   ]
  },
  {
   "cell_type": "code",
   "execution_count": 136,
   "metadata": {},
   "outputs": [
    {
     "name": "stdout",
     "output_type": "stream",
     "text": [
      "718784\n",
      "When one thinks of Huntersville, NC it does not exactly feel as the abode of an authentic family owned Italian restaurant serving up one of the best tasting marinara ever! This place is super busy on weekends and since they don't take reservations it is always hard to go here in large groups. However, the staff is super friendly and will happily serve up beers and wine with a fun filled conversation in the lobby while you wait. The wait is worth it. The Mozzarella in Carrozza comes drenched in their all so yummy marinara. This is a dreamy concoction that can be best described as just loads of flavor in each bite where the fresh mozzarella blends with the crunchy texture of the bread and the tangy marinara that has the natural sweetness of vine ripened tomatoes. You will want to get that plate clean with the fresh bread they have at the table which is a nice good hearty crusted loaf with a tender white inside. My personal favorite is the Pollo Parmigiana with substituting the angel hair pasta for fettuccine Alfredo. They put on a big smile to accommodate changes. If you are in for a sweet tooth, then their cannoli's are authentic and fresh, and they are Italian sized. None of that wannabe dessert size here. The penne ala vodka is equally delectable, the sauce is simply unique and if you are a vodka sauce fan then theirs is definitely very zesty and flavorful. Love this place and the folks who run it. Always smiling and always cheerful. I think a ton of love goes into the food they serve, I always see people leaving with big grins and just amazed that this little place exists in our neighborhood.\n",
      "Actual stars:  5\n",
      "Predicted stars:  5\n"
     ]
    }
   ],
   "source": [
    "import random\n",
    "\n",
    "rand_tag_num = random.randint(1,1000000)\n",
    "print(rand_tag_num)\n",
    "\n",
    "\n",
    "\n",
    "print(reviews_df[\"text\"][rand_tag_num])\n",
    "print(\"Actual stars: \", reviews_df[\"stars\"][rand_tag_num])\n",
    "print(\"Predicted stars: \", lstm.make_prediction(reviews_df[\"text\"][rand_tag_num]))"
   ]
  },
  {
   "cell_type": "code",
   "execution_count": 137,
   "metadata": {},
   "outputs": [
    {
     "name": "stdout",
     "output_type": "stream",
     "text": [
      "257678\n",
      "No, just no. I'm upset and feeling all things not great about this new place. Location is fine and patio is great as always but that is where it ends. The food is meh and why did you change the menu? If business is going well and people love you, why change it?! Change is definitely not always good. I thought you were just upgrading location. That new menu of yours is terrible, there's barely anything on it worth ordering. We ordered the happy hour nachos, there was a puddle of water at the bottom of the plate, maybe from watery salsa? who knows but it was weird and they only tasted okay. How can it be that your only quesadilla on the menu is veggie? Why are your tacos made in child size and cost $3 each? Why, why why oh why ever change?!\n",
      "\n",
      "Please, do us all a favor and have re-re-opening party with the old menu back and celebrating all of the good old cheap awesome Mexican food and margaritas that we all loved. I used to go here at least every other week if not more for happy hour, now it's very unlikely saltys will come to mind when we are choosing where to go.\n",
      "Actual stars:  2\n",
      "Predicted stars:  2\n"
     ]
    }
   ],
   "source": [
    "import random\n",
    "\n",
    "rand_tag_num = random.randint(1,1000000)\n",
    "print(rand_tag_num)\n",
    "\n",
    "\n",
    "\n",
    "print(reviews_df[\"text\"][rand_tag_num])\n",
    "print(\"Actual stars: \", reviews_df[\"stars\"][rand_tag_num])\n",
    "print(\"Predicted stars: \", lstm.make_prediction(reviews_df[\"text\"][rand_tag_num]))"
   ]
  },
  {
   "cell_type": "code",
   "execution_count": 138,
   "metadata": {},
   "outputs": [
    {
     "name": "stdout",
     "output_type": "stream",
     "text": [
      "90909\n",
      "Slow service Inside or drive-through. Super busy here. Locals seem to love it - especially busy if the weather outside is sunny and nice.\n",
      "\n",
      "Generally appears unclean. Bathrooms are usually disgusting. Not cleaned enough or the customers are gross.\n",
      "\n",
      "WiFi for Internet rarely works. Usually unable to connect.\n",
      "Actual stars:  1\n",
      "Predicted stars:  2\n"
     ]
    }
   ],
   "source": [
    "import random\n",
    "\n",
    "rand_tag_num = random.randint(1,1000000)\n",
    "print(rand_tag_num)\n",
    "\n",
    "\n",
    "\n",
    "print(reviews_df[\"text\"][rand_tag_num])\n",
    "print(\"Actual stars: \", reviews_df[\"stars\"][rand_tag_num])\n",
    "print(\"Predicted stars: \", lstm.make_prediction(reviews_df[\"text\"][rand_tag_num]))"
   ]
  },
  {
   "cell_type": "code",
   "execution_count": 139,
   "metadata": {},
   "outputs": [
    {
     "name": "stdout",
     "output_type": "stream",
     "text": [
      "865234\n",
      "For anyone trying to compare this buffet to one that is double or triple the price, don't. Just get out your fat wallet and move over the strip. For others of us who want decent value with good, everyday food, this is the place. I'm not overly picky and I like non complicated food that I can identify with, I guess you'd call it comfort food. I've been to all those expensive buffets and I still say for the value Palace Station wins.\n",
      "Actual stars:  5\n",
      "Predicted stars:  2\n"
     ]
    }
   ],
   "source": [
    "#865234\n",
    "\n",
    "\n",
    "import random\n",
    "\n",
    "rand_tag_num = random.randint(1,1000000)\n",
    "print(rand_tag_num)\n",
    "\n",
    "\n",
    "\n",
    "print(reviews_df[\"text\"][rand_tag_num])\n",
    "print(\"Actual stars: \", reviews_df[\"stars\"][rand_tag_num])\n",
    "print(\"Predicted stars: \", lstm.make_prediction(reviews_df[\"text\"][rand_tag_num]))"
   ]
  },
  {
   "cell_type": "code",
   "execution_count": 140,
   "metadata": {},
   "outputs": [
    {
     "name": "stdout",
     "output_type": "stream",
     "text": [
      "950172\n",
      "I loved this place.  Great place to be. It just feels like living hanging here.  It's almost better than being in Hawaii.  Everyone was very nice. Not just the bartender who  gave us great service but also the host and who ever ran our food out while it was hot and fresh.\n",
      "Actual stars:  5\n",
      "Predicted stars:  4\n"
     ]
    }
   ],
   "source": [
    "#865234\n",
    "\n",
    "\n",
    "import random\n",
    "\n",
    "rand_tag_num = random.randint(1,1000000)\n",
    "print(rand_tag_num)\n",
    "\n",
    "\n",
    "\n",
    "print(reviews_df[\"text\"][rand_tag_num])\n",
    "print(\"Actual stars: \", reviews_df[\"stars\"][rand_tag_num])\n",
    "print(\"Predicted stars: \", lstm.make_prediction(reviews_df[\"text\"][rand_tag_num]))"
   ]
  },
  {
   "cell_type": "code",
   "execution_count": 141,
   "metadata": {},
   "outputs": [
    {
     "name": "stdout",
     "output_type": "stream",
     "text": [
      "312307\n",
      "This really is good Carolina BBQ. Even good or Sweet Tea.\n",
      "Actual stars:  4\n",
      "Predicted stars:  4\n"
     ]
    }
   ],
   "source": [
    "#865234\n",
    "\n",
    "\n",
    "import random\n",
    "\n",
    "rand_tag_num = random.randint(1,1000000)\n",
    "print(rand_tag_num)\n",
    "\n",
    "\n",
    "\n",
    "print(reviews_df[\"text\"][rand_tag_num])\n",
    "print(\"Actual stars: \", reviews_df[\"stars\"][rand_tag_num])\n",
    "print(\"Predicted stars: \", lstm.make_prediction(reviews_df[\"text\"][rand_tag_num]))"
   ]
  },
  {
   "cell_type": "code",
   "execution_count": 142,
   "metadata": {},
   "outputs": [
    {
     "name": "stdout",
     "output_type": "stream",
     "text": [
      "582810\n",
      "The place is small, great food and service I've had the Pilgrim and salad  and home made dressing was great! I want the recipe. \n",
      "\n",
      "The service is always good and the drinks as well.\n",
      "\n",
      "The Mesa location  we sat on the patio and it's bigger inside was a little loud.\n",
      "Actual stars:  4\n",
      "Predicted stars:  4\n"
     ]
    }
   ],
   "source": [
    "#865234\n",
    "\n",
    "\n",
    "import random\n",
    "\n",
    "rand_tag_num = random.randint(1,1000000)\n",
    "print(rand_tag_num)\n",
    "\n",
    "\n",
    "\n",
    "print(reviews_df[\"text\"][rand_tag_num])\n",
    "print(\"Actual stars: \", reviews_df[\"stars\"][rand_tag_num])\n",
    "print(\"Predicted stars: \", lstm.make_prediction(reviews_df[\"text\"][rand_tag_num]))"
   ]
  },
  {
   "cell_type": "code",
   "execution_count": 143,
   "metadata": {},
   "outputs": [
    {
     "name": "stdout",
     "output_type": "stream",
     "text": [
      "470914\n",
      "I ordered three banh mi, different flavors, asked for no jalapeno on any.  To go, so I didn't really open the bag before I left the premises.  Got home, all 3 had jalapeno.  BBQ Pork banh mi had a decent amount of meat, good flavor, and I'd say was the best of the three.  The grilled chicken & grilled steak ones had minimal amount of meat.  All three were very skimpy on the pickled vegetables, which is one of the distinctive flavors I like about banh mi.  They did use a good glop of mayo on all three sandwiches, which I am not really used to, but not super opposed to.  I'd give them another try, but not on any of the banh mi.  I hope their pho is better...\n",
      "Actual stars:  3\n",
      "Predicted stars:  3\n"
     ]
    }
   ],
   "source": [
    "#865234\n",
    "\n",
    "\n",
    "import random\n",
    "\n",
    "rand_tag_num = random.randint(1,1000000)\n",
    "print(rand_tag_num)\n",
    "\n",
    "\n",
    "\n",
    "print(reviews_df[\"text\"][rand_tag_num])\n",
    "print(\"Actual stars: \", reviews_df[\"stars\"][rand_tag_num])\n",
    "print(\"Predicted stars: \", lstm.make_prediction(reviews_df[\"text\"][rand_tag_num]))"
   ]
  },
  {
   "cell_type": "code",
   "execution_count": 144,
   "metadata": {},
   "outputs": [
    {
     "name": "stdout",
     "output_type": "stream",
     "text": [
      "580460\n",
      "The burgers are delicious and made using ethically-raised meat. There are loads of toppings to choose from and you really can't go wrong with New York Fries. Yes, it can be pricey. Yes, waiting for your order can take a couple of minutes longer than other places. But considering the rest of what I just mentioned, to me it's very worth it.\n",
      "Actual stars:  4\n",
      "Predicted stars:  4\n"
     ]
    }
   ],
   "source": [
    "#865234\n",
    "\n",
    "\n",
    "import random\n",
    "\n",
    "rand_tag_num = random.randint(1,1000000)\n",
    "print(rand_tag_num)\n",
    "\n",
    "\n",
    "\n",
    "print(reviews_df[\"text\"][rand_tag_num])\n",
    "print(\"Actual stars: \", reviews_df[\"stars\"][rand_tag_num])\n",
    "print(\"Predicted stars: \", lstm.make_prediction(reviews_df[\"text\"][rand_tag_num]))"
   ]
  },
  {
   "cell_type": "code",
   "execution_count": 145,
   "metadata": {},
   "outputs": [
    {
     "name": "stdout",
     "output_type": "stream",
     "text": [
      "922993\n",
      "In town for an event with customer.  Afterwards, I was craving for some boba tea.  Unfortunately, most are closed @ 9p or maybe 930p.  This is one of few that are open until 10p when we got there around 945p.\n",
      "\n",
      "Got the taro milk tea with boba.  First thing I noticed is that they uses a plastic lid, and not the sealed wrapped top that most other boba are known for.  Traditionally, if the top is sealed, you can then give it a good shake to make sure the boba is loosen and everything is well mixed.\n",
      "\n",
      "OK, it's purple, and has taro flavor.  Perhaps there was too much ice, but it tasted a bit watered down for a drink over $5.  The boba seemed to be about right in terms of it's chewiness, but just didn't have enough taro flavor overall.\n",
      "\n",
      "Now, this review is only on the 1 time I've had the boba drink.  Perhaps their shaved ice is better, but for now, this is just a mediocre place.  By the way, when I used the credit card, it automatically added more than 15% tip, which I had to manually adjust it down.  I know it's all part of marketing, but I would appreciate if tip were added by the customer if its well deserved.\n",
      "Actual stars:  2\n",
      "Predicted stars:  3\n"
     ]
    }
   ],
   "source": [
    "#865234\n",
    "\n",
    "\n",
    "import random\n",
    "\n",
    "rand_tag_num = random.randint(1,1000000)\n",
    "print(rand_tag_num)\n",
    "\n",
    "\n",
    "\n",
    "print(reviews_df[\"text\"][rand_tag_num])\n",
    "print(\"Actual stars: \", reviews_df[\"stars\"][rand_tag_num])\n",
    "print(\"Predicted stars: \", lstm.make_prediction(reviews_df[\"text\"][rand_tag_num]))"
   ]
  },
  {
   "cell_type": "code",
   "execution_count": 146,
   "metadata": {},
   "outputs": [
    {
     "name": "stdout",
     "output_type": "stream",
     "text": [
      "60864\n",
      "We want for brunch and did not like the food. The restaurant itself is a neat idea but the kitchen needs to go back to the drawing board. Some of the dishes were not well paired in ingredients.\n",
      "Actual stars:  2\n",
      "Predicted stars:  2\n"
     ]
    }
   ],
   "source": [
    "#865234\n",
    "\n",
    "\n",
    "import random\n",
    "\n",
    "rand_tag_num = random.randint(1,1000000)\n",
    "print(rand_tag_num)\n",
    "\n",
    "\n",
    "\n",
    "print(reviews_df[\"text\"][rand_tag_num])\n",
    "print(\"Actual stars: \", reviews_df[\"stars\"][rand_tag_num])\n",
    "print(\"Predicted stars: \", lstm.make_prediction(reviews_df[\"text\"][rand_tag_num]))"
   ]
  },
  {
   "cell_type": "code",
   "execution_count": 147,
   "metadata": {},
   "outputs": [
    {
     "name": "stdout",
     "output_type": "stream",
     "text": [
      "916765\n",
      "Diabetics:  Beware.  Stay away.  Buy some for me and don't eat any!  ;)\n",
      "\n",
      "OMG, soo good, probably the best butter tarts that I've had AND I'm not even a sweets person!  Definitely sweet though.  Wash down with unsweetened coffee/tea.\n",
      "\n",
      "About $2.50-3ea.  2 tarts were like $6 'n change.  \n",
      "\n",
      "I sorta 'forgot' about the tarts (Plain, Pecan) for a coupla days after SoupFest - long story - but when I ate them, they tasted fresh still.  An indication of the amount of sugar perhaps?  \n",
      "\n",
      "Pastry tasted like a butter cookie.  Will never buy that grocery store crap again as it can't even compare!  Mmm...drool... \n",
      "\n",
      "Tip:  A few spots around back of the building, in front of skatepark.\n",
      "Actual stars:  5\n",
      "Predicted stars:  1\n"
     ]
    }
   ],
   "source": []
  },
  {
   "cell_type": "code",
   "execution_count": 148,
   "metadata": {},
   "outputs": [
    {
     "name": "stdout",
     "output_type": "stream",
     "text": [
      "929998\n",
      "This place is always packed - try and make reservations if you're coming with a large party.\n",
      "Food is always decent and staff is always friendly. They try and be creative with their menu and change it up here and there which is great because it keeps things fun.\n",
      "Great patio as well to people watch.\n",
      "Actual stars:  3\n",
      "Predicted stars:  4\n"
     ]
    }
   ],
   "source": [
    "rand_tag_num = random.randint(1,1000000)\n",
    "print(rand_tag_num)\n",
    "\n",
    "\n",
    "\n",
    "print(reviews_df[\"text\"][rand_tag_num])\n",
    "print(\"Actual stars: \", reviews_df[\"stars\"][rand_tag_num])\n",
    "print(\"Predicted stars: \", lstm.make_prediction(reviews_df[\"text\"][rand_tag_num]))"
   ]
  },
  {
   "cell_type": "code",
   "execution_count": null,
   "metadata": {},
   "outputs": [],
   "source": []
  }
 ],
 "metadata": {
  "kernelspec": {
   "display_name": "Python 3",
   "language": "python",
   "name": "python3"
  },
  "language_info": {
   "codemirror_mode": {
    "name": "ipython",
    "version": 3
   },
   "file_extension": ".py",
   "mimetype": "text/x-python",
   "name": "python",
   "nbconvert_exporter": "python",
   "pygments_lexer": "ipython3",
   "version": "3.6.4"
  }
 },
 "nbformat": 4,
 "nbformat_minor": 2
}
